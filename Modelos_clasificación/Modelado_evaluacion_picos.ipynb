{
  "nbformat": 4,
  "nbformat_minor": 0,
  "metadata": {
    "colab": {
      "provenance": []
    },
    "kernelspec": {
      "display_name": "Python 3",
      "language": "python",
      "name": "python3"
    },
    "language_info": {
      "codemirror_mode": {
        "name": "ipython",
        "version": 3
      },
      "file_extension": ".py",
      "mimetype": "text/x-python",
      "name": "python",
      "nbconvert_exporter": "python",
      "pygments_lexer": "ipython3",
      "version": "3.8.5"
    }
  },
  "cells": [
    {
      "cell_type": "markdown",
      "metadata": {
        "id": "iDcgaumOO5iO"
      },
      "source": [
        "### MODELOS DE CLASIFICACION XGBOOST, CATBOOST Y RANDOM FOREST\n"
      ]
    },
    {
      "cell_type": "markdown",
      "metadata": {
        "id": "o05NC5jpOw6a"
      },
      "source": [
        "### **1.Instalación de Librerias**\n",
        "\n"
      ]
    },
    {
      "cell_type": "code",
      "metadata": {
        "id": "NCfVGI9FisXl"
      },
      "source": [
        "#Código para cargar achivos\n",
        "#from google.colab import files\n",
        "#uploaded = files.upload()"
      ],
      "execution_count": null,
      "outputs": []
    },
    {
      "cell_type": "code",
      "metadata": {
        "id": "bEva6HoNOw6a"
      },
      "source": [
        "#Librerías para manipulación de datos\n",
        "import numpy as np\n",
        "import pandas as pd\n",
        "\n",
        "#Librerías para visualización de datos\n",
        "import seaborn as sns\n",
        "import matplotlib.pyplot as plt\n",
        "\n",
        "%matplotlib inline\n",
        "plt.rcParams['figure.figsize'] = (16, 9)\n",
        "plt.style.use('ggplot')\n",
        "\n",
        "#Librerías para tratamiento, modelado y evaluación de datos\n",
        "from sklearn import tree\n",
        "from sklearn.metrics import classification_report\n",
        "from sklearn.metrics import accuracy_score\n",
        "from sklearn.model_selection import KFold,cross_val_score"
      ],
      "execution_count": null,
      "outputs": []
    },
    {
      "cell_type": "code",
      "metadata": {
        "id": "n9DAW6TGOw6b"
      },
      "source": [
        "#Carga de base de datos\n",
        "df = pd.read_csv('Clasificacion_picos_intensidad.csv',sep=\",\")"
      ],
      "execution_count": null,
      "outputs": []
    },
    {
      "cell_type": "code",
      "metadata": {
        "colab": {
          "base_uri": "https://localhost:8080/",
          "height": 244
        },
        "id": "_juGEMiA1xsq",
        "outputId": "f5f9f3d7-94da-4491-fd01-80c7f2127f7a"
      },
      "source": [
        "#Visualizar registros de mi dataset\n",
        "# picos_intens=0: no se sobrecarga y picos_intens=1: maquina se ha sobrecargado\n",
        "# y va a afectar la producción\n",
        "df.head()"
      ],
      "execution_count": null,
      "outputs": [
        {
          "output_type": "execute_result",
          "data": {
            "text/plain": [
              "   Unnamed: 0  Presion  Tonelaje  Velocidad  %Solidos  Potencia    F80  Brazo  \\\n",
              "0         316  6144.83   3323.11       8.83     74.20  10869.21  67.60   2.01   \n",
              "1         317  6143.40   3293.34       8.83     74.47  10867.19  67.42   1.99   \n",
              "2         318  6139.66   3331.12       8.83     74.50  10795.39  67.46   2.00   \n",
              "3         319  6138.42   3289.88       8.84     74.50  10801.26  67.08   2.01   \n",
              "4         320  6135.47   3286.99       8.84     74.26  10883.07  66.57   2.01   \n",
              "\n",
              "   picos_intens  \n",
              "0           0.0  \n",
              "1           0.0  \n",
              "2           0.0  \n",
              "3           0.0  \n",
              "4           0.0  "
            ],
            "text/html": [
              "\n",
              "  <div id=\"df-a9de8331-4674-47de-884f-65bcf328973c\" class=\"colab-df-container\">\n",
              "    <div>\n",
              "<style scoped>\n",
              "    .dataframe tbody tr th:only-of-type {\n",
              "        vertical-align: middle;\n",
              "    }\n",
              "\n",
              "    .dataframe tbody tr th {\n",
              "        vertical-align: top;\n",
              "    }\n",
              "\n",
              "    .dataframe thead th {\n",
              "        text-align: right;\n",
              "    }\n",
              "</style>\n",
              "<table border=\"1\" class=\"dataframe\">\n",
              "  <thead>\n",
              "    <tr style=\"text-align: right;\">\n",
              "      <th></th>\n",
              "      <th>Unnamed: 0</th>\n",
              "      <th>Presion</th>\n",
              "      <th>Tonelaje</th>\n",
              "      <th>Velocidad</th>\n",
              "      <th>%Solidos</th>\n",
              "      <th>Potencia</th>\n",
              "      <th>F80</th>\n",
              "      <th>Brazo</th>\n",
              "      <th>picos_intens</th>\n",
              "    </tr>\n",
              "  </thead>\n",
              "  <tbody>\n",
              "    <tr>\n",
              "      <th>0</th>\n",
              "      <td>316</td>\n",
              "      <td>6144.83</td>\n",
              "      <td>3323.11</td>\n",
              "      <td>8.83</td>\n",
              "      <td>74.20</td>\n",
              "      <td>10869.21</td>\n",
              "      <td>67.60</td>\n",
              "      <td>2.01</td>\n",
              "      <td>0.0</td>\n",
              "    </tr>\n",
              "    <tr>\n",
              "      <th>1</th>\n",
              "      <td>317</td>\n",
              "      <td>6143.40</td>\n",
              "      <td>3293.34</td>\n",
              "      <td>8.83</td>\n",
              "      <td>74.47</td>\n",
              "      <td>10867.19</td>\n",
              "      <td>67.42</td>\n",
              "      <td>1.99</td>\n",
              "      <td>0.0</td>\n",
              "    </tr>\n",
              "    <tr>\n",
              "      <th>2</th>\n",
              "      <td>318</td>\n",
              "      <td>6139.66</td>\n",
              "      <td>3331.12</td>\n",
              "      <td>8.83</td>\n",
              "      <td>74.50</td>\n",
              "      <td>10795.39</td>\n",
              "      <td>67.46</td>\n",
              "      <td>2.00</td>\n",
              "      <td>0.0</td>\n",
              "    </tr>\n",
              "    <tr>\n",
              "      <th>3</th>\n",
              "      <td>319</td>\n",
              "      <td>6138.42</td>\n",
              "      <td>3289.88</td>\n",
              "      <td>8.84</td>\n",
              "      <td>74.50</td>\n",
              "      <td>10801.26</td>\n",
              "      <td>67.08</td>\n",
              "      <td>2.01</td>\n",
              "      <td>0.0</td>\n",
              "    </tr>\n",
              "    <tr>\n",
              "      <th>4</th>\n",
              "      <td>320</td>\n",
              "      <td>6135.47</td>\n",
              "      <td>3286.99</td>\n",
              "      <td>8.84</td>\n",
              "      <td>74.26</td>\n",
              "      <td>10883.07</td>\n",
              "      <td>66.57</td>\n",
              "      <td>2.01</td>\n",
              "      <td>0.0</td>\n",
              "    </tr>\n",
              "  </tbody>\n",
              "</table>\n",
              "</div>\n",
              "    <div class=\"colab-df-buttons\">\n",
              "\n",
              "  <div class=\"colab-df-container\">\n",
              "    <button class=\"colab-df-convert\" onclick=\"convertToInteractive('df-a9de8331-4674-47de-884f-65bcf328973c')\"\n",
              "            title=\"Convert this dataframe to an interactive table.\"\n",
              "            style=\"display:none;\">\n",
              "\n",
              "  <svg xmlns=\"http://www.w3.org/2000/svg\" height=\"24px\" viewBox=\"0 -960 960 960\">\n",
              "    <path d=\"M120-120v-720h720v720H120Zm60-500h600v-160H180v160Zm220 220h160v-160H400v160Zm0 220h160v-160H400v160ZM180-400h160v-160H180v160Zm440 0h160v-160H620v160ZM180-180h160v-160H180v160Zm440 0h160v-160H620v160Z\"/>\n",
              "  </svg>\n",
              "    </button>\n",
              "\n",
              "  <style>\n",
              "    .colab-df-container {\n",
              "      display:flex;\n",
              "      gap: 12px;\n",
              "    }\n",
              "\n",
              "    .colab-df-convert {\n",
              "      background-color: #E8F0FE;\n",
              "      border: none;\n",
              "      border-radius: 50%;\n",
              "      cursor: pointer;\n",
              "      display: none;\n",
              "      fill: #1967D2;\n",
              "      height: 32px;\n",
              "      padding: 0 0 0 0;\n",
              "      width: 32px;\n",
              "    }\n",
              "\n",
              "    .colab-df-convert:hover {\n",
              "      background-color: #E2EBFA;\n",
              "      box-shadow: 0px 1px 2px rgba(60, 64, 67, 0.3), 0px 1px 3px 1px rgba(60, 64, 67, 0.15);\n",
              "      fill: #174EA6;\n",
              "    }\n",
              "\n",
              "    .colab-df-buttons div {\n",
              "      margin-bottom: 4px;\n",
              "    }\n",
              "\n",
              "    [theme=dark] .colab-df-convert {\n",
              "      background-color: #3B4455;\n",
              "      fill: #D2E3FC;\n",
              "    }\n",
              "\n",
              "    [theme=dark] .colab-df-convert:hover {\n",
              "      background-color: #434B5C;\n",
              "      box-shadow: 0px 1px 3px 1px rgba(0, 0, 0, 0.15);\n",
              "      filter: drop-shadow(0px 1px 2px rgba(0, 0, 0, 0.3));\n",
              "      fill: #FFFFFF;\n",
              "    }\n",
              "  </style>\n",
              "\n",
              "    <script>\n",
              "      const buttonEl =\n",
              "        document.querySelector('#df-a9de8331-4674-47de-884f-65bcf328973c button.colab-df-convert');\n",
              "      buttonEl.style.display =\n",
              "        google.colab.kernel.accessAllowed ? 'block' : 'none';\n",
              "\n",
              "      async function convertToInteractive(key) {\n",
              "        const element = document.querySelector('#df-a9de8331-4674-47de-884f-65bcf328973c');\n",
              "        const dataTable =\n",
              "          await google.colab.kernel.invokeFunction('convertToInteractive',\n",
              "                                                    [key], {});\n",
              "        if (!dataTable) return;\n",
              "\n",
              "        const docLinkHtml = 'Like what you see? Visit the ' +\n",
              "          '<a target=\"_blank\" href=https://colab.research.google.com/notebooks/data_table.ipynb>data table notebook</a>'\n",
              "          + ' to learn more about interactive tables.';\n",
              "        element.innerHTML = '';\n",
              "        dataTable['output_type'] = 'display_data';\n",
              "        await google.colab.output.renderOutput(dataTable, element);\n",
              "        const docLink = document.createElement('div');\n",
              "        docLink.innerHTML = docLinkHtml;\n",
              "        element.appendChild(docLink);\n",
              "      }\n",
              "    </script>\n",
              "  </div>\n",
              "\n",
              "\n",
              "<div id=\"df-5c670a69-5b7e-4180-b96b-fda57c93b718\">\n",
              "  <button class=\"colab-df-quickchart\" onclick=\"quickchart('df-5c670a69-5b7e-4180-b96b-fda57c93b718')\"\n",
              "            title=\"Suggest charts.\"\n",
              "            style=\"display:none;\">\n",
              "\n",
              "<svg xmlns=\"http://www.w3.org/2000/svg\" height=\"24px\"viewBox=\"0 0 24 24\"\n",
              "     width=\"24px\">\n",
              "    <g>\n",
              "        <path d=\"M19 3H5c-1.1 0-2 .9-2 2v14c0 1.1.9 2 2 2h14c1.1 0 2-.9 2-2V5c0-1.1-.9-2-2-2zM9 17H7v-7h2v7zm4 0h-2V7h2v10zm4 0h-2v-4h2v4z\"/>\n",
              "    </g>\n",
              "</svg>\n",
              "  </button>\n",
              "\n",
              "<style>\n",
              "  .colab-df-quickchart {\n",
              "      --bg-color: #E8F0FE;\n",
              "      --fill-color: #1967D2;\n",
              "      --hover-bg-color: #E2EBFA;\n",
              "      --hover-fill-color: #174EA6;\n",
              "      --disabled-fill-color: #AAA;\n",
              "      --disabled-bg-color: #DDD;\n",
              "  }\n",
              "\n",
              "  [theme=dark] .colab-df-quickchart {\n",
              "      --bg-color: #3B4455;\n",
              "      --fill-color: #D2E3FC;\n",
              "      --hover-bg-color: #434B5C;\n",
              "      --hover-fill-color: #FFFFFF;\n",
              "      --disabled-bg-color: #3B4455;\n",
              "      --disabled-fill-color: #666;\n",
              "  }\n",
              "\n",
              "  .colab-df-quickchart {\n",
              "    background-color: var(--bg-color);\n",
              "    border: none;\n",
              "    border-radius: 50%;\n",
              "    cursor: pointer;\n",
              "    display: none;\n",
              "    fill: var(--fill-color);\n",
              "    height: 32px;\n",
              "    padding: 0;\n",
              "    width: 32px;\n",
              "  }\n",
              "\n",
              "  .colab-df-quickchart:hover {\n",
              "    background-color: var(--hover-bg-color);\n",
              "    box-shadow: 0 1px 2px rgba(60, 64, 67, 0.3), 0 1px 3px 1px rgba(60, 64, 67, 0.15);\n",
              "    fill: var(--button-hover-fill-color);\n",
              "  }\n",
              "\n",
              "  .colab-df-quickchart-complete:disabled,\n",
              "  .colab-df-quickchart-complete:disabled:hover {\n",
              "    background-color: var(--disabled-bg-color);\n",
              "    fill: var(--disabled-fill-color);\n",
              "    box-shadow: none;\n",
              "  }\n",
              "\n",
              "  .colab-df-spinner {\n",
              "    border: 2px solid var(--fill-color);\n",
              "    border-color: transparent;\n",
              "    border-bottom-color: var(--fill-color);\n",
              "    animation:\n",
              "      spin 1s steps(1) infinite;\n",
              "  }\n",
              "\n",
              "  @keyframes spin {\n",
              "    0% {\n",
              "      border-color: transparent;\n",
              "      border-bottom-color: var(--fill-color);\n",
              "      border-left-color: var(--fill-color);\n",
              "    }\n",
              "    20% {\n",
              "      border-color: transparent;\n",
              "      border-left-color: var(--fill-color);\n",
              "      border-top-color: var(--fill-color);\n",
              "    }\n",
              "    30% {\n",
              "      border-color: transparent;\n",
              "      border-left-color: var(--fill-color);\n",
              "      border-top-color: var(--fill-color);\n",
              "      border-right-color: var(--fill-color);\n",
              "    }\n",
              "    40% {\n",
              "      border-color: transparent;\n",
              "      border-right-color: var(--fill-color);\n",
              "      border-top-color: var(--fill-color);\n",
              "    }\n",
              "    60% {\n",
              "      border-color: transparent;\n",
              "      border-right-color: var(--fill-color);\n",
              "    }\n",
              "    80% {\n",
              "      border-color: transparent;\n",
              "      border-right-color: var(--fill-color);\n",
              "      border-bottom-color: var(--fill-color);\n",
              "    }\n",
              "    90% {\n",
              "      border-color: transparent;\n",
              "      border-bottom-color: var(--fill-color);\n",
              "    }\n",
              "  }\n",
              "</style>\n",
              "\n",
              "  <script>\n",
              "    async function quickchart(key) {\n",
              "      const quickchartButtonEl =\n",
              "        document.querySelector('#' + key + ' button');\n",
              "      quickchartButtonEl.disabled = true;  // To prevent multiple clicks.\n",
              "      quickchartButtonEl.classList.add('colab-df-spinner');\n",
              "      try {\n",
              "        const charts = await google.colab.kernel.invokeFunction(\n",
              "            'suggestCharts', [key], {});\n",
              "      } catch (error) {\n",
              "        console.error('Error during call to suggestCharts:', error);\n",
              "      }\n",
              "      quickchartButtonEl.classList.remove('colab-df-spinner');\n",
              "      quickchartButtonEl.classList.add('colab-df-quickchart-complete');\n",
              "    }\n",
              "    (() => {\n",
              "      let quickchartButtonEl =\n",
              "        document.querySelector('#df-5c670a69-5b7e-4180-b96b-fda57c93b718 button');\n",
              "      quickchartButtonEl.style.display =\n",
              "        google.colab.kernel.accessAllowed ? 'block' : 'none';\n",
              "    })();\n",
              "  </script>\n",
              "</div>\n",
              "    </div>\n",
              "  </div>\n"
            ]
          },
          "metadata": {},
          "execution_count": 4
        }
      ]
    },
    {
      "cell_type": "code",
      "metadata": {
        "colab": {
          "base_uri": "https://localhost:8080/"
        },
        "id": "n4a4tJEtlqpR",
        "outputId": "ae4df54d-e4a2-4f75-e7a0-b53e078bdad1"
      },
      "source": [
        "#Dimensionalidad del dataset\n",
        "df.shape"
      ],
      "execution_count": null,
      "outputs": [
        {
          "output_type": "execute_result",
          "data": {
            "text/plain": [
              "(14375, 9)"
            ]
          },
          "metadata": {},
          "execution_count": 5
        }
      ]
    },
    {
      "cell_type": "code",
      "metadata": {
        "id": "9SU1lF591xss"
      },
      "source": [
        "#Eliminar columna\n",
        "df.drop(['Unnamed: 0'], axis='columns', inplace=True)"
      ],
      "execution_count": null,
      "outputs": []
    },
    {
      "cell_type": "code",
      "metadata": {
        "id": "utlzjGzE1xsu"
      },
      "source": [
        "#Cambiar tipo de datos y sobreescribir\n",
        "#En este caso se le coloca dos decimales a todos\n",
        "df=df.astype(float).round(2)  #int"
      ],
      "execution_count": null,
      "outputs": []
    },
    {
      "cell_type": "code",
      "metadata": {
        "colab": {
          "base_uri": "https://localhost:8080/",
          "height": 226
        },
        "id": "fnC34-mF1xsw",
        "outputId": "9e690614-b9df-4d97-8952-93655f803d77"
      },
      "source": [
        "df.head()"
      ],
      "execution_count": null,
      "outputs": [
        {
          "output_type": "execute_result",
          "data": {
            "text/plain": [
              "   Presion  Tonelaje  Velocidad  %Solidos  Potencia    F80  Brazo  \\\n",
              "0  6144.83   3323.11       8.83     74.20  10869.21  67.60   2.01   \n",
              "1  6143.40   3293.34       8.83     74.47  10867.19  67.42   1.99   \n",
              "2  6139.66   3331.12       8.83     74.50  10795.39  67.46   2.00   \n",
              "3  6138.42   3289.88       8.84     74.50  10801.26  67.08   2.01   \n",
              "4  6135.47   3286.99       8.84     74.26  10883.07  66.57   2.01   \n",
              "\n",
              "   picos_intens  \n",
              "0           0.0  \n",
              "1           0.0  \n",
              "2           0.0  \n",
              "3           0.0  \n",
              "4           0.0  "
            ],
            "text/html": [
              "\n",
              "  <div id=\"df-979972e6-9272-4114-a85f-68db5faa796e\" class=\"colab-df-container\">\n",
              "    <div>\n",
              "<style scoped>\n",
              "    .dataframe tbody tr th:only-of-type {\n",
              "        vertical-align: middle;\n",
              "    }\n",
              "\n",
              "    .dataframe tbody tr th {\n",
              "        vertical-align: top;\n",
              "    }\n",
              "\n",
              "    .dataframe thead th {\n",
              "        text-align: right;\n",
              "    }\n",
              "</style>\n",
              "<table border=\"1\" class=\"dataframe\">\n",
              "  <thead>\n",
              "    <tr style=\"text-align: right;\">\n",
              "      <th></th>\n",
              "      <th>Presion</th>\n",
              "      <th>Tonelaje</th>\n",
              "      <th>Velocidad</th>\n",
              "      <th>%Solidos</th>\n",
              "      <th>Potencia</th>\n",
              "      <th>F80</th>\n",
              "      <th>Brazo</th>\n",
              "      <th>picos_intens</th>\n",
              "    </tr>\n",
              "  </thead>\n",
              "  <tbody>\n",
              "    <tr>\n",
              "      <th>0</th>\n",
              "      <td>6144.83</td>\n",
              "      <td>3323.11</td>\n",
              "      <td>8.83</td>\n",
              "      <td>74.20</td>\n",
              "      <td>10869.21</td>\n",
              "      <td>67.60</td>\n",
              "      <td>2.01</td>\n",
              "      <td>0.0</td>\n",
              "    </tr>\n",
              "    <tr>\n",
              "      <th>1</th>\n",
              "      <td>6143.40</td>\n",
              "      <td>3293.34</td>\n",
              "      <td>8.83</td>\n",
              "      <td>74.47</td>\n",
              "      <td>10867.19</td>\n",
              "      <td>67.42</td>\n",
              "      <td>1.99</td>\n",
              "      <td>0.0</td>\n",
              "    </tr>\n",
              "    <tr>\n",
              "      <th>2</th>\n",
              "      <td>6139.66</td>\n",
              "      <td>3331.12</td>\n",
              "      <td>8.83</td>\n",
              "      <td>74.50</td>\n",
              "      <td>10795.39</td>\n",
              "      <td>67.46</td>\n",
              "      <td>2.00</td>\n",
              "      <td>0.0</td>\n",
              "    </tr>\n",
              "    <tr>\n",
              "      <th>3</th>\n",
              "      <td>6138.42</td>\n",
              "      <td>3289.88</td>\n",
              "      <td>8.84</td>\n",
              "      <td>74.50</td>\n",
              "      <td>10801.26</td>\n",
              "      <td>67.08</td>\n",
              "      <td>2.01</td>\n",
              "      <td>0.0</td>\n",
              "    </tr>\n",
              "    <tr>\n",
              "      <th>4</th>\n",
              "      <td>6135.47</td>\n",
              "      <td>3286.99</td>\n",
              "      <td>8.84</td>\n",
              "      <td>74.26</td>\n",
              "      <td>10883.07</td>\n",
              "      <td>66.57</td>\n",
              "      <td>2.01</td>\n",
              "      <td>0.0</td>\n",
              "    </tr>\n",
              "  </tbody>\n",
              "</table>\n",
              "</div>\n",
              "    <div class=\"colab-df-buttons\">\n",
              "\n",
              "  <div class=\"colab-df-container\">\n",
              "    <button class=\"colab-df-convert\" onclick=\"convertToInteractive('df-979972e6-9272-4114-a85f-68db5faa796e')\"\n",
              "            title=\"Convert this dataframe to an interactive table.\"\n",
              "            style=\"display:none;\">\n",
              "\n",
              "  <svg xmlns=\"http://www.w3.org/2000/svg\" height=\"24px\" viewBox=\"0 -960 960 960\">\n",
              "    <path d=\"M120-120v-720h720v720H120Zm60-500h600v-160H180v160Zm220 220h160v-160H400v160Zm0 220h160v-160H400v160ZM180-400h160v-160H180v160Zm440 0h160v-160H620v160ZM180-180h160v-160H180v160Zm440 0h160v-160H620v160Z\"/>\n",
              "  </svg>\n",
              "    </button>\n",
              "\n",
              "  <style>\n",
              "    .colab-df-container {\n",
              "      display:flex;\n",
              "      gap: 12px;\n",
              "    }\n",
              "\n",
              "    .colab-df-convert {\n",
              "      background-color: #E8F0FE;\n",
              "      border: none;\n",
              "      border-radius: 50%;\n",
              "      cursor: pointer;\n",
              "      display: none;\n",
              "      fill: #1967D2;\n",
              "      height: 32px;\n",
              "      padding: 0 0 0 0;\n",
              "      width: 32px;\n",
              "    }\n",
              "\n",
              "    .colab-df-convert:hover {\n",
              "      background-color: #E2EBFA;\n",
              "      box-shadow: 0px 1px 2px rgba(60, 64, 67, 0.3), 0px 1px 3px 1px rgba(60, 64, 67, 0.15);\n",
              "      fill: #174EA6;\n",
              "    }\n",
              "\n",
              "    .colab-df-buttons div {\n",
              "      margin-bottom: 4px;\n",
              "    }\n",
              "\n",
              "    [theme=dark] .colab-df-convert {\n",
              "      background-color: #3B4455;\n",
              "      fill: #D2E3FC;\n",
              "    }\n",
              "\n",
              "    [theme=dark] .colab-df-convert:hover {\n",
              "      background-color: #434B5C;\n",
              "      box-shadow: 0px 1px 3px 1px rgba(0, 0, 0, 0.15);\n",
              "      filter: drop-shadow(0px 1px 2px rgba(0, 0, 0, 0.3));\n",
              "      fill: #FFFFFF;\n",
              "    }\n",
              "  </style>\n",
              "\n",
              "    <script>\n",
              "      const buttonEl =\n",
              "        document.querySelector('#df-979972e6-9272-4114-a85f-68db5faa796e button.colab-df-convert');\n",
              "      buttonEl.style.display =\n",
              "        google.colab.kernel.accessAllowed ? 'block' : 'none';\n",
              "\n",
              "      async function convertToInteractive(key) {\n",
              "        const element = document.querySelector('#df-979972e6-9272-4114-a85f-68db5faa796e');\n",
              "        const dataTable =\n",
              "          await google.colab.kernel.invokeFunction('convertToInteractive',\n",
              "                                                    [key], {});\n",
              "        if (!dataTable) return;\n",
              "\n",
              "        const docLinkHtml = 'Like what you see? Visit the ' +\n",
              "          '<a target=\"_blank\" href=https://colab.research.google.com/notebooks/data_table.ipynb>data table notebook</a>'\n",
              "          + ' to learn more about interactive tables.';\n",
              "        element.innerHTML = '';\n",
              "        dataTable['output_type'] = 'display_data';\n",
              "        await google.colab.output.renderOutput(dataTable, element);\n",
              "        const docLink = document.createElement('div');\n",
              "        docLink.innerHTML = docLinkHtml;\n",
              "        element.appendChild(docLink);\n",
              "      }\n",
              "    </script>\n",
              "  </div>\n",
              "\n",
              "\n",
              "<div id=\"df-c12f0ed5-af7c-4239-9eff-6244a0bacfde\">\n",
              "  <button class=\"colab-df-quickchart\" onclick=\"quickchart('df-c12f0ed5-af7c-4239-9eff-6244a0bacfde')\"\n",
              "            title=\"Suggest charts.\"\n",
              "            style=\"display:none;\">\n",
              "\n",
              "<svg xmlns=\"http://www.w3.org/2000/svg\" height=\"24px\"viewBox=\"0 0 24 24\"\n",
              "     width=\"24px\">\n",
              "    <g>\n",
              "        <path d=\"M19 3H5c-1.1 0-2 .9-2 2v14c0 1.1.9 2 2 2h14c1.1 0 2-.9 2-2V5c0-1.1-.9-2-2-2zM9 17H7v-7h2v7zm4 0h-2V7h2v10zm4 0h-2v-4h2v4z\"/>\n",
              "    </g>\n",
              "</svg>\n",
              "  </button>\n",
              "\n",
              "<style>\n",
              "  .colab-df-quickchart {\n",
              "      --bg-color: #E8F0FE;\n",
              "      --fill-color: #1967D2;\n",
              "      --hover-bg-color: #E2EBFA;\n",
              "      --hover-fill-color: #174EA6;\n",
              "      --disabled-fill-color: #AAA;\n",
              "      --disabled-bg-color: #DDD;\n",
              "  }\n",
              "\n",
              "  [theme=dark] .colab-df-quickchart {\n",
              "      --bg-color: #3B4455;\n",
              "      --fill-color: #D2E3FC;\n",
              "      --hover-bg-color: #434B5C;\n",
              "      --hover-fill-color: #FFFFFF;\n",
              "      --disabled-bg-color: #3B4455;\n",
              "      --disabled-fill-color: #666;\n",
              "  }\n",
              "\n",
              "  .colab-df-quickchart {\n",
              "    background-color: var(--bg-color);\n",
              "    border: none;\n",
              "    border-radius: 50%;\n",
              "    cursor: pointer;\n",
              "    display: none;\n",
              "    fill: var(--fill-color);\n",
              "    height: 32px;\n",
              "    padding: 0;\n",
              "    width: 32px;\n",
              "  }\n",
              "\n",
              "  .colab-df-quickchart:hover {\n",
              "    background-color: var(--hover-bg-color);\n",
              "    box-shadow: 0 1px 2px rgba(60, 64, 67, 0.3), 0 1px 3px 1px rgba(60, 64, 67, 0.15);\n",
              "    fill: var(--button-hover-fill-color);\n",
              "  }\n",
              "\n",
              "  .colab-df-quickchart-complete:disabled,\n",
              "  .colab-df-quickchart-complete:disabled:hover {\n",
              "    background-color: var(--disabled-bg-color);\n",
              "    fill: var(--disabled-fill-color);\n",
              "    box-shadow: none;\n",
              "  }\n",
              "\n",
              "  .colab-df-spinner {\n",
              "    border: 2px solid var(--fill-color);\n",
              "    border-color: transparent;\n",
              "    border-bottom-color: var(--fill-color);\n",
              "    animation:\n",
              "      spin 1s steps(1) infinite;\n",
              "  }\n",
              "\n",
              "  @keyframes spin {\n",
              "    0% {\n",
              "      border-color: transparent;\n",
              "      border-bottom-color: var(--fill-color);\n",
              "      border-left-color: var(--fill-color);\n",
              "    }\n",
              "    20% {\n",
              "      border-color: transparent;\n",
              "      border-left-color: var(--fill-color);\n",
              "      border-top-color: var(--fill-color);\n",
              "    }\n",
              "    30% {\n",
              "      border-color: transparent;\n",
              "      border-left-color: var(--fill-color);\n",
              "      border-top-color: var(--fill-color);\n",
              "      border-right-color: var(--fill-color);\n",
              "    }\n",
              "    40% {\n",
              "      border-color: transparent;\n",
              "      border-right-color: var(--fill-color);\n",
              "      border-top-color: var(--fill-color);\n",
              "    }\n",
              "    60% {\n",
              "      border-color: transparent;\n",
              "      border-right-color: var(--fill-color);\n",
              "    }\n",
              "    80% {\n",
              "      border-color: transparent;\n",
              "      border-right-color: var(--fill-color);\n",
              "      border-bottom-color: var(--fill-color);\n",
              "    }\n",
              "    90% {\n",
              "      border-color: transparent;\n",
              "      border-bottom-color: var(--fill-color);\n",
              "    }\n",
              "  }\n",
              "</style>\n",
              "\n",
              "  <script>\n",
              "    async function quickchart(key) {\n",
              "      const quickchartButtonEl =\n",
              "        document.querySelector('#' + key + ' button');\n",
              "      quickchartButtonEl.disabled = true;  // To prevent multiple clicks.\n",
              "      quickchartButtonEl.classList.add('colab-df-spinner');\n",
              "      try {\n",
              "        const charts = await google.colab.kernel.invokeFunction(\n",
              "            'suggestCharts', [key], {});\n",
              "      } catch (error) {\n",
              "        console.error('Error during call to suggestCharts:', error);\n",
              "      }\n",
              "      quickchartButtonEl.classList.remove('colab-df-spinner');\n",
              "      quickchartButtonEl.classList.add('colab-df-quickchart-complete');\n",
              "    }\n",
              "    (() => {\n",
              "      let quickchartButtonEl =\n",
              "        document.querySelector('#df-c12f0ed5-af7c-4239-9eff-6244a0bacfde button');\n",
              "      quickchartButtonEl.style.display =\n",
              "        google.colab.kernel.accessAllowed ? 'block' : 'none';\n",
              "    })();\n",
              "  </script>\n",
              "</div>\n",
              "    </div>\n",
              "  </div>\n"
            ]
          },
          "metadata": {},
          "execution_count": 8
        }
      ]
    },
    {
      "cell_type": "code",
      "metadata": {
        "colab": {
          "base_uri": "https://localhost:8080/",
          "height": 320
        },
        "id": "uDqRzRTX1xsx",
        "outputId": "9e112324-0b29-48c8-c52b-1d023607e97f"
      },
      "source": [
        "#Revision descriptiva\n",
        "df.describe()"
      ],
      "execution_count": null,
      "outputs": [
        {
          "output_type": "execute_result",
          "data": {
            "text/plain": [
              "            Presion      Tonelaje     Velocidad      %Solidos      Potencia  \\\n",
              "count  14375.000000  14375.000000  14375.000000  14375.000000  14375.000000   \n",
              "mean    6015.786763   3363.326903      8.839000     75.487416  11667.772478   \n",
              "std      134.324754    537.442267      0.536565      7.061388   1569.146488   \n",
              "min     5566.500000      0.050000      0.010000      0.000000    -23.010000   \n",
              "25%     5946.590000   3092.900000      8.720000     74.330000  10713.705000   \n",
              "50%     6032.640000   3357.810000      8.870000     75.980000  11353.280000   \n",
              "75%     6104.040000   3662.140000      8.940000     77.850000  12634.270000   \n",
              "max     6483.500000   4547.040000      9.340000     84.830000  15750.450000   \n",
              "\n",
              "                F80         Brazo  picos_intens  \n",
              "count  14375.000000  14375.000000  14375.000000  \n",
              "mean      64.747783      2.186024      0.104835  \n",
              "std       13.439820      0.226976      0.306351  \n",
              "min        7.640000     -0.820000      0.000000  \n",
              "25%       55.095000      2.020000      0.000000  \n",
              "50%       66.530000      2.160000      0.000000  \n",
              "75%       76.280000      2.370000      0.000000  \n",
              "max       91.370000      2.750000      1.000000  "
            ],
            "text/html": [
              "\n",
              "  <div id=\"df-b64fa8b1-5f83-4667-9571-c374e8bd4329\" class=\"colab-df-container\">\n",
              "    <div>\n",
              "<style scoped>\n",
              "    .dataframe tbody tr th:only-of-type {\n",
              "        vertical-align: middle;\n",
              "    }\n",
              "\n",
              "    .dataframe tbody tr th {\n",
              "        vertical-align: top;\n",
              "    }\n",
              "\n",
              "    .dataframe thead th {\n",
              "        text-align: right;\n",
              "    }\n",
              "</style>\n",
              "<table border=\"1\" class=\"dataframe\">\n",
              "  <thead>\n",
              "    <tr style=\"text-align: right;\">\n",
              "      <th></th>\n",
              "      <th>Presion</th>\n",
              "      <th>Tonelaje</th>\n",
              "      <th>Velocidad</th>\n",
              "      <th>%Solidos</th>\n",
              "      <th>Potencia</th>\n",
              "      <th>F80</th>\n",
              "      <th>Brazo</th>\n",
              "      <th>picos_intens</th>\n",
              "    </tr>\n",
              "  </thead>\n",
              "  <tbody>\n",
              "    <tr>\n",
              "      <th>count</th>\n",
              "      <td>14375.000000</td>\n",
              "      <td>14375.000000</td>\n",
              "      <td>14375.000000</td>\n",
              "      <td>14375.000000</td>\n",
              "      <td>14375.000000</td>\n",
              "      <td>14375.000000</td>\n",
              "      <td>14375.000000</td>\n",
              "      <td>14375.000000</td>\n",
              "    </tr>\n",
              "    <tr>\n",
              "      <th>mean</th>\n",
              "      <td>6015.786763</td>\n",
              "      <td>3363.326903</td>\n",
              "      <td>8.839000</td>\n",
              "      <td>75.487416</td>\n",
              "      <td>11667.772478</td>\n",
              "      <td>64.747783</td>\n",
              "      <td>2.186024</td>\n",
              "      <td>0.104835</td>\n",
              "    </tr>\n",
              "    <tr>\n",
              "      <th>std</th>\n",
              "      <td>134.324754</td>\n",
              "      <td>537.442267</td>\n",
              "      <td>0.536565</td>\n",
              "      <td>7.061388</td>\n",
              "      <td>1569.146488</td>\n",
              "      <td>13.439820</td>\n",
              "      <td>0.226976</td>\n",
              "      <td>0.306351</td>\n",
              "    </tr>\n",
              "    <tr>\n",
              "      <th>min</th>\n",
              "      <td>5566.500000</td>\n",
              "      <td>0.050000</td>\n",
              "      <td>0.010000</td>\n",
              "      <td>0.000000</td>\n",
              "      <td>-23.010000</td>\n",
              "      <td>7.640000</td>\n",
              "      <td>-0.820000</td>\n",
              "      <td>0.000000</td>\n",
              "    </tr>\n",
              "    <tr>\n",
              "      <th>25%</th>\n",
              "      <td>5946.590000</td>\n",
              "      <td>3092.900000</td>\n",
              "      <td>8.720000</td>\n",
              "      <td>74.330000</td>\n",
              "      <td>10713.705000</td>\n",
              "      <td>55.095000</td>\n",
              "      <td>2.020000</td>\n",
              "      <td>0.000000</td>\n",
              "    </tr>\n",
              "    <tr>\n",
              "      <th>50%</th>\n",
              "      <td>6032.640000</td>\n",
              "      <td>3357.810000</td>\n",
              "      <td>8.870000</td>\n",
              "      <td>75.980000</td>\n",
              "      <td>11353.280000</td>\n",
              "      <td>66.530000</td>\n",
              "      <td>2.160000</td>\n",
              "      <td>0.000000</td>\n",
              "    </tr>\n",
              "    <tr>\n",
              "      <th>75%</th>\n",
              "      <td>6104.040000</td>\n",
              "      <td>3662.140000</td>\n",
              "      <td>8.940000</td>\n",
              "      <td>77.850000</td>\n",
              "      <td>12634.270000</td>\n",
              "      <td>76.280000</td>\n",
              "      <td>2.370000</td>\n",
              "      <td>0.000000</td>\n",
              "    </tr>\n",
              "    <tr>\n",
              "      <th>max</th>\n",
              "      <td>6483.500000</td>\n",
              "      <td>4547.040000</td>\n",
              "      <td>9.340000</td>\n",
              "      <td>84.830000</td>\n",
              "      <td>15750.450000</td>\n",
              "      <td>91.370000</td>\n",
              "      <td>2.750000</td>\n",
              "      <td>1.000000</td>\n",
              "    </tr>\n",
              "  </tbody>\n",
              "</table>\n",
              "</div>\n",
              "    <div class=\"colab-df-buttons\">\n",
              "\n",
              "  <div class=\"colab-df-container\">\n",
              "    <button class=\"colab-df-convert\" onclick=\"convertToInteractive('df-b64fa8b1-5f83-4667-9571-c374e8bd4329')\"\n",
              "            title=\"Convert this dataframe to an interactive table.\"\n",
              "            style=\"display:none;\">\n",
              "\n",
              "  <svg xmlns=\"http://www.w3.org/2000/svg\" height=\"24px\" viewBox=\"0 -960 960 960\">\n",
              "    <path d=\"M120-120v-720h720v720H120Zm60-500h600v-160H180v160Zm220 220h160v-160H400v160Zm0 220h160v-160H400v160ZM180-400h160v-160H180v160Zm440 0h160v-160H620v160ZM180-180h160v-160H180v160Zm440 0h160v-160H620v160Z\"/>\n",
              "  </svg>\n",
              "    </button>\n",
              "\n",
              "  <style>\n",
              "    .colab-df-container {\n",
              "      display:flex;\n",
              "      gap: 12px;\n",
              "    }\n",
              "\n",
              "    .colab-df-convert {\n",
              "      background-color: #E8F0FE;\n",
              "      border: none;\n",
              "      border-radius: 50%;\n",
              "      cursor: pointer;\n",
              "      display: none;\n",
              "      fill: #1967D2;\n",
              "      height: 32px;\n",
              "      padding: 0 0 0 0;\n",
              "      width: 32px;\n",
              "    }\n",
              "\n",
              "    .colab-df-convert:hover {\n",
              "      background-color: #E2EBFA;\n",
              "      box-shadow: 0px 1px 2px rgba(60, 64, 67, 0.3), 0px 1px 3px 1px rgba(60, 64, 67, 0.15);\n",
              "      fill: #174EA6;\n",
              "    }\n",
              "\n",
              "    .colab-df-buttons div {\n",
              "      margin-bottom: 4px;\n",
              "    }\n",
              "\n",
              "    [theme=dark] .colab-df-convert {\n",
              "      background-color: #3B4455;\n",
              "      fill: #D2E3FC;\n",
              "    }\n",
              "\n",
              "    [theme=dark] .colab-df-convert:hover {\n",
              "      background-color: #434B5C;\n",
              "      box-shadow: 0px 1px 3px 1px rgba(0, 0, 0, 0.15);\n",
              "      filter: drop-shadow(0px 1px 2px rgba(0, 0, 0, 0.3));\n",
              "      fill: #FFFFFF;\n",
              "    }\n",
              "  </style>\n",
              "\n",
              "    <script>\n",
              "      const buttonEl =\n",
              "        document.querySelector('#df-b64fa8b1-5f83-4667-9571-c374e8bd4329 button.colab-df-convert');\n",
              "      buttonEl.style.display =\n",
              "        google.colab.kernel.accessAllowed ? 'block' : 'none';\n",
              "\n",
              "      async function convertToInteractive(key) {\n",
              "        const element = document.querySelector('#df-b64fa8b1-5f83-4667-9571-c374e8bd4329');\n",
              "        const dataTable =\n",
              "          await google.colab.kernel.invokeFunction('convertToInteractive',\n",
              "                                                    [key], {});\n",
              "        if (!dataTable) return;\n",
              "\n",
              "        const docLinkHtml = 'Like what you see? Visit the ' +\n",
              "          '<a target=\"_blank\" href=https://colab.research.google.com/notebooks/data_table.ipynb>data table notebook</a>'\n",
              "          + ' to learn more about interactive tables.';\n",
              "        element.innerHTML = '';\n",
              "        dataTable['output_type'] = 'display_data';\n",
              "        await google.colab.output.renderOutput(dataTable, element);\n",
              "        const docLink = document.createElement('div');\n",
              "        docLink.innerHTML = docLinkHtml;\n",
              "        element.appendChild(docLink);\n",
              "      }\n",
              "    </script>\n",
              "  </div>\n",
              "\n",
              "\n",
              "<div id=\"df-65019553-4a79-4580-b527-a188fb76c8d2\">\n",
              "  <button class=\"colab-df-quickchart\" onclick=\"quickchart('df-65019553-4a79-4580-b527-a188fb76c8d2')\"\n",
              "            title=\"Suggest charts.\"\n",
              "            style=\"display:none;\">\n",
              "\n",
              "<svg xmlns=\"http://www.w3.org/2000/svg\" height=\"24px\"viewBox=\"0 0 24 24\"\n",
              "     width=\"24px\">\n",
              "    <g>\n",
              "        <path d=\"M19 3H5c-1.1 0-2 .9-2 2v14c0 1.1.9 2 2 2h14c1.1 0 2-.9 2-2V5c0-1.1-.9-2-2-2zM9 17H7v-7h2v7zm4 0h-2V7h2v10zm4 0h-2v-4h2v4z\"/>\n",
              "    </g>\n",
              "</svg>\n",
              "  </button>\n",
              "\n",
              "<style>\n",
              "  .colab-df-quickchart {\n",
              "      --bg-color: #E8F0FE;\n",
              "      --fill-color: #1967D2;\n",
              "      --hover-bg-color: #E2EBFA;\n",
              "      --hover-fill-color: #174EA6;\n",
              "      --disabled-fill-color: #AAA;\n",
              "      --disabled-bg-color: #DDD;\n",
              "  }\n",
              "\n",
              "  [theme=dark] .colab-df-quickchart {\n",
              "      --bg-color: #3B4455;\n",
              "      --fill-color: #D2E3FC;\n",
              "      --hover-bg-color: #434B5C;\n",
              "      --hover-fill-color: #FFFFFF;\n",
              "      --disabled-bg-color: #3B4455;\n",
              "      --disabled-fill-color: #666;\n",
              "  }\n",
              "\n",
              "  .colab-df-quickchart {\n",
              "    background-color: var(--bg-color);\n",
              "    border: none;\n",
              "    border-radius: 50%;\n",
              "    cursor: pointer;\n",
              "    display: none;\n",
              "    fill: var(--fill-color);\n",
              "    height: 32px;\n",
              "    padding: 0;\n",
              "    width: 32px;\n",
              "  }\n",
              "\n",
              "  .colab-df-quickchart:hover {\n",
              "    background-color: var(--hover-bg-color);\n",
              "    box-shadow: 0 1px 2px rgba(60, 64, 67, 0.3), 0 1px 3px 1px rgba(60, 64, 67, 0.15);\n",
              "    fill: var(--button-hover-fill-color);\n",
              "  }\n",
              "\n",
              "  .colab-df-quickchart-complete:disabled,\n",
              "  .colab-df-quickchart-complete:disabled:hover {\n",
              "    background-color: var(--disabled-bg-color);\n",
              "    fill: var(--disabled-fill-color);\n",
              "    box-shadow: none;\n",
              "  }\n",
              "\n",
              "  .colab-df-spinner {\n",
              "    border: 2px solid var(--fill-color);\n",
              "    border-color: transparent;\n",
              "    border-bottom-color: var(--fill-color);\n",
              "    animation:\n",
              "      spin 1s steps(1) infinite;\n",
              "  }\n",
              "\n",
              "  @keyframes spin {\n",
              "    0% {\n",
              "      border-color: transparent;\n",
              "      border-bottom-color: var(--fill-color);\n",
              "      border-left-color: var(--fill-color);\n",
              "    }\n",
              "    20% {\n",
              "      border-color: transparent;\n",
              "      border-left-color: var(--fill-color);\n",
              "      border-top-color: var(--fill-color);\n",
              "    }\n",
              "    30% {\n",
              "      border-color: transparent;\n",
              "      border-left-color: var(--fill-color);\n",
              "      border-top-color: var(--fill-color);\n",
              "      border-right-color: var(--fill-color);\n",
              "    }\n",
              "    40% {\n",
              "      border-color: transparent;\n",
              "      border-right-color: var(--fill-color);\n",
              "      border-top-color: var(--fill-color);\n",
              "    }\n",
              "    60% {\n",
              "      border-color: transparent;\n",
              "      border-right-color: var(--fill-color);\n",
              "    }\n",
              "    80% {\n",
              "      border-color: transparent;\n",
              "      border-right-color: var(--fill-color);\n",
              "      border-bottom-color: var(--fill-color);\n",
              "    }\n",
              "    90% {\n",
              "      border-color: transparent;\n",
              "      border-bottom-color: var(--fill-color);\n",
              "    }\n",
              "  }\n",
              "</style>\n",
              "\n",
              "  <script>\n",
              "    async function quickchart(key) {\n",
              "      const quickchartButtonEl =\n",
              "        document.querySelector('#' + key + ' button');\n",
              "      quickchartButtonEl.disabled = true;  // To prevent multiple clicks.\n",
              "      quickchartButtonEl.classList.add('colab-df-spinner');\n",
              "      try {\n",
              "        const charts = await google.colab.kernel.invokeFunction(\n",
              "            'suggestCharts', [key], {});\n",
              "      } catch (error) {\n",
              "        console.error('Error during call to suggestCharts:', error);\n",
              "      }\n",
              "      quickchartButtonEl.classList.remove('colab-df-spinner');\n",
              "      quickchartButtonEl.classList.add('colab-df-quickchart-complete');\n",
              "    }\n",
              "    (() => {\n",
              "      let quickchartButtonEl =\n",
              "        document.querySelector('#df-65019553-4a79-4580-b527-a188fb76c8d2 button');\n",
              "      quickchartButtonEl.style.display =\n",
              "        google.colab.kernel.accessAllowed ? 'block' : 'none';\n",
              "    })();\n",
              "  </script>\n",
              "</div>\n",
              "    </div>\n",
              "  </div>\n"
            ]
          },
          "metadata": {},
          "execution_count": 9
        }
      ]
    },
    {
      "cell_type": "code",
      "metadata": {
        "colab": {
          "base_uri": "https://localhost:8080/"
        },
        "id": "Xzsymkwm1xsz",
        "outputId": "15f890ed-f9d1-4030-c154-89c8176471df"
      },
      "source": [
        "#Distribución de la variable Target\n",
        "df['picos_intens'].value_counts()"
      ],
      "execution_count": null,
      "outputs": [
        {
          "output_type": "execute_result",
          "data": {
            "text/plain": [
              "0.0    12868\n",
              "1.0     1507\n",
              "Name: picos_intens, dtype: int64"
            ]
          },
          "metadata": {},
          "execution_count": 10
        }
      ]
    },
    {
      "cell_type": "code",
      "source": [
        "#Distribución de la variable Target en %\n",
        "round(df['picos_intens'].value_counts() / len(df) * 100, 2)"
      ],
      "metadata": {
        "colab": {
          "base_uri": "https://localhost:8080/"
        },
        "id": "5BCplT18IUpY",
        "outputId": "5f22214b-0014-4161-f0fe-8efd40cbc403"
      },
      "execution_count": null,
      "outputs": [
        {
          "output_type": "execute_result",
          "data": {
            "text/plain": [
              "0.0    89.52\n",
              "1.0    10.48\n",
              "Name: picos_intens, dtype: float64"
            ]
          },
          "metadata": {},
          "execution_count": 11
        }
      ]
    },
    {
      "cell_type": "code",
      "metadata": {
        "id": "-5FdYpH31xs1"
      },
      "source": [
        "#Guardaos en otra variable el DF para trabajar con otro\n",
        "#y no afectar el original\n",
        "data=df"
      ],
      "execution_count": null,
      "outputs": []
    },
    {
      "cell_type": "markdown",
      "metadata": {
        "id": "gsUOA1L-VW7e"
      },
      "source": [
        "### **3. Exploracion de datos**"
      ]
    },
    {
      "cell_type": "code",
      "metadata": {
        "colab": {
          "base_uri": "https://localhost:8080/"
        },
        "id": "UwPnVAGNlc8P",
        "outputId": "7469a8ae-a735-4658-d94d-b9df75ee3ae6"
      },
      "source": [
        "# identificando valores Nulos\n",
        "data.isnull().sum().sort_values(ascending=False)"
      ],
      "execution_count": null,
      "outputs": [
        {
          "output_type": "execute_result",
          "data": {
            "text/plain": [
              "Presion         0\n",
              "Tonelaje        0\n",
              "Velocidad       0\n",
              "%Solidos        0\n",
              "Potencia        0\n",
              "F80             0\n",
              "Brazo           0\n",
              "picos_intens    0\n",
              "dtype: int64"
            ]
          },
          "metadata": {},
          "execution_count": 13
        }
      ]
    },
    {
      "cell_type": "code",
      "metadata": {
        "colab": {
          "base_uri": "https://localhost:8080/"
        },
        "id": "7NlQ8E4z1xs5",
        "outputId": "ece5c292-ccb7-4e70-bde0-161a8f7e9005"
      },
      "source": [
        "data.columns"
      ],
      "execution_count": null,
      "outputs": [
        {
          "output_type": "execute_result",
          "data": {
            "text/plain": [
              "Index(['Presion', 'Tonelaje', 'Velocidad', '%Solidos', 'Potencia', 'F80',\n",
              "       'Brazo', 'picos_intens'],\n",
              "      dtype='object')"
            ]
          },
          "metadata": {},
          "execution_count": 14
        }
      ]
    },
    {
      "cell_type": "code",
      "metadata": {
        "colab": {
          "base_uri": "https://localhost:8080/"
        },
        "id": "iLT9TvEp1xs7",
        "outputId": "c5b41afd-a2f7-4f24-9030-acbcbcf9bb38"
      },
      "source": [
        "round(1507 / 14375,4)"
      ],
      "execution_count": null,
      "outputs": [
        {
          "output_type": "execute_result",
          "data": {
            "text/plain": [
              "0.1048"
            ]
          },
          "metadata": {},
          "execution_count": 15
        }
      ]
    },
    {
      "cell_type": "code",
      "metadata": {
        "colab": {
          "base_uri": "https://localhost:8080/"
        },
        "id": "J5Ha98-r1xtG",
        "outputId": "f8c052d1-5333-4bc9-cde3-59be0f1b519c"
      },
      "source": [
        "#Distribución de la variable Target en %\n",
        "round(data.picos_intens.value_counts(normalize=True) * 100, 4)"
      ],
      "execution_count": null,
      "outputs": [
        {
          "output_type": "execute_result",
          "data": {
            "text/plain": [
              "0.0    89.5165\n",
              "1.0    10.4835\n",
              "Name: picos_intens, dtype: float64"
            ]
          },
          "metadata": {},
          "execution_count": 16
        }
      ]
    },
    {
      "cell_type": "code",
      "metadata": {
        "colab": {
          "base_uri": "https://localhost:8080/",
          "height": 437
        },
        "id": "EJCuPji2W_Xg",
        "outputId": "ac3a45f4-cc09-4e3c-892f-1f072bec7b00"
      },
      "source": [
        "# Detección del desbalance de la muestras\n",
        "target_count = data.picos_intens.value_counts()\n",
        "print('Class 0 Intensidad_Normal:', target_count[0])\n",
        "print('Class 1 Intensidad_Pico:', target_count[1])\n",
        "print('Proporción:', round(target_count[0] / target_count[1], 2), ': 1')\n",
        "target_count.plot(kind='bar', title='Count (target)');"
      ],
      "execution_count": null,
      "outputs": [
        {
          "output_type": "stream",
          "name": "stdout",
          "text": [
            "Class 0 Intensidad_Normal: 12868\n",
            "Class 1 Intensidad_Pico: 1507\n",
            "Proporción: 8.54 : 1\n"
          ]
        },
        {
          "output_type": "display_data",
          "data": {
            "text/plain": [
              "<Figure size 1600x900 with 1 Axes>"
            ],
            "image/png": "[encoded data removed]"
          },
          "metadata": {}
        }
      ]
    },
    {
      "cell_type": "code",
      "source": [],
      "metadata": {
        "id": "P1MUz3nvMZS5"
      },
      "execution_count": null,
      "outputs": []
    },
    {
      "cell_type": "markdown",
      "source": [
        "Hace falta hacer el proceso de Entendimiento, Tratamiento y Analisís\n",
        "para que sea un Proyecto completo\n"
      ],
      "metadata": {
        "id": "VjVE0FXfMaAL"
      }
    },
    {
      "cell_type": "markdown",
      "metadata": {
        "id": "LmXzcK4_YdjW"
      },
      "source": [
        "### **4. Separando una muestra para verificar resultado de estrategias de muestreo**"
      ]
    },
    {
      "cell_type": "code",
      "metadata": {
        "id": "7mn-PC4jYwzr"
      },
      "source": [
        "# Seleccionaremos un 35% de los datos para estudiar el beneficio de las estretgias de muestreo\n",
        "# Se deben Colocar las variables que realmente tienen participación(+significativas)\n",
        "#con el target determinadas en el paso previo\n",
        "\n",
        "X = data[['Presion',  'Tonelaje', 'Velocidad','%Solidos', 'Potencia', 'F80', 'Brazo']]\n",
        "y = data[['picos_intens']]\n",
        "\n",
        "import sklearn.model_selection as model_selection\n",
        "\n",
        "X_train, X_test, y_train, y_test = model_selection.train_test_split(X,y,test_size=0.35,random_state=42)"
      ],
      "execution_count": null,
      "outputs": []
    },
    {
      "cell_type": "markdown",
      "metadata": {
        "id": "GB9E7_z_e0wL"
      },
      "source": [
        "### **5. Evaluando la escenarios de modelamiento XGBoost**"
      ]
    },
    {
      "cell_type": "code",
      "metadata": {
        "colab": {
          "base_uri": "https://localhost:8080/"
        },
        "id": "IRo23Mm0nxiQ",
        "outputId": "bf01c598-15d1-4c72-86e9-417dc7a8c590"
      },
      "source": [
        "!pip install xgboost"
      ],
      "execution_count": null,
      "outputs": [
        {
          "output_type": "stream",
          "name": "stdout",
          "text": [
            "Requirement already satisfied: xgboost in /usr/local/lib/python3.10/dist-packages (1.7.6)\n",
            "Requirement already satisfied: numpy in /usr/local/lib/python3.10/dist-packages (from xgboost) (1.23.5)\n",
            "Requirement already satisfied: scipy in /usr/local/lib/python3.10/dist-packages (from xgboost) (1.11.2)\n"
          ]
        }
      ]
    },
    {
      "cell_type": "code",
      "metadata": {
        "id": "SiD0y8qln2qa"
      },
      "source": [
        "import xgboost as xgb"
      ],
      "execution_count": null,
      "outputs": []
    },
    {
      "cell_type": "code",
      "metadata": {
        "id": "bXK5Y3jp1xtM"
      },
      "source": [
        "# Declaramos el primer modelo\n",
        "# dentro del () van los parametros, sino no se pone nada se mantiene constante\n",
        "model1 = xgb.XGBClassifier()"
      ],
      "execution_count": null,
      "outputs": []
    },
    {
      "cell_type": "code",
      "metadata": {
        "id": "8JDkB1XM1xtN"
      },
      "source": [
        "# Declaramos el segundo algortimo\n",
        "model2 = xgb.XGBClassifier(n_estimators=20 , max_depth=8, learning_rate=0.1 , subsample=0.5)"
      ],
      "execution_count": null,
      "outputs": []
    },
    {
      "cell_type": "code",
      "metadata": {
        "colab": {
          "base_uri": "https://localhost:8080/"
        },
        "id": "CEg8gP1n2E2h",
        "outputId": "35b03cb6-5fb6-4820-a304-660ba923351f"
      },
      "source": [
        "# Descargamos otro alg que es el primo hermano del XGboost\n",
        "!pip install catboost"
      ],
      "execution_count": null,
      "outputs": [
        {
          "output_type": "stream",
          "name": "stdout",
          "text": [
            "Requirement already satisfied: catboost in /usr/local/lib/python3.10/dist-packages (1.2.2)\n",
            "Requirement already satisfied: graphviz in /usr/local/lib/python3.10/dist-packages (from catboost) (0.20.1)\n",
            "Requirement already satisfied: matplotlib in /usr/local/lib/python3.10/dist-packages (from catboost) (3.7.1)\n",
            "Requirement already satisfied: numpy>=1.16.0 in /usr/local/lib/python3.10/dist-packages (from catboost) (1.23.5)\n",
            "Requirement already satisfied: pandas>=0.24 in /usr/local/lib/python3.10/dist-packages (from catboost) (1.5.3)\n",
            "Requirement already satisfied: scipy in /usr/local/lib/python3.10/dist-packages (from catboost) (1.11.2)\n",
            "Requirement already satisfied: plotly in /usr/local/lib/python3.10/dist-packages (from catboost) (5.15.0)\n",
            "Requirement already satisfied: six in /usr/local/lib/python3.10/dist-packages (from catboost) (1.16.0)\n",
            "Requirement already satisfied: python-dateutil>=2.8.1 in /usr/local/lib/python3.10/dist-packages (from pandas>=0.24->catboost) (2.8.2)\n",
            "Requirement already satisfied: pytz>=2020.1 in /usr/local/lib/python3.10/dist-packages (from pandas>=0.24->catboost) (2023.3.post1)\n",
            "Requirement already satisfied: contourpy>=1.0.1 in /usr/local/lib/python3.10/dist-packages (from matplotlib->catboost) (1.1.0)\n",
            "Requirement already satisfied: cycler>=0.10 in /usr/local/lib/python3.10/dist-packages (from matplotlib->catboost) (0.11.0)\n",
            "Requirement already satisfied: fonttools>=4.22.0 in /usr/local/lib/python3.10/dist-packages (from matplotlib->catboost) (4.42.1)\n",
            "Requirement already satisfied: kiwisolver>=1.0.1 in /usr/local/lib/python3.10/dist-packages (from matplotlib->catboost) (1.4.5)\n",
            "Requirement already satisfied: packaging>=20.0 in /usr/local/lib/python3.10/dist-packages (from matplotlib->catboost) (23.1)\n",
            "Requirement already satisfied: pillow>=6.2.0 in /usr/local/lib/python3.10/dist-packages (from matplotlib->catboost) (9.4.0)\n",
            "Requirement already satisfied: pyparsing>=2.3.1 in /usr/local/lib/python3.10/dist-packages (from matplotlib->catboost) (3.1.1)\n",
            "Requirement already satisfied: tenacity>=6.2.0 in /usr/local/lib/python3.10/dist-packages (from plotly->catboost) (8.2.3)\n"
          ]
        }
      ]
    },
    {
      "cell_type": "code",
      "metadata": {
        "id": "pgUNU7Tq1xtO"
      },
      "source": [
        "import catboost\n",
        "from catboost import CatBoostClassifier"
      ],
      "execution_count": null,
      "outputs": []
    },
    {
      "cell_type": "code",
      "metadata": {
        "id": "GiHcGfdO1xtO"
      },
      "source": [
        "# Declaramos el tercer modelo\n",
        "model3 = CatBoostClassifier()"
      ],
      "execution_count": null,
      "outputs": []
    },
    {
      "cell_type": "code",
      "metadata": {
        "id": "_d7HQfgz1xtP"
      },
      "source": [
        "# Importamos el Random Forest de la libreria SKLearn\n",
        "from sklearn.ensemble import RandomForestClassifier"
      ],
      "execution_count": null,
      "outputs": []
    },
    {
      "cell_type": "code",
      "metadata": {
        "id": "sCCleK191xtQ"
      },
      "source": [
        "# Declaramos el cuarto modelo\n",
        "model4 = RandomForestClassifier()"
      ],
      "execution_count": null,
      "outputs": []
    },
    {
      "cell_type": "code",
      "metadata": {
        "id": "tbvU22Eo1xtR"
      },
      "source": [
        "# Declaramos el quinto modelo\n",
        "model5 = RandomForestClassifier(n_estimators=20, max_depth=8)"
      ],
      "execution_count": null,
      "outputs": []
    },
    {
      "cell_type": "code",
      "source": [
        "# Declaramos 5 modelos Classifier en total:\n",
        "# model1: XG Boost sin parametros por default\n",
        "# model2: XG Boost con parametros\n",
        "# model3: Catboost sin parametros por default\n",
        "# model4: Random Forest sin parametros por default\n",
        "# model5: Random Forest con parametros"
      ],
      "metadata": {
        "id": "R6_evmkobzIN"
      },
      "execution_count": null,
      "outputs": []
    },
    {
      "cell_type": "markdown",
      "source": [
        "Pasamos a entrenar los algoritmos"
      ],
      "metadata": {
        "id": "1XU71FTJdBSw"
      }
    },
    {
      "cell_type": "code",
      "metadata": {
        "colab": {
          "base_uri": "https://localhost:8080/",
          "height": 248
        },
        "id": "4LW66wtVnvga",
        "outputId": "38be8b11-e7d5-443a-e7cb-9fdbc6df8768"
      },
      "source": [
        "# model#.fit() es para entrenar el modelo\n",
        "model1.fit(X_train, y_train)"
      ],
      "execution_count": null,
      "outputs": [
        {
          "output_type": "execute_result",
          "data": {
            "text/plain": [
              "XGBClassifier(base_score=None, booster=None, callbacks=None,\n",
              "              colsample_bylevel=None, colsample_bynode=None,\n",
              "              colsample_bytree=None, early_stopping_rounds=None,\n",
              "              enable_categorical=False, eval_metric=None, feature_types=None,\n",
              "              gamma=None, gpu_id=None, grow_policy=None, importance_type=None,\n",
              "              interaction_constraints=None, learning_rate=None, max_bin=None,\n",
              "              max_cat_threshold=None, max_cat_to_onehot=None,\n",
              "              max_delta_step=None, max_depth=None, max_leaves=None,\n",
              "              min_child_weight=None, missing=nan, monotone_constraints=None,\n",
              "              n_estimators=100, n_jobs=None, num_parallel_tree=None,\n",
              "              predictor=None, random_state=None, ...)"
            ],
            "text/html": [
              "<style>#sk-container-id-6 {color: black;background-color: white;}#sk-container-id-6 pre{padding: 0;}#sk-container-id-6 div.sk-toggleable {background-color: white;}#sk-container-id-6 label.sk-toggleable__label {cursor: pointer;display: block;width: 100%;margin-bottom: 0;padding: 0.3em;box-sizing: border-box;text-align: center;}#sk-container-id-6 label.sk-toggleable__label-arrow:before {content: \"▸\";float: left;margin-right: 0.25em;color: #696969;}#sk-container-id-6 label.sk-toggleable__label-arrow:hover:before {color: black;}#sk-container-id-6 div.sk-estimator:hover label.sk-toggleable__label-arrow:before {color: black;}#sk-container-id-6 div.sk-toggleable__content {max-height: 0;max-width: 0;overflow: hidden;text-align: left;background-color: #f0f8ff;}#sk-container-id-6 div.sk-toggleable__content pre {margin: 0.2em;color: black;border-radius: 0.25em;background-color: #f0f8ff;}#sk-container-id-6 input.sk-toggleable__control:checked~div.sk-toggleable__content {max-height: 200px;max-width: 100%;overflow: auto;}#sk-container-id-6 input.sk-toggleable__control:checked~label.sk-toggleable__label-arrow:before {content: \"▾\";}#sk-container-id-6 div.sk-estimator input.sk-toggleable__control:checked~label.sk-toggleable__label {background-color: #d4ebff;}#sk-container-id-6 div.sk-label input.sk-toggleable__control:checked~label.sk-toggleable__label {background-color: #d4ebff;}#sk-container-id-6 input.sk-hidden--visually {border: 0;clip: rect(1px 1px 1px 1px);clip: rect(1px, 1px, 1px, 1px);height: 1px;margin: -1px;overflow: hidden;padding: 0;position: absolute;width: 1px;}#sk-container-id-6 div.sk-estimator {font-family: monospace;background-color: #f0f8ff;border: 1px dotted black;border-radius: 0.25em;box-sizing: border-box;margin-bottom: 0.5em;}#sk-container-id-6 div.sk-estimator:hover {background-color: #d4ebff;}#sk-container-id-6 div.sk-parallel-item::after {content: \"\";width: 100%;border-bottom: 1px solid gray;flex-grow: 1;}#sk-container-id-6 div.sk-label:hover label.sk-toggleable__label {background-color: #d4ebff;}#sk-container-id-6 div.sk-serial::before {content: \"\";position: absolute;border-left: 1px solid gray;box-sizing: border-box;top: 0;bottom: 0;left: 50%;z-index: 0;}#sk-container-id-6 div.sk-serial {display: flex;flex-direction: column;align-items: center;background-color: white;padding-right: 0.2em;padding-left: 0.2em;position: relative;}#sk-container-id-6 div.sk-item {position: relative;z-index: 1;}#sk-container-id-6 div.sk-parallel {display: flex;align-items: stretch;justify-content: center;background-color: white;position: relative;}#sk-container-id-6 div.sk-item::before, #sk-container-id-6 div.sk-parallel-item::before {content: \"\";position: absolute;border-left: 1px solid gray;box-sizing: border-box;top: 0;bottom: 0;left: 50%;z-index: -1;}#sk-container-id-6 div.sk-parallel-item {display: flex;flex-direction: column;z-index: 1;position: relative;background-color: white;}#sk-container-id-6 div.sk-parallel-item:first-child::after {align-self: flex-end;width: 50%;}#sk-container-id-6 div.sk-parallel-item:last-child::after {align-self: flex-start;width: 50%;}#sk-container-id-6 div.sk-parallel-item:only-child::after {width: 0;}#sk-container-id-6 div.sk-dashed-wrapped {border: 1px dashed gray;margin: 0 0.4em 0.5em 0.4em;box-sizing: border-box;padding-bottom: 0.4em;background-color: white;}#sk-container-id-6 div.sk-label label {font-family: monospace;font-weight: bold;display: inline-block;line-height: 1.2em;}#sk-container-id-6 div.sk-label-container {text-align: center;}#sk-container-id-6 div.sk-container {/* jupyter's `normalize.less` sets `[hidden] { display: none; }` but bootstrap.min.css set `[hidden] { display: none !important; }` so we also need the `!important` here to be able to override the default hidden behavior on the sphinx rendered scikit-learn.org. See: https://github.com/scikit-learn/scikit-learn/issues/21755 */display: inline-block !important;position: relative;}#sk-container-id-6 div.sk-text-repr-fallback {display: none;}</style><div id=\"sk-container-id-6\" class=\"sk-top-container\"><div class=\"sk-text-repr-fallback\"><pre>XGBClassifier(base_score=None, booster=None, callbacks=None,\n",
              "              colsample_bylevel=None, colsample_bynode=None,\n",
              "              colsample_bytree=None, early_stopping_rounds=None,\n",
              "              enable_categorical=False, eval_metric=None, feature_types=None,\n",
              "              gamma=None, gpu_id=None, grow_policy=None, importance_type=None,\n",
              "              interaction_constraints=None, learning_rate=None, max_bin=None,\n",
              "              max_cat_threshold=None, max_cat_to_onehot=None,\n",
              "              max_delta_step=None, max_depth=None, max_leaves=None,\n",
              "              min_child_weight=None, missing=nan, monotone_constraints=None,\n",
              "              n_estimators=100, n_jobs=None, num_parallel_tree=None,\n",
              "              predictor=None, random_state=None, ...)</pre><b>In a Jupyter environment, please rerun this cell to show the HTML representation or trust the notebook. <br />On GitHub, the HTML representation is unable to render, please try loading this page with nbviewer.org.</b></div><div class=\"sk-container\" hidden><div class=\"sk-item\"><div class=\"sk-estimator sk-toggleable\"><input class=\"sk-toggleable__control sk-hidden--visually\" id=\"sk-estimator-id-6\" type=\"checkbox\" checked><label for=\"sk-estimator-id-6\" class=\"sk-toggleable__label sk-toggleable__label-arrow\">XGBClassifier</label><div class=\"sk-toggleable__content\"><pre>XGBClassifier(base_score=None, booster=None, callbacks=None,\n",
              "              colsample_bylevel=None, colsample_bynode=None,\n",
              "              colsample_bytree=None, early_stopping_rounds=None,\n",
              "              enable_categorical=False, eval_metric=None, feature_types=None,\n",
              "              gamma=None, gpu_id=None, grow_policy=None, importance_type=None,\n",
              "              interaction_constraints=None, learning_rate=None, max_bin=None,\n",
              "              max_cat_threshold=None, max_cat_to_onehot=None,\n",
              "              max_delta_step=None, max_depth=None, max_leaves=None,\n",
              "              min_child_weight=None, missing=nan, monotone_constraints=None,\n",
              "              n_estimators=100, n_jobs=None, num_parallel_tree=None,\n",
              "              predictor=None, random_state=None, ...)</pre></div></div></div></div></div>"
            ]
          },
          "metadata": {},
          "execution_count": 64
        }
      ]
    },
    {
      "cell_type": "code",
      "metadata": {
        "colab": {
          "base_uri": "https://localhost:8080/",
          "height": 248
        },
        "id": "3MXTZqNW1xtS",
        "outputId": "18a16f15-3c9d-4787-f009-2a9d68a1ca70"
      },
      "source": [
        "model2.fit(X_train, y_train)"
      ],
      "execution_count": null,
      "outputs": [
        {
          "output_type": "execute_result",
          "data": {
            "text/plain": [
              "XGBClassifier(base_score=None, booster=None, callbacks=None,\n",
              "              colsample_bylevel=None, colsample_bynode=None,\n",
              "              colsample_bytree=None, early_stopping_rounds=None,\n",
              "              enable_categorical=False, eval_metric=None, feature_types=None,\n",
              "              gamma=None, gpu_id=None, grow_policy=None, importance_type=None,\n",
              "              interaction_constraints=None, learning_rate=0.1, max_bin=None,\n",
              "              max_cat_threshold=None, max_cat_to_onehot=None,\n",
              "              max_delta_step=None, max_depth=8, max_leaves=None,\n",
              "              min_child_weight=None, missing=nan, monotone_constraints=None,\n",
              "              n_estimators=20, n_jobs=None, num_parallel_tree=None,\n",
              "              predictor=None, random_state=None, ...)"
            ],
            "text/html": [
              "<style>#sk-container-id-7 {color: black;background-color: white;}#sk-container-id-7 pre{padding: 0;}#sk-container-id-7 div.sk-toggleable {background-color: white;}#sk-container-id-7 label.sk-toggleable__label {cursor: pointer;display: block;width: 100%;margin-bottom: 0;padding: 0.3em;box-sizing: border-box;text-align: center;}#sk-container-id-7 label.sk-toggleable__label-arrow:before {content: \"▸\";float: left;margin-right: 0.25em;color: #696969;}#sk-container-id-7 label.sk-toggleable__label-arrow:hover:before {color: black;}#sk-container-id-7 div.sk-estimator:hover label.sk-toggleable__label-arrow:before {color: black;}#sk-container-id-7 div.sk-toggleable__content {max-height: 0;max-width: 0;overflow: hidden;text-align: left;background-color: #f0f8ff;}#sk-container-id-7 div.sk-toggleable__content pre {margin: 0.2em;color: black;border-radius: 0.25em;background-color: #f0f8ff;}#sk-container-id-7 input.sk-toggleable__control:checked~div.sk-toggleable__content {max-height: 200px;max-width: 100%;overflow: auto;}#sk-container-id-7 input.sk-toggleable__control:checked~label.sk-toggleable__label-arrow:before {content: \"▾\";}#sk-container-id-7 div.sk-estimator input.sk-toggleable__control:checked~label.sk-toggleable__label {background-color: #d4ebff;}#sk-container-id-7 div.sk-label input.sk-toggleable__control:checked~label.sk-toggleable__label {background-color: #d4ebff;}#sk-container-id-7 input.sk-hidden--visually {border: 0;clip: rect(1px 1px 1px 1px);clip: rect(1px, 1px, 1px, 1px);height: 1px;margin: -1px;overflow: hidden;padding: 0;position: absolute;width: 1px;}#sk-container-id-7 div.sk-estimator {font-family: monospace;background-color: #f0f8ff;border: 1px dotted black;border-radius: 0.25em;box-sizing: border-box;margin-bottom: 0.5em;}#sk-container-id-7 div.sk-estimator:hover {background-color: #d4ebff;}#sk-container-id-7 div.sk-parallel-item::after {content: \"\";width: 100%;border-bottom: 1px solid gray;flex-grow: 1;}#sk-container-id-7 div.sk-label:hover label.sk-toggleable__label {background-color: #d4ebff;}#sk-container-id-7 div.sk-serial::before {content: \"\";position: absolute;border-left: 1px solid gray;box-sizing: border-box;top: 0;bottom: 0;left: 50%;z-index: 0;}#sk-container-id-7 div.sk-serial {display: flex;flex-direction: column;align-items: center;background-color: white;padding-right: 0.2em;padding-left: 0.2em;position: relative;}#sk-container-id-7 div.sk-item {position: relative;z-index: 1;}#sk-container-id-7 div.sk-parallel {display: flex;align-items: stretch;justify-content: center;background-color: white;position: relative;}#sk-container-id-7 div.sk-item::before, #sk-container-id-7 div.sk-parallel-item::before {content: \"\";position: absolute;border-left: 1px solid gray;box-sizing: border-box;top: 0;bottom: 0;left: 50%;z-index: -1;}#sk-container-id-7 div.sk-parallel-item {display: flex;flex-direction: column;z-index: 1;position: relative;background-color: white;}#sk-container-id-7 div.sk-parallel-item:first-child::after {align-self: flex-end;width: 50%;}#sk-container-id-7 div.sk-parallel-item:last-child::after {align-self: flex-start;width: 50%;}#sk-container-id-7 div.sk-parallel-item:only-child::after {width: 0;}#sk-container-id-7 div.sk-dashed-wrapped {border: 1px dashed gray;margin: 0 0.4em 0.5em 0.4em;box-sizing: border-box;padding-bottom: 0.4em;background-color: white;}#sk-container-id-7 div.sk-label label {font-family: monospace;font-weight: bold;display: inline-block;line-height: 1.2em;}#sk-container-id-7 div.sk-label-container {text-align: center;}#sk-container-id-7 div.sk-container {/* jupyter's `normalize.less` sets `[hidden] { display: none; }` but bootstrap.min.css set `[hidden] { display: none !important; }` so we also need the `!important` here to be able to override the default hidden behavior on the sphinx rendered scikit-learn.org. See: https://github.com/scikit-learn/scikit-learn/issues/21755 */display: inline-block !important;position: relative;}#sk-container-id-7 div.sk-text-repr-fallback {display: none;}</style><div id=\"sk-container-id-7\" class=\"sk-top-container\"><div class=\"sk-text-repr-fallback\"><pre>XGBClassifier(base_score=None, booster=None, callbacks=None,\n",
              "              colsample_bylevel=None, colsample_bynode=None,\n",
              "              colsample_bytree=None, early_stopping_rounds=None,\n",
              "              enable_categorical=False, eval_metric=None, feature_types=None,\n",
              "              gamma=None, gpu_id=None, grow_policy=None, importance_type=None,\n",
              "              interaction_constraints=None, learning_rate=0.1, max_bin=None,\n",
              "              max_cat_threshold=None, max_cat_to_onehot=None,\n",
              "              max_delta_step=None, max_depth=8, max_leaves=None,\n",
              "              min_child_weight=None, missing=nan, monotone_constraints=None,\n",
              "              n_estimators=20, n_jobs=None, num_parallel_tree=None,\n",
              "              predictor=None, random_state=None, ...)</pre><b>In a Jupyter environment, please rerun this cell to show the HTML representation or trust the notebook. <br />On GitHub, the HTML representation is unable to render, please try loading this page with nbviewer.org.</b></div><div class=\"sk-container\" hidden><div class=\"sk-item\"><div class=\"sk-estimator sk-toggleable\"><input class=\"sk-toggleable__control sk-hidden--visually\" id=\"sk-estimator-id-7\" type=\"checkbox\" checked><label for=\"sk-estimator-id-7\" class=\"sk-toggleable__label sk-toggleable__label-arrow\">XGBClassifier</label><div class=\"sk-toggleable__content\"><pre>XGBClassifier(base_score=None, booster=None, callbacks=None,\n",
              "              colsample_bylevel=None, colsample_bynode=None,\n",
              "              colsample_bytree=None, early_stopping_rounds=None,\n",
              "              enable_categorical=False, eval_metric=None, feature_types=None,\n",
              "              gamma=None, gpu_id=None, grow_policy=None, importance_type=None,\n",
              "              interaction_constraints=None, learning_rate=0.1, max_bin=None,\n",
              "              max_cat_threshold=None, max_cat_to_onehot=None,\n",
              "              max_delta_step=None, max_depth=8, max_leaves=None,\n",
              "              min_child_weight=None, missing=nan, monotone_constraints=None,\n",
              "              n_estimators=20, n_jobs=None, num_parallel_tree=None,\n",
              "              predictor=None, random_state=None, ...)</pre></div></div></div></div></div>"
            ]
          },
          "metadata": {},
          "execution_count": 65
        }
      ]
    },
    {
      "cell_type": "code",
      "metadata": {
        "colab": {
          "base_uri": "https://localhost:8080/"
        },
        "id": "PrapQPcd1xtS",
        "outputId": "66ef5da7-e5e3-4001-d0fc-defd65dd8947"
      },
      "source": [
        "model3.fit(X_train, y_train)"
      ],
      "execution_count": null,
      "outputs": [
        {
          "output_type": "stream",
          "name": "stdout",
          "text": [
            "Learning rate set to 0.02675\n",
            "0:\tlearn: 0.6397679\ttotal: 4.93ms\tremaining: 4.93s\n",
            "1:\tlearn: 0.5914018\ttotal: 8.92ms\tremaining: 4.45s\n",
            "2:\tlearn: 0.5445790\ttotal: 13ms\tremaining: 4.32s\n",
            "3:\tlearn: 0.5037461\ttotal: 17ms\tremaining: 4.24s\n",
            "4:\tlearn: 0.4641864\ttotal: 21.1ms\tremaining: 4.2s\n",
            "5:\tlearn: 0.4296169\ttotal: 25.5ms\tremaining: 4.22s\n",
            "6:\tlearn: 0.4004173\ttotal: 30.9ms\tremaining: 4.39s\n",
            "7:\tlearn: 0.3755289\ttotal: 35ms\tremaining: 4.34s\n",
            "8:\tlearn: 0.3506509\ttotal: 39ms\tremaining: 4.3s\n",
            "9:\tlearn: 0.3296770\ttotal: 43.3ms\tremaining: 4.28s\n",
            "10:\tlearn: 0.3100769\ttotal: 47.4ms\tremaining: 4.26s\n",
            "11:\tlearn: 0.2920043\ttotal: 51.8ms\tremaining: 4.27s\n",
            "12:\tlearn: 0.2767872\ttotal: 56.2ms\tremaining: 4.27s\n",
            "13:\tlearn: 0.2618043\ttotal: 60.3ms\tremaining: 4.25s\n",
            "14:\tlearn: 0.2488392\ttotal: 64.6ms\tremaining: 4.24s\n",
            "15:\tlearn: 0.2384063\ttotal: 69ms\tremaining: 4.24s\n",
            "16:\tlearn: 0.2264868\ttotal: 73.1ms\tremaining: 4.23s\n",
            "17:\tlearn: 0.2178713\ttotal: 77.2ms\tremaining: 4.21s\n",
            "18:\tlearn: 0.2095829\ttotal: 81.7ms\tremaining: 4.22s\n",
            "19:\tlearn: 0.2032974\ttotal: 85.7ms\tremaining: 4.2s\n",
            "20:\tlearn: 0.1958351\ttotal: 89.7ms\tremaining: 4.18s\n",
            "21:\tlearn: 0.1888963\ttotal: 94.2ms\tremaining: 4.18s\n",
            "22:\tlearn: 0.1833318\ttotal: 98.5ms\tremaining: 4.18s\n",
            "23:\tlearn: 0.1776231\ttotal: 103ms\tremaining: 4.19s\n",
            "24:\tlearn: 0.1720757\ttotal: 107ms\tremaining: 4.19s\n",
            "25:\tlearn: 0.1671786\ttotal: 112ms\tremaining: 4.2s\n",
            "26:\tlearn: 0.1629834\ttotal: 118ms\tremaining: 4.24s\n",
            "27:\tlearn: 0.1589624\ttotal: 122ms\tremaining: 4.22s\n",
            "28:\tlearn: 0.1550175\ttotal: 126ms\tremaining: 4.21s\n",
            "29:\tlearn: 0.1513057\ttotal: 130ms\tremaining: 4.21s\n",
            "30:\tlearn: 0.1480553\ttotal: 135ms\tremaining: 4.21s\n",
            "31:\tlearn: 0.1452644\ttotal: 139ms\tremaining: 4.21s\n",
            "32:\tlearn: 0.1429880\ttotal: 143ms\tremaining: 4.2s\n",
            "33:\tlearn: 0.1396978\ttotal: 148ms\tremaining: 4.2s\n",
            "34:\tlearn: 0.1369165\ttotal: 152ms\tremaining: 4.19s\n",
            "35:\tlearn: 0.1343022\ttotal: 156ms\tremaining: 4.18s\n",
            "36:\tlearn: 0.1315954\ttotal: 161ms\tremaining: 4.19s\n",
            "37:\tlearn: 0.1300879\ttotal: 165ms\tremaining: 4.18s\n",
            "38:\tlearn: 0.1282162\ttotal: 169ms\tremaining: 4.17s\n",
            "39:\tlearn: 0.1267467\ttotal: 174ms\tremaining: 4.17s\n",
            "40:\tlearn: 0.1247918\ttotal: 178ms\tremaining: 4.16s\n",
            "41:\tlearn: 0.1240962\ttotal: 182ms\tremaining: 4.15s\n",
            "42:\tlearn: 0.1225162\ttotal: 186ms\tremaining: 4.15s\n",
            "43:\tlearn: 0.1215923\ttotal: 191ms\tremaining: 4.14s\n",
            "44:\tlearn: 0.1200566\ttotal: 201ms\tremaining: 4.26s\n",
            "45:\tlearn: 0.1188553\ttotal: 205ms\tremaining: 4.26s\n",
            "46:\tlearn: 0.1180779\ttotal: 209ms\tremaining: 4.24s\n",
            "47:\tlearn: 0.1170770\ttotal: 213ms\tremaining: 4.23s\n",
            "48:\tlearn: 0.1156792\ttotal: 218ms\tremaining: 4.22s\n",
            "49:\tlearn: 0.1145101\ttotal: 222ms\tremaining: 4.21s\n",
            "50:\tlearn: 0.1136209\ttotal: 226ms\tremaining: 4.21s\n",
            "51:\tlearn: 0.1127121\ttotal: 230ms\tremaining: 4.2s\n",
            "52:\tlearn: 0.1116189\ttotal: 234ms\tremaining: 4.19s\n",
            "53:\tlearn: 0.1104607\ttotal: 239ms\tremaining: 4.18s\n",
            "54:\tlearn: 0.1097771\ttotal: 243ms\tremaining: 4.17s\n",
            "55:\tlearn: 0.1086619\ttotal: 247ms\tremaining: 4.16s\n",
            "56:\tlearn: 0.1077097\ttotal: 251ms\tremaining: 4.16s\n",
            "57:\tlearn: 0.1067654\ttotal: 255ms\tremaining: 4.15s\n",
            "58:\tlearn: 0.1064377\ttotal: 259ms\tremaining: 4.13s\n",
            "59:\tlearn: 0.1056125\ttotal: 264ms\tremaining: 4.13s\n",
            "60:\tlearn: 0.1052584\ttotal: 268ms\tremaining: 4.12s\n",
            "61:\tlearn: 0.1047648\ttotal: 272ms\tremaining: 4.11s\n",
            "62:\tlearn: 0.1042419\ttotal: 276ms\tremaining: 4.1s\n",
            "63:\tlearn: 0.1034219\ttotal: 280ms\tremaining: 4.09s\n",
            "64:\tlearn: 0.1029833\ttotal: 284ms\tremaining: 4.08s\n",
            "65:\tlearn: 0.1018053\ttotal: 288ms\tremaining: 4.08s\n",
            "66:\tlearn: 0.1013085\ttotal: 292ms\tremaining: 4.07s\n",
            "67:\tlearn: 0.1006988\ttotal: 296ms\tremaining: 4.06s\n",
            "68:\tlearn: 0.1000474\ttotal: 300ms\tremaining: 4.05s\n",
            "69:\tlearn: 0.0992110\ttotal: 305ms\tremaining: 4.05s\n",
            "70:\tlearn: 0.0985632\ttotal: 309ms\tremaining: 4.04s\n",
            "71:\tlearn: 0.0980717\ttotal: 314ms\tremaining: 4.04s\n",
            "72:\tlearn: 0.0974272\ttotal: 318ms\tremaining: 4.04s\n",
            "73:\tlearn: 0.0969919\ttotal: 322ms\tremaining: 4.03s\n",
            "74:\tlearn: 0.0964684\ttotal: 326ms\tremaining: 4.03s\n",
            "75:\tlearn: 0.0957949\ttotal: 331ms\tremaining: 4.02s\n",
            "76:\tlearn: 0.0956139\ttotal: 335ms\tremaining: 4.02s\n",
            "77:\tlearn: 0.0953106\ttotal: 339ms\tremaining: 4.01s\n",
            "78:\tlearn: 0.0949311\ttotal: 345ms\tremaining: 4.03s\n",
            "79:\tlearn: 0.0945879\ttotal: 350ms\tremaining: 4.02s\n",
            "80:\tlearn: 0.0942981\ttotal: 356ms\tremaining: 4.04s\n",
            "81:\tlearn: 0.0941326\ttotal: 360ms\tremaining: 4.03s\n",
            "82:\tlearn: 0.0936570\ttotal: 364ms\tremaining: 4.02s\n",
            "83:\tlearn: 0.0934513\ttotal: 368ms\tremaining: 4.02s\n",
            "84:\tlearn: 0.0931447\ttotal: 373ms\tremaining: 4.01s\n",
            "85:\tlearn: 0.0927302\ttotal: 377ms\tremaining: 4s\n",
            "86:\tlearn: 0.0921919\ttotal: 381ms\tremaining: 4s\n",
            "87:\tlearn: 0.0920323\ttotal: 385ms\tremaining: 3.99s\n",
            "88:\tlearn: 0.0914667\ttotal: 389ms\tremaining: 3.98s\n",
            "89:\tlearn: 0.0910901\ttotal: 394ms\tremaining: 3.98s\n",
            "90:\tlearn: 0.0906583\ttotal: 402ms\tremaining: 4.02s\n",
            "91:\tlearn: 0.0903983\ttotal: 406ms\tremaining: 4.01s\n",
            "92:\tlearn: 0.0902841\ttotal: 411ms\tremaining: 4s\n",
            "93:\tlearn: 0.0900968\ttotal: 415ms\tremaining: 4s\n",
            "94:\tlearn: 0.0900069\ttotal: 419ms\tremaining: 3.99s\n",
            "95:\tlearn: 0.0896848\ttotal: 423ms\tremaining: 3.98s\n",
            "96:\tlearn: 0.0895482\ttotal: 427ms\tremaining: 3.98s\n",
            "97:\tlearn: 0.0894616\ttotal: 431ms\tremaining: 3.97s\n",
            "98:\tlearn: 0.0892294\ttotal: 436ms\tremaining: 3.97s\n",
            "99:\tlearn: 0.0887988\ttotal: 449ms\tremaining: 4.04s\n",
            "100:\tlearn: 0.0885355\ttotal: 457ms\tremaining: 4.07s\n",
            "101:\tlearn: 0.0882348\ttotal: 465ms\tremaining: 4.09s\n",
            "102:\tlearn: 0.0877638\ttotal: 469ms\tremaining: 4.08s\n",
            "103:\tlearn: 0.0876083\ttotal: 473ms\tremaining: 4.08s\n",
            "104:\tlearn: 0.0875155\ttotal: 478ms\tremaining: 4.07s\n",
            "105:\tlearn: 0.0871286\ttotal: 482ms\tremaining: 4.07s\n",
            "106:\tlearn: 0.0868903\ttotal: 486ms\tremaining: 4.06s\n",
            "107:\tlearn: 0.0868121\ttotal: 490ms\tremaining: 4.05s\n",
            "108:\tlearn: 0.0866396\ttotal: 495ms\tremaining: 4.04s\n",
            "109:\tlearn: 0.0862498\ttotal: 499ms\tremaining: 4.04s\n",
            "110:\tlearn: 0.0856548\ttotal: 503ms\tremaining: 4.03s\n",
            "111:\tlearn: 0.0855193\ttotal: 507ms\tremaining: 4.02s\n",
            "112:\tlearn: 0.0853874\ttotal: 511ms\tremaining: 4.01s\n",
            "113:\tlearn: 0.0850825\ttotal: 516ms\tremaining: 4.01s\n",
            "114:\tlearn: 0.0849616\ttotal: 520ms\tremaining: 4s\n",
            "115:\tlearn: 0.0848470\ttotal: 524ms\tremaining: 3.99s\n",
            "116:\tlearn: 0.0846485\ttotal: 528ms\tremaining: 3.98s\n",
            "117:\tlearn: 0.0843956\ttotal: 533ms\tremaining: 3.98s\n",
            "118:\tlearn: 0.0840291\ttotal: 537ms\tremaining: 3.97s\n",
            "119:\tlearn: 0.0838755\ttotal: 541ms\tremaining: 3.97s\n",
            "120:\tlearn: 0.0836572\ttotal: 545ms\tremaining: 3.96s\n",
            "121:\tlearn: 0.0835325\ttotal: 549ms\tremaining: 3.95s\n",
            "122:\tlearn: 0.0834514\ttotal: 553ms\tremaining: 3.94s\n",
            "123:\tlearn: 0.0833574\ttotal: 557ms\tremaining: 3.94s\n",
            "124:\tlearn: 0.0832561\ttotal: 562ms\tremaining: 3.93s\n",
            "125:\tlearn: 0.0831469\ttotal: 566ms\tremaining: 3.92s\n",
            "126:\tlearn: 0.0828499\ttotal: 570ms\tremaining: 3.92s\n",
            "127:\tlearn: 0.0824434\ttotal: 574ms\tremaining: 3.91s\n",
            "128:\tlearn: 0.0822945\ttotal: 578ms\tremaining: 3.9s\n",
            "129:\tlearn: 0.0820383\ttotal: 582ms\tremaining: 3.9s\n",
            "130:\tlearn: 0.0817603\ttotal: 586ms\tremaining: 3.89s\n",
            "131:\tlearn: 0.0816337\ttotal: 591ms\tremaining: 3.88s\n",
            "132:\tlearn: 0.0815403\ttotal: 602ms\tremaining: 3.92s\n",
            "133:\tlearn: 0.0813326\ttotal: 606ms\tremaining: 3.92s\n",
            "134:\tlearn: 0.0810550\ttotal: 610ms\tremaining: 3.91s\n",
            "135:\tlearn: 0.0807125\ttotal: 615ms\tremaining: 3.9s\n",
            "136:\tlearn: 0.0805464\ttotal: 619ms\tremaining: 3.9s\n",
            "137:\tlearn: 0.0803116\ttotal: 623ms\tremaining: 3.89s\n",
            "138:\tlearn: 0.0801737\ttotal: 627ms\tremaining: 3.88s\n",
            "139:\tlearn: 0.0798964\ttotal: 631ms\tremaining: 3.88s\n",
            "140:\tlearn: 0.0796450\ttotal: 636ms\tremaining: 3.87s\n",
            "141:\tlearn: 0.0793901\ttotal: 640ms\tremaining: 3.87s\n",
            "142:\tlearn: 0.0791159\ttotal: 644ms\tremaining: 3.86s\n",
            "143:\tlearn: 0.0789806\ttotal: 648ms\tremaining: 3.85s\n",
            "144:\tlearn: 0.0787860\ttotal: 652ms\tremaining: 3.85s\n",
            "145:\tlearn: 0.0785896\ttotal: 657ms\tremaining: 3.84s\n",
            "146:\tlearn: 0.0784976\ttotal: 661ms\tremaining: 3.83s\n",
            "147:\tlearn: 0.0783373\ttotal: 665ms\tremaining: 3.83s\n",
            "148:\tlearn: 0.0782462\ttotal: 669ms\tremaining: 3.82s\n",
            "149:\tlearn: 0.0779430\ttotal: 674ms\tremaining: 3.82s\n",
            "150:\tlearn: 0.0778815\ttotal: 678ms\tremaining: 3.81s\n",
            "151:\tlearn: 0.0776978\ttotal: 687ms\tremaining: 3.83s\n",
            "152:\tlearn: 0.0775459\ttotal: 696ms\tremaining: 3.85s\n",
            "153:\tlearn: 0.0773770\ttotal: 705ms\tremaining: 3.87s\n",
            "154:\tlearn: 0.0771442\ttotal: 709ms\tremaining: 3.87s\n",
            "155:\tlearn: 0.0770409\ttotal: 714ms\tremaining: 3.86s\n",
            "156:\tlearn: 0.0769050\ttotal: 718ms\tremaining: 3.85s\n",
            "157:\tlearn: 0.0767666\ttotal: 722ms\tremaining: 3.85s\n",
            "158:\tlearn: 0.0766266\ttotal: 727ms\tremaining: 3.84s\n",
            "159:\tlearn: 0.0765769\ttotal: 731ms\tremaining: 3.84s\n",
            "160:\tlearn: 0.0762486\ttotal: 735ms\tremaining: 3.83s\n",
            "161:\tlearn: 0.0761975\ttotal: 739ms\tremaining: 3.82s\n",
            "162:\tlearn: 0.0761153\ttotal: 744ms\tremaining: 3.82s\n",
            "163:\tlearn: 0.0760575\ttotal: 748ms\tremaining: 3.81s\n",
            "164:\tlearn: 0.0760024\ttotal: 753ms\tremaining: 3.81s\n",
            "165:\tlearn: 0.0759224\ttotal: 757ms\tremaining: 3.8s\n",
            "166:\tlearn: 0.0756081\ttotal: 761ms\tremaining: 3.8s\n",
            "167:\tlearn: 0.0755024\ttotal: 766ms\tremaining: 3.79s\n",
            "168:\tlearn: 0.0754157\ttotal: 770ms\tremaining: 3.78s\n",
            "169:\tlearn: 0.0752811\ttotal: 774ms\tremaining: 3.78s\n",
            "170:\tlearn: 0.0750756\ttotal: 778ms\tremaining: 3.77s\n",
            "171:\tlearn: 0.0748739\ttotal: 782ms\tremaining: 3.76s\n",
            "172:\tlearn: 0.0747623\ttotal: 786ms\tremaining: 3.76s\n",
            "173:\tlearn: 0.0746872\ttotal: 790ms\tremaining: 3.75s\n",
            "174:\tlearn: 0.0746570\ttotal: 795ms\tremaining: 3.75s\n",
            "175:\tlearn: 0.0745499\ttotal: 802ms\tremaining: 3.75s\n",
            "176:\tlearn: 0.0744820\ttotal: 808ms\tremaining: 3.76s\n",
            "177:\tlearn: 0.0743661\ttotal: 812ms\tremaining: 3.75s\n",
            "178:\tlearn: 0.0741910\ttotal: 816ms\tremaining: 3.74s\n",
            "179:\tlearn: 0.0739572\ttotal: 821ms\tremaining: 3.74s\n",
            "180:\tlearn: 0.0738432\ttotal: 825ms\tremaining: 3.73s\n",
            "181:\tlearn: 0.0736072\ttotal: 833ms\tremaining: 3.74s\n",
            "182:\tlearn: 0.0735592\ttotal: 840ms\tremaining: 3.75s\n",
            "183:\tlearn: 0.0735237\ttotal: 850ms\tremaining: 3.77s\n",
            "184:\tlearn: 0.0733765\ttotal: 854ms\tremaining: 3.76s\n",
            "185:\tlearn: 0.0732190\ttotal: 858ms\tremaining: 3.75s\n",
            "186:\tlearn: 0.0731724\ttotal: 862ms\tremaining: 3.75s\n",
            "187:\tlearn: 0.0731390\ttotal: 866ms\tremaining: 3.74s\n",
            "188:\tlearn: 0.0730711\ttotal: 870ms\tremaining: 3.73s\n",
            "189:\tlearn: 0.0729947\ttotal: 875ms\tremaining: 3.73s\n",
            "190:\tlearn: 0.0727640\ttotal: 879ms\tremaining: 3.72s\n",
            "191:\tlearn: 0.0726541\ttotal: 883ms\tremaining: 3.71s\n",
            "192:\tlearn: 0.0725928\ttotal: 887ms\tremaining: 3.71s\n",
            "193:\tlearn: 0.0725246\ttotal: 891ms\tremaining: 3.7s\n",
            "194:\tlearn: 0.0724740\ttotal: 895ms\tremaining: 3.69s\n",
            "195:\tlearn: 0.0724334\ttotal: 899ms\tremaining: 3.69s\n",
            "196:\tlearn: 0.0723096\ttotal: 903ms\tremaining: 3.68s\n",
            "197:\tlearn: 0.0721902\ttotal: 911ms\tremaining: 3.69s\n",
            "198:\tlearn: 0.0721475\ttotal: 920ms\tremaining: 3.7s\n",
            "199:\tlearn: 0.0720248\ttotal: 931ms\tremaining: 3.72s\n",
            "200:\tlearn: 0.0719933\ttotal: 943ms\tremaining: 3.75s\n",
            "201:\tlearn: 0.0718496\ttotal: 954ms\tremaining: 3.77s\n",
            "202:\tlearn: 0.0717416\ttotal: 964ms\tremaining: 3.78s\n",
            "203:\tlearn: 0.0715447\ttotal: 975ms\tremaining: 3.8s\n",
            "204:\tlearn: 0.0715156\ttotal: 989ms\tremaining: 3.83s\n",
            "205:\tlearn: 0.0714499\ttotal: 1.01s\tremaining: 3.88s\n",
            "206:\tlearn: 0.0714174\ttotal: 1.01s\tremaining: 3.89s\n",
            "207:\tlearn: 0.0713781\ttotal: 1.03s\tremaining: 3.91s\n",
            "208:\tlearn: 0.0712404\ttotal: 1.04s\tremaining: 3.94s\n",
            "209:\tlearn: 0.0711983\ttotal: 1.05s\tremaining: 3.96s\n",
            "210:\tlearn: 0.0709374\ttotal: 1.06s\tremaining: 3.97s\n",
            "211:\tlearn: 0.0708589\ttotal: 1.07s\tremaining: 3.99s\n",
            "212:\tlearn: 0.0706860\ttotal: 1.08s\tremaining: 4.01s\n",
            "213:\tlearn: 0.0706207\ttotal: 1.1s\tremaining: 4.03s\n",
            "214:\tlearn: 0.0705098\ttotal: 1.11s\tremaining: 4.05s\n",
            "215:\tlearn: 0.0702234\ttotal: 1.12s\tremaining: 4.07s\n",
            "216:\tlearn: 0.0701792\ttotal: 1.13s\tremaining: 4.09s\n",
            "217:\tlearn: 0.0700226\ttotal: 1.15s\tremaining: 4.11s\n",
            "218:\tlearn: 0.0699828\ttotal: 1.16s\tremaining: 4.12s\n",
            "219:\tlearn: 0.0698949\ttotal: 1.17s\tremaining: 4.14s\n",
            "220:\tlearn: 0.0697768\ttotal: 1.18s\tremaining: 4.16s\n",
            "221:\tlearn: 0.0696694\ttotal: 1.19s\tremaining: 4.18s\n",
            "222:\tlearn: 0.0695829\ttotal: 1.21s\tremaining: 4.22s\n",
            "223:\tlearn: 0.0693995\ttotal: 1.22s\tremaining: 4.24s\n",
            "224:\tlearn: 0.0693104\ttotal: 1.23s\tremaining: 4.25s\n",
            "225:\tlearn: 0.0692068\ttotal: 1.25s\tremaining: 4.27s\n",
            "226:\tlearn: 0.0689921\ttotal: 1.26s\tremaining: 4.29s\n",
            "227:\tlearn: 0.0689093\ttotal: 1.27s\tremaining: 4.3s\n",
            "228:\tlearn: 0.0688427\ttotal: 1.28s\tremaining: 4.32s\n",
            "229:\tlearn: 0.0686762\ttotal: 1.29s\tremaining: 4.33s\n",
            "230:\tlearn: 0.0686219\ttotal: 1.3s\tremaining: 4.34s\n",
            "231:\tlearn: 0.0685158\ttotal: 1.32s\tremaining: 4.36s\n",
            "232:\tlearn: 0.0684675\ttotal: 1.33s\tremaining: 4.37s\n",
            "233:\tlearn: 0.0683165\ttotal: 1.34s\tremaining: 4.39s\n",
            "234:\tlearn: 0.0682427\ttotal: 1.35s\tremaining: 4.4s\n",
            "235:\tlearn: 0.0680816\ttotal: 1.36s\tremaining: 4.41s\n",
            "236:\tlearn: 0.0680660\ttotal: 1.37s\tremaining: 4.43s\n",
            "237:\tlearn: 0.0679301\ttotal: 1.39s\tremaining: 4.44s\n",
            "238:\tlearn: 0.0679088\ttotal: 1.4s\tremaining: 4.45s\n",
            "239:\tlearn: 0.0677628\ttotal: 1.41s\tremaining: 4.47s\n",
            "240:\tlearn: 0.0677408\ttotal: 1.42s\tremaining: 4.48s\n",
            "241:\tlearn: 0.0676995\ttotal: 1.43s\tremaining: 4.49s\n",
            "242:\tlearn: 0.0675890\ttotal: 1.45s\tremaining: 4.51s\n",
            "243:\tlearn: 0.0675617\ttotal: 1.46s\tremaining: 4.51s\n",
            "244:\tlearn: 0.0674433\ttotal: 1.47s\tremaining: 4.52s\n",
            "245:\tlearn: 0.0673800\ttotal: 1.48s\tremaining: 4.53s\n",
            "246:\tlearn: 0.0672701\ttotal: 1.49s\tremaining: 4.54s\n",
            "247:\tlearn: 0.0671697\ttotal: 1.5s\tremaining: 4.55s\n",
            "248:\tlearn: 0.0670963\ttotal: 1.51s\tremaining: 4.56s\n",
            "249:\tlearn: 0.0670608\ttotal: 1.52s\tremaining: 4.57s\n",
            "250:\tlearn: 0.0669530\ttotal: 1.54s\tremaining: 4.59s\n",
            "251:\tlearn: 0.0669172\ttotal: 1.55s\tremaining: 4.6s\n",
            "252:\tlearn: 0.0668123\ttotal: 1.56s\tremaining: 4.61s\n",
            "253:\tlearn: 0.0666653\ttotal: 1.57s\tremaining: 4.62s\n",
            "254:\tlearn: 0.0665429\ttotal: 1.58s\tremaining: 4.62s\n",
            "255:\tlearn: 0.0665163\ttotal: 1.59s\tremaining: 4.63s\n",
            "256:\tlearn: 0.0664327\ttotal: 1.61s\tremaining: 4.64s\n",
            "257:\tlearn: 0.0663609\ttotal: 1.62s\tremaining: 4.66s\n",
            "258:\tlearn: 0.0662994\ttotal: 1.63s\tremaining: 4.66s\n",
            "259:\tlearn: 0.0661803\ttotal: 1.64s\tremaining: 4.67s\n",
            "260:\tlearn: 0.0660532\ttotal: 1.65s\tremaining: 4.68s\n",
            "261:\tlearn: 0.0660171\ttotal: 1.66s\tremaining: 4.68s\n",
            "262:\tlearn: 0.0659375\ttotal: 1.67s\tremaining: 4.68s\n",
            "263:\tlearn: 0.0658750\ttotal: 1.68s\tremaining: 4.68s\n",
            "264:\tlearn: 0.0658086\ttotal: 1.69s\tremaining: 4.68s\n",
            "265:\tlearn: 0.0656039\ttotal: 1.7s\tremaining: 4.68s\n",
            "266:\tlearn: 0.0654982\ttotal: 1.7s\tremaining: 4.67s\n",
            "267:\tlearn: 0.0654321\ttotal: 1.71s\tremaining: 4.66s\n",
            "268:\tlearn: 0.0653124\ttotal: 1.71s\tremaining: 4.65s\n",
            "269:\tlearn: 0.0652237\ttotal: 1.72s\tremaining: 4.64s\n",
            "270:\tlearn: 0.0651423\ttotal: 1.72s\tremaining: 4.63s\n",
            "271:\tlearn: 0.0650276\ttotal: 1.73s\tremaining: 4.62s\n",
            "272:\tlearn: 0.0648868\ttotal: 1.73s\tremaining: 4.61s\n",
            "273:\tlearn: 0.0647606\ttotal: 1.74s\tremaining: 4.6s\n",
            "274:\tlearn: 0.0646888\ttotal: 1.74s\tremaining: 4.59s\n",
            "275:\tlearn: 0.0646162\ttotal: 1.75s\tremaining: 4.58s\n",
            "276:\tlearn: 0.0645805\ttotal: 1.75s\tremaining: 4.57s\n",
            "277:\tlearn: 0.0644402\ttotal: 1.76s\tremaining: 4.56s\n",
            "278:\tlearn: 0.0643882\ttotal: 1.77s\tremaining: 4.57s\n",
            "279:\tlearn: 0.0642835\ttotal: 1.77s\tremaining: 4.56s\n",
            "280:\tlearn: 0.0642695\ttotal: 1.78s\tremaining: 4.56s\n",
            "281:\tlearn: 0.0642502\ttotal: 1.79s\tremaining: 4.55s\n",
            "282:\tlearn: 0.0641989\ttotal: 1.79s\tremaining: 4.54s\n",
            "283:\tlearn: 0.0640736\ttotal: 1.8s\tremaining: 4.54s\n",
            "284:\tlearn: 0.0639571\ttotal: 1.81s\tremaining: 4.53s\n",
            "285:\tlearn: 0.0638357\ttotal: 1.81s\tremaining: 4.52s\n",
            "286:\tlearn: 0.0638030\ttotal: 1.82s\tremaining: 4.51s\n",
            "287:\tlearn: 0.0635833\ttotal: 1.82s\tremaining: 4.5s\n",
            "288:\tlearn: 0.0634840\ttotal: 1.83s\tremaining: 4.49s\n",
            "289:\tlearn: 0.0634301\ttotal: 1.83s\tremaining: 4.48s\n",
            "290:\tlearn: 0.0633038\ttotal: 1.84s\tremaining: 4.47s\n",
            "291:\tlearn: 0.0632508\ttotal: 1.84s\tremaining: 4.46s\n",
            "292:\tlearn: 0.0631564\ttotal: 1.85s\tremaining: 4.46s\n",
            "293:\tlearn: 0.0630593\ttotal: 1.85s\tremaining: 4.45s\n",
            "294:\tlearn: 0.0630486\ttotal: 1.85s\tremaining: 4.43s\n",
            "295:\tlearn: 0.0630072\ttotal: 1.86s\tremaining: 4.42s\n",
            "296:\tlearn: 0.0629425\ttotal: 1.86s\tremaining: 4.42s\n",
            "297:\tlearn: 0.0629133\ttotal: 1.87s\tremaining: 4.41s\n",
            "298:\tlearn: 0.0627588\ttotal: 1.88s\tremaining: 4.4s\n",
            "299:\tlearn: 0.0627326\ttotal: 1.88s\tremaining: 4.39s\n",
            "300:\tlearn: 0.0626084\ttotal: 1.89s\tremaining: 4.38s\n",
            "301:\tlearn: 0.0625814\ttotal: 1.89s\tremaining: 4.38s\n",
            "302:\tlearn: 0.0624512\ttotal: 1.9s\tremaining: 4.37s\n",
            "303:\tlearn: 0.0623819\ttotal: 1.9s\tremaining: 4.36s\n",
            "304:\tlearn: 0.0622764\ttotal: 1.91s\tremaining: 4.35s\n",
            "305:\tlearn: 0.0621676\ttotal: 1.91s\tremaining: 4.34s\n",
            "306:\tlearn: 0.0620493\ttotal: 1.92s\tremaining: 4.33s\n",
            "307:\tlearn: 0.0620343\ttotal: 1.92s\tremaining: 4.32s\n",
            "308:\tlearn: 0.0620125\ttotal: 1.93s\tremaining: 4.31s\n",
            "309:\tlearn: 0.0619297\ttotal: 1.93s\tremaining: 4.3s\n",
            "310:\tlearn: 0.0618615\ttotal: 1.95s\tremaining: 4.31s\n",
            "311:\tlearn: 0.0617708\ttotal: 1.96s\tremaining: 4.31s\n",
            "312:\tlearn: 0.0617241\ttotal: 1.97s\tremaining: 4.33s\n",
            "313:\tlearn: 0.0616109\ttotal: 1.99s\tremaining: 4.34s\n",
            "314:\tlearn: 0.0615414\ttotal: 2s\tremaining: 4.35s\n",
            "315:\tlearn: 0.0615196\ttotal: 2.01s\tremaining: 4.34s\n",
            "316:\tlearn: 0.0614456\ttotal: 2.02s\tremaining: 4.35s\n",
            "317:\tlearn: 0.0613318\ttotal: 2.03s\tremaining: 4.36s\n",
            "318:\tlearn: 0.0612795\ttotal: 2.04s\tremaining: 4.36s\n",
            "319:\tlearn: 0.0612007\ttotal: 2.05s\tremaining: 4.36s\n",
            "320:\tlearn: 0.0610678\ttotal: 2.06s\tremaining: 4.36s\n",
            "321:\tlearn: 0.0610437\ttotal: 2.07s\tremaining: 4.37s\n",
            "322:\tlearn: 0.0609521\ttotal: 2.08s\tremaining: 4.37s\n",
            "323:\tlearn: 0.0608391\ttotal: 2.1s\tremaining: 4.38s\n",
            "324:\tlearn: 0.0608229\ttotal: 2.11s\tremaining: 4.38s\n",
            "325:\tlearn: 0.0607166\ttotal: 2.12s\tremaining: 4.38s\n",
            "326:\tlearn: 0.0606523\ttotal: 2.13s\tremaining: 4.39s\n",
            "327:\tlearn: 0.0605921\ttotal: 2.14s\tremaining: 4.39s\n",
            "328:\tlearn: 0.0605083\ttotal: 2.15s\tremaining: 4.39s\n",
            "329:\tlearn: 0.0604194\ttotal: 2.17s\tremaining: 4.4s\n",
            "330:\tlearn: 0.0603154\ttotal: 2.18s\tremaining: 4.4s\n",
            "331:\tlearn: 0.0602966\ttotal: 2.19s\tremaining: 4.41s\n",
            "332:\tlearn: 0.0602286\ttotal: 2.21s\tremaining: 4.42s\n",
            "333:\tlearn: 0.0600994\ttotal: 2.21s\tremaining: 4.42s\n",
            "334:\tlearn: 0.0600020\ttotal: 2.23s\tremaining: 4.42s\n",
            "335:\tlearn: 0.0599786\ttotal: 2.23s\tremaining: 4.42s\n",
            "336:\tlearn: 0.0599172\ttotal: 2.25s\tremaining: 4.42s\n",
            "337:\tlearn: 0.0598333\ttotal: 2.26s\tremaining: 4.42s\n",
            "338:\tlearn: 0.0597437\ttotal: 2.27s\tremaining: 4.43s\n",
            "339:\tlearn: 0.0597267\ttotal: 2.28s\tremaining: 4.43s\n",
            "340:\tlearn: 0.0595736\ttotal: 2.29s\tremaining: 4.43s\n",
            "341:\tlearn: 0.0595488\ttotal: 2.3s\tremaining: 4.43s\n",
            "342:\tlearn: 0.0595230\ttotal: 2.31s\tremaining: 4.43s\n",
            "343:\tlearn: 0.0594999\ttotal: 2.33s\tremaining: 4.43s\n",
            "344:\tlearn: 0.0594390\ttotal: 2.33s\tremaining: 4.43s\n",
            "345:\tlearn: 0.0594086\ttotal: 2.35s\tremaining: 4.43s\n",
            "346:\tlearn: 0.0593086\ttotal: 2.36s\tremaining: 4.44s\n",
            "347:\tlearn: 0.0592430\ttotal: 2.37s\tremaining: 4.44s\n",
            "348:\tlearn: 0.0591735\ttotal: 2.38s\tremaining: 4.45s\n",
            "349:\tlearn: 0.0591450\ttotal: 2.4s\tremaining: 4.45s\n",
            "350:\tlearn: 0.0591167\ttotal: 2.41s\tremaining: 4.45s\n",
            "351:\tlearn: 0.0591007\ttotal: 2.42s\tremaining: 4.45s\n",
            "352:\tlearn: 0.0589978\ttotal: 2.43s\tremaining: 4.45s\n",
            "353:\tlearn: 0.0589626\ttotal: 2.44s\tremaining: 4.46s\n",
            "354:\tlearn: 0.0589500\ttotal: 2.45s\tremaining: 4.46s\n",
            "355:\tlearn: 0.0588445\ttotal: 2.46s\tremaining: 4.46s\n",
            "356:\tlearn: 0.0588274\ttotal: 2.47s\tremaining: 4.46s\n",
            "357:\tlearn: 0.0588034\ttotal: 2.49s\tremaining: 4.46s\n",
            "358:\tlearn: 0.0587179\ttotal: 2.5s\tremaining: 4.46s\n",
            "359:\tlearn: 0.0586684\ttotal: 2.51s\tremaining: 4.47s\n",
            "360:\tlearn: 0.0585470\ttotal: 2.52s\tremaining: 4.46s\n",
            "361:\tlearn: 0.0584988\ttotal: 2.53s\tremaining: 4.46s\n",
            "362:\tlearn: 0.0584804\ttotal: 2.54s\tremaining: 4.46s\n",
            "363:\tlearn: 0.0583802\ttotal: 2.56s\tremaining: 4.46s\n",
            "364:\tlearn: 0.0583038\ttotal: 2.57s\tremaining: 4.47s\n",
            "365:\tlearn: 0.0581680\ttotal: 2.58s\tremaining: 4.47s\n",
            "366:\tlearn: 0.0581070\ttotal: 2.59s\tremaining: 4.47s\n",
            "367:\tlearn: 0.0580037\ttotal: 2.6s\tremaining: 4.47s\n",
            "368:\tlearn: 0.0579905\ttotal: 2.61s\tremaining: 4.47s\n",
            "369:\tlearn: 0.0579277\ttotal: 2.62s\tremaining: 4.47s\n",
            "370:\tlearn: 0.0579162\ttotal: 2.64s\tremaining: 4.48s\n",
            "371:\tlearn: 0.0578163\ttotal: 2.65s\tremaining: 4.47s\n",
            "372:\tlearn: 0.0578035\ttotal: 2.66s\tremaining: 4.48s\n",
            "373:\tlearn: 0.0577619\ttotal: 2.68s\tremaining: 4.48s\n",
            "374:\tlearn: 0.0576858\ttotal: 2.69s\tremaining: 4.48s\n",
            "375:\tlearn: 0.0576568\ttotal: 2.7s\tremaining: 4.48s\n",
            "376:\tlearn: 0.0575836\ttotal: 2.71s\tremaining: 4.48s\n",
            "377:\tlearn: 0.0574971\ttotal: 2.72s\tremaining: 4.48s\n",
            "378:\tlearn: 0.0574788\ttotal: 2.73s\tremaining: 4.48s\n",
            "379:\tlearn: 0.0574613\ttotal: 2.75s\tremaining: 4.48s\n",
            "380:\tlearn: 0.0573586\ttotal: 2.76s\tremaining: 4.48s\n",
            "381:\tlearn: 0.0573000\ttotal: 2.78s\tremaining: 4.49s\n",
            "382:\tlearn: 0.0571920\ttotal: 2.79s\tremaining: 4.49s\n",
            "383:\tlearn: 0.0571374\ttotal: 2.8s\tremaining: 4.5s\n",
            "384:\tlearn: 0.0571207\ttotal: 2.81s\tremaining: 4.49s\n",
            "385:\tlearn: 0.0571038\ttotal: 2.82s\tremaining: 4.49s\n",
            "386:\tlearn: 0.0569622\ttotal: 2.83s\tremaining: 4.49s\n",
            "387:\tlearn: 0.0569124\ttotal: 2.84s\tremaining: 4.49s\n",
            "388:\tlearn: 0.0568605\ttotal: 2.85s\tremaining: 4.49s\n",
            "389:\tlearn: 0.0568497\ttotal: 2.87s\tremaining: 4.48s\n",
            "390:\tlearn: 0.0567771\ttotal: 2.88s\tremaining: 4.48s\n",
            "391:\tlearn: 0.0567013\ttotal: 2.89s\tremaining: 4.48s\n",
            "392:\tlearn: 0.0566833\ttotal: 2.9s\tremaining: 4.48s\n",
            "393:\tlearn: 0.0566781\ttotal: 2.91s\tremaining: 4.48s\n",
            "394:\tlearn: 0.0566540\ttotal: 2.92s\tremaining: 4.47s\n",
            "395:\tlearn: 0.0565630\ttotal: 2.93s\tremaining: 4.47s\n",
            "396:\tlearn: 0.0564416\ttotal: 2.94s\tremaining: 4.47s\n",
            "397:\tlearn: 0.0564082\ttotal: 2.96s\tremaining: 4.47s\n",
            "398:\tlearn: 0.0562970\ttotal: 2.97s\tremaining: 4.48s\n",
            "399:\tlearn: 0.0562899\ttotal: 2.99s\tremaining: 4.48s\n",
            "400:\tlearn: 0.0561805\ttotal: 3s\tremaining: 4.48s\n",
            "401:\tlearn: 0.0561122\ttotal: 3.01s\tremaining: 4.48s\n",
            "402:\tlearn: 0.0560136\ttotal: 3.02s\tremaining: 4.48s\n",
            "403:\tlearn: 0.0559919\ttotal: 3.03s\tremaining: 4.47s\n",
            "404:\tlearn: 0.0559740\ttotal: 3.04s\tremaining: 4.47s\n",
            "405:\tlearn: 0.0559611\ttotal: 3.05s\tremaining: 4.47s\n",
            "406:\tlearn: 0.0558781\ttotal: 3.06s\tremaining: 4.47s\n",
            "407:\tlearn: 0.0558058\ttotal: 3.08s\tremaining: 4.47s\n",
            "408:\tlearn: 0.0557523\ttotal: 3.09s\tremaining: 4.47s\n",
            "409:\tlearn: 0.0556982\ttotal: 3.1s\tremaining: 4.46s\n",
            "410:\tlearn: 0.0556019\ttotal: 3.11s\tremaining: 4.46s\n",
            "411:\tlearn: 0.0555057\ttotal: 3.12s\tremaining: 4.46s\n",
            "412:\tlearn: 0.0554830\ttotal: 3.13s\tremaining: 4.45s\n",
            "413:\tlearn: 0.0553929\ttotal: 3.14s\tremaining: 4.45s\n",
            "414:\tlearn: 0.0553868\ttotal: 3.15s\tremaining: 4.45s\n",
            "415:\tlearn: 0.0553178\ttotal: 3.17s\tremaining: 4.46s\n",
            "416:\tlearn: 0.0553073\ttotal: 3.18s\tremaining: 4.45s\n",
            "417:\tlearn: 0.0551616\ttotal: 3.2s\tremaining: 4.45s\n",
            "418:\tlearn: 0.0551563\ttotal: 3.21s\tremaining: 4.45s\n",
            "419:\tlearn: 0.0551361\ttotal: 3.22s\tremaining: 4.45s\n",
            "420:\tlearn: 0.0550712\ttotal: 3.23s\tremaining: 4.44s\n",
            "421:\tlearn: 0.0550542\ttotal: 3.25s\tremaining: 4.45s\n",
            "422:\tlearn: 0.0549830\ttotal: 3.26s\tremaining: 4.44s\n",
            "423:\tlearn: 0.0549740\ttotal: 3.27s\tremaining: 4.44s\n",
            "424:\tlearn: 0.0548889\ttotal: 3.28s\tremaining: 4.44s\n",
            "425:\tlearn: 0.0548168\ttotal: 3.29s\tremaining: 4.43s\n",
            "426:\tlearn: 0.0548129\ttotal: 3.3s\tremaining: 4.43s\n",
            "427:\tlearn: 0.0547703\ttotal: 3.31s\tremaining: 4.43s\n",
            "428:\tlearn: 0.0546740\ttotal: 3.33s\tremaining: 4.43s\n",
            "429:\tlearn: 0.0545747\ttotal: 3.34s\tremaining: 4.43s\n",
            "430:\tlearn: 0.0544507\ttotal: 3.35s\tremaining: 4.43s\n",
            "431:\tlearn: 0.0543734\ttotal: 3.36s\tremaining: 4.42s\n",
            "432:\tlearn: 0.0542892\ttotal: 3.38s\tremaining: 4.43s\n",
            "433:\tlearn: 0.0542157\ttotal: 3.39s\tremaining: 4.42s\n",
            "434:\tlearn: 0.0542050\ttotal: 3.4s\tremaining: 4.42s\n",
            "435:\tlearn: 0.0541872\ttotal: 3.42s\tremaining: 4.42s\n",
            "436:\tlearn: 0.0541205\ttotal: 3.43s\tremaining: 4.42s\n",
            "437:\tlearn: 0.0540234\ttotal: 3.44s\tremaining: 4.41s\n",
            "438:\tlearn: 0.0540063\ttotal: 3.45s\tremaining: 4.41s\n",
            "439:\tlearn: 0.0539952\ttotal: 3.46s\tremaining: 4.41s\n",
            "440:\tlearn: 0.0539354\ttotal: 3.48s\tremaining: 4.41s\n",
            "441:\tlearn: 0.0538150\ttotal: 3.49s\tremaining: 4.4s\n",
            "442:\tlearn: 0.0537519\ttotal: 3.5s\tremaining: 4.4s\n",
            "443:\tlearn: 0.0536543\ttotal: 3.51s\tremaining: 4.4s\n",
            "444:\tlearn: 0.0535776\ttotal: 3.52s\tremaining: 4.39s\n",
            "445:\tlearn: 0.0535662\ttotal: 3.53s\tremaining: 4.39s\n",
            "446:\tlearn: 0.0534649\ttotal: 3.54s\tremaining: 4.38s\n",
            "447:\tlearn: 0.0533679\ttotal: 3.54s\tremaining: 4.37s\n",
            "448:\tlearn: 0.0533578\ttotal: 3.55s\tremaining: 4.36s\n",
            "449:\tlearn: 0.0532174\ttotal: 3.55s\tremaining: 4.34s\n",
            "450:\tlearn: 0.0532127\ttotal: 3.56s\tremaining: 4.33s\n",
            "451:\tlearn: 0.0531161\ttotal: 3.56s\tremaining: 4.32s\n",
            "452:\tlearn: 0.0530447\ttotal: 3.57s\tremaining: 4.31s\n",
            "453:\tlearn: 0.0529810\ttotal: 3.57s\tremaining: 4.29s\n",
            "454:\tlearn: 0.0528674\ttotal: 3.58s\tremaining: 4.29s\n",
            "455:\tlearn: 0.0527620\ttotal: 3.58s\tremaining: 4.28s\n",
            "456:\tlearn: 0.0526712\ttotal: 3.59s\tremaining: 4.26s\n",
            "457:\tlearn: 0.0525804\ttotal: 3.59s\tremaining: 4.25s\n",
            "458:\tlearn: 0.0525205\ttotal: 3.6s\tremaining: 4.24s\n",
            "459:\tlearn: 0.0524770\ttotal: 3.6s\tremaining: 4.23s\n",
            "460:\tlearn: 0.0523897\ttotal: 3.6s\tremaining: 4.21s\n",
            "461:\tlearn: 0.0523047\ttotal: 3.61s\tremaining: 4.2s\n",
            "462:\tlearn: 0.0523007\ttotal: 3.61s\tremaining: 4.19s\n",
            "463:\tlearn: 0.0521956\ttotal: 3.62s\tremaining: 4.18s\n",
            "464:\tlearn: 0.0521123\ttotal: 3.62s\tremaining: 4.17s\n",
            "465:\tlearn: 0.0521083\ttotal: 3.63s\tremaining: 4.16s\n",
            "466:\tlearn: 0.0520306\ttotal: 3.64s\tremaining: 4.15s\n",
            "467:\tlearn: 0.0519495\ttotal: 3.64s\tremaining: 4.14s\n",
            "468:\tlearn: 0.0518717\ttotal: 3.65s\tremaining: 4.13s\n",
            "469:\tlearn: 0.0518667\ttotal: 3.65s\tremaining: 4.12s\n",
            "470:\tlearn: 0.0517627\ttotal: 3.66s\tremaining: 4.11s\n",
            "471:\tlearn: 0.0517475\ttotal: 3.66s\tremaining: 4.1s\n",
            "472:\tlearn: 0.0516991\ttotal: 3.67s\tremaining: 4.08s\n",
            "473:\tlearn: 0.0516589\ttotal: 3.67s\tremaining: 4.07s\n",
            "474:\tlearn: 0.0515887\ttotal: 3.68s\tremaining: 4.06s\n",
            "475:\tlearn: 0.0515767\ttotal: 3.68s\tremaining: 4.05s\n",
            "476:\tlearn: 0.0515057\ttotal: 3.69s\tremaining: 4.04s\n",
            "477:\tlearn: 0.0514617\ttotal: 3.69s\tremaining: 4.03s\n",
            "478:\tlearn: 0.0514580\ttotal: 3.69s\tremaining: 4.02s\n",
            "479:\tlearn: 0.0513963\ttotal: 3.7s\tremaining: 4.01s\n",
            "480:\tlearn: 0.0513921\ttotal: 3.7s\tremaining: 4s\n",
            "481:\tlearn: 0.0513515\ttotal: 3.71s\tremaining: 3.98s\n",
            "482:\tlearn: 0.0512295\ttotal: 3.71s\tremaining: 3.97s\n",
            "483:\tlearn: 0.0512229\ttotal: 3.71s\tremaining: 3.96s\n",
            "484:\tlearn: 0.0511514\ttotal: 3.72s\tremaining: 3.95s\n",
            "485:\tlearn: 0.0511123\ttotal: 3.72s\tremaining: 3.94s\n",
            "486:\tlearn: 0.0511078\ttotal: 3.73s\tremaining: 3.93s\n",
            "487:\tlearn: 0.0510278\ttotal: 3.73s\tremaining: 3.92s\n",
            "488:\tlearn: 0.0509896\ttotal: 3.74s\tremaining: 3.9s\n",
            "489:\tlearn: 0.0509140\ttotal: 3.74s\tremaining: 3.89s\n",
            "490:\tlearn: 0.0509102\ttotal: 3.75s\tremaining: 3.88s\n",
            "491:\tlearn: 0.0508270\ttotal: 3.75s\tremaining: 3.87s\n",
            "492:\tlearn: 0.0507699\ttotal: 3.75s\tremaining: 3.86s\n",
            "493:\tlearn: 0.0507628\ttotal: 3.76s\tremaining: 3.85s\n",
            "494:\tlearn: 0.0506458\ttotal: 3.76s\tremaining: 3.84s\n",
            "495:\tlearn: 0.0505887\ttotal: 3.77s\tremaining: 3.83s\n",
            "496:\tlearn: 0.0505780\ttotal: 3.78s\tremaining: 3.82s\n",
            "497:\tlearn: 0.0505601\ttotal: 3.78s\tremaining: 3.81s\n",
            "498:\tlearn: 0.0504812\ttotal: 3.79s\tremaining: 3.8s\n",
            "499:\tlearn: 0.0503924\ttotal: 3.79s\tremaining: 3.79s\n",
            "500:\tlearn: 0.0503894\ttotal: 3.79s\tremaining: 3.78s\n",
            "501:\tlearn: 0.0503859\ttotal: 3.8s\tremaining: 3.77s\n",
            "502:\tlearn: 0.0503144\ttotal: 3.8s\tremaining: 3.76s\n",
            "503:\tlearn: 0.0503107\ttotal: 3.81s\tremaining: 3.75s\n",
            "504:\tlearn: 0.0502614\ttotal: 3.81s\tremaining: 3.74s\n",
            "505:\tlearn: 0.0502133\ttotal: 3.82s\tremaining: 3.73s\n",
            "506:\tlearn: 0.0501388\ttotal: 3.83s\tremaining: 3.72s\n",
            "507:\tlearn: 0.0500889\ttotal: 3.83s\tremaining: 3.71s\n",
            "508:\tlearn: 0.0500210\ttotal: 3.84s\tremaining: 3.7s\n",
            "509:\tlearn: 0.0500180\ttotal: 3.84s\tremaining: 3.69s\n",
            "510:\tlearn: 0.0500147\ttotal: 3.85s\tremaining: 3.68s\n",
            "511:\tlearn: 0.0500120\ttotal: 3.85s\tremaining: 3.67s\n",
            "512:\tlearn: 0.0499406\ttotal: 3.85s\tremaining: 3.66s\n",
            "513:\tlearn: 0.0499380\ttotal: 3.86s\tremaining: 3.65s\n",
            "514:\tlearn: 0.0498720\ttotal: 3.86s\tremaining: 3.64s\n",
            "515:\tlearn: 0.0498240\ttotal: 3.87s\tremaining: 3.63s\n",
            "516:\tlearn: 0.0498215\ttotal: 3.87s\tremaining: 3.62s\n",
            "517:\tlearn: 0.0497527\ttotal: 3.88s\tremaining: 3.6s\n",
            "518:\tlearn: 0.0496959\ttotal: 3.88s\tremaining: 3.6s\n",
            "519:\tlearn: 0.0496289\ttotal: 3.88s\tremaining: 3.58s\n",
            "520:\tlearn: 0.0495983\ttotal: 3.89s\tremaining: 3.58s\n",
            "521:\tlearn: 0.0495035\ttotal: 3.89s\tremaining: 3.56s\n",
            "522:\tlearn: 0.0493975\ttotal: 3.9s\tremaining: 3.55s\n",
            "523:\tlearn: 0.0493271\ttotal: 3.9s\tremaining: 3.54s\n",
            "524:\tlearn: 0.0493243\ttotal: 3.9s\tremaining: 3.53s\n",
            "525:\tlearn: 0.0493036\ttotal: 3.91s\tremaining: 3.52s\n",
            "526:\tlearn: 0.0492943\ttotal: 3.91s\tremaining: 3.51s\n",
            "527:\tlearn: 0.0492398\ttotal: 3.92s\tremaining: 3.5s\n",
            "528:\tlearn: 0.0491783\ttotal: 3.93s\tremaining: 3.5s\n",
            "529:\tlearn: 0.0491529\ttotal: 3.94s\tremaining: 3.49s\n",
            "530:\tlearn: 0.0491441\ttotal: 3.94s\tremaining: 3.48s\n",
            "531:\tlearn: 0.0491354\ttotal: 3.95s\tremaining: 3.47s\n",
            "532:\tlearn: 0.0491200\ttotal: 3.95s\tremaining: 3.46s\n",
            "533:\tlearn: 0.0490250\ttotal: 3.96s\tremaining: 3.45s\n",
            "534:\tlearn: 0.0489589\ttotal: 3.96s\tremaining: 3.45s\n",
            "535:\tlearn: 0.0488895\ttotal: 3.97s\tremaining: 3.44s\n",
            "536:\tlearn: 0.0488523\ttotal: 3.98s\tremaining: 3.43s\n",
            "537:\tlearn: 0.0487616\ttotal: 3.98s\tremaining: 3.42s\n",
            "538:\tlearn: 0.0487035\ttotal: 3.98s\tremaining: 3.41s\n",
            "539:\tlearn: 0.0486704\ttotal: 3.99s\tremaining: 3.4s\n",
            "540:\tlearn: 0.0485922\ttotal: 3.99s\tremaining: 3.39s\n",
            "541:\tlearn: 0.0485342\ttotal: 4s\tremaining: 3.38s\n",
            "542:\tlearn: 0.0484600\ttotal: 4s\tremaining: 3.37s\n",
            "543:\tlearn: 0.0483944\ttotal: 4.01s\tremaining: 3.36s\n",
            "544:\tlearn: 0.0483693\ttotal: 4.01s\tremaining: 3.35s\n",
            "545:\tlearn: 0.0483133\ttotal: 4.01s\tremaining: 3.34s\n",
            "546:\tlearn: 0.0482895\ttotal: 4.02s\tremaining: 3.33s\n",
            "547:\tlearn: 0.0482415\ttotal: 4.02s\tremaining: 3.32s\n",
            "548:\tlearn: 0.0481680\ttotal: 4.03s\tremaining: 3.31s\n",
            "549:\tlearn: 0.0480979\ttotal: 4.03s\tremaining: 3.3s\n",
            "550:\tlearn: 0.0480486\ttotal: 4.04s\tremaining: 3.29s\n",
            "551:\tlearn: 0.0479562\ttotal: 4.04s\tremaining: 3.28s\n",
            "552:\tlearn: 0.0479183\ttotal: 4.04s\tremaining: 3.27s\n",
            "553:\tlearn: 0.0478679\ttotal: 4.05s\tremaining: 3.26s\n",
            "554:\tlearn: 0.0478650\ttotal: 4.05s\tremaining: 3.25s\n",
            "555:\tlearn: 0.0478082\ttotal: 4.06s\tremaining: 3.24s\n",
            "556:\tlearn: 0.0477946\ttotal: 4.06s\tremaining: 3.23s\n",
            "557:\tlearn: 0.0477511\ttotal: 4.07s\tremaining: 3.22s\n",
            "558:\tlearn: 0.0477292\ttotal: 4.07s\tremaining: 3.21s\n",
            "559:\tlearn: 0.0476418\ttotal: 4.07s\tremaining: 3.2s\n",
            "560:\tlearn: 0.0476116\ttotal: 4.08s\tremaining: 3.19s\n",
            "561:\tlearn: 0.0475756\ttotal: 4.08s\tremaining: 3.18s\n",
            "562:\tlearn: 0.0474776\ttotal: 4.09s\tremaining: 3.17s\n",
            "563:\tlearn: 0.0474325\ttotal: 4.09s\tremaining: 3.16s\n",
            "564:\tlearn: 0.0473711\ttotal: 4.09s\tremaining: 3.15s\n",
            "565:\tlearn: 0.0473294\ttotal: 4.1s\tremaining: 3.14s\n",
            "566:\tlearn: 0.0473066\ttotal: 4.1s\tremaining: 3.13s\n",
            "567:\tlearn: 0.0472513\ttotal: 4.11s\tremaining: 3.12s\n",
            "568:\tlearn: 0.0472405\ttotal: 4.11s\tremaining: 3.11s\n",
            "569:\tlearn: 0.0472074\ttotal: 4.12s\tremaining: 3.1s\n",
            "570:\tlearn: 0.0471728\ttotal: 4.12s\tremaining: 3.1s\n",
            "571:\tlearn: 0.0470863\ttotal: 4.13s\tremaining: 3.09s\n",
            "572:\tlearn: 0.0470835\ttotal: 4.13s\tremaining: 3.08s\n",
            "573:\tlearn: 0.0470807\ttotal: 4.13s\tremaining: 3.07s\n",
            "574:\tlearn: 0.0470161\ttotal: 4.14s\tremaining: 3.06s\n",
            "575:\tlearn: 0.0470135\ttotal: 4.14s\tremaining: 3.05s\n",
            "576:\tlearn: 0.0469998\ttotal: 4.15s\tremaining: 3.04s\n",
            "577:\tlearn: 0.0469371\ttotal: 4.15s\tremaining: 3.03s\n",
            "578:\tlearn: 0.0469055\ttotal: 4.15s\tremaining: 3.02s\n",
            "579:\tlearn: 0.0468340\ttotal: 4.16s\tremaining: 3.01s\n",
            "580:\tlearn: 0.0467879\ttotal: 4.17s\tremaining: 3s\n",
            "581:\tlearn: 0.0467572\ttotal: 4.17s\tremaining: 3s\n",
            "582:\tlearn: 0.0467271\ttotal: 4.18s\tremaining: 2.99s\n",
            "583:\tlearn: 0.0467169\ttotal: 4.18s\tremaining: 2.98s\n",
            "584:\tlearn: 0.0466491\ttotal: 4.18s\tremaining: 2.97s\n",
            "585:\tlearn: 0.0465695\ttotal: 4.19s\tremaining: 2.96s\n",
            "586:\tlearn: 0.0465120\ttotal: 4.19s\tremaining: 2.95s\n",
            "587:\tlearn: 0.0464690\ttotal: 4.2s\tremaining: 2.94s\n",
            "588:\tlearn: 0.0464124\ttotal: 4.2s\tremaining: 2.93s\n",
            "589:\tlearn: 0.0463501\ttotal: 4.21s\tremaining: 2.92s\n",
            "590:\tlearn: 0.0463476\ttotal: 4.21s\tremaining: 2.91s\n",
            "591:\tlearn: 0.0463295\ttotal: 4.21s\tremaining: 2.9s\n",
            "592:\tlearn: 0.0463228\ttotal: 4.22s\tremaining: 2.9s\n",
            "593:\tlearn: 0.0463203\ttotal: 4.22s\tremaining: 2.89s\n",
            "594:\tlearn: 0.0462632\ttotal: 4.23s\tremaining: 2.88s\n",
            "595:\tlearn: 0.0462350\ttotal: 4.23s\tremaining: 2.87s\n",
            "596:\tlearn: 0.0462252\ttotal: 4.24s\tremaining: 2.86s\n",
            "597:\tlearn: 0.0462224\ttotal: 4.24s\tremaining: 2.85s\n",
            "598:\tlearn: 0.0461894\ttotal: 4.25s\tremaining: 2.84s\n",
            "599:\tlearn: 0.0461870\ttotal: 4.25s\tremaining: 2.83s\n",
            "600:\tlearn: 0.0461844\ttotal: 4.25s\tremaining: 2.82s\n",
            "601:\tlearn: 0.0461125\ttotal: 4.26s\tremaining: 2.81s\n",
            "602:\tlearn: 0.0461102\ttotal: 4.26s\tremaining: 2.81s\n",
            "603:\tlearn: 0.0460668\ttotal: 4.26s\tremaining: 2.8s\n",
            "604:\tlearn: 0.0459896\ttotal: 4.27s\tremaining: 2.79s\n",
            "605:\tlearn: 0.0459430\ttotal: 4.27s\tremaining: 2.78s\n",
            "606:\tlearn: 0.0459060\ttotal: 4.28s\tremaining: 2.77s\n",
            "607:\tlearn: 0.0458990\ttotal: 4.28s\tremaining: 2.76s\n",
            "608:\tlearn: 0.0458240\ttotal: 4.29s\tremaining: 2.75s\n",
            "609:\tlearn: 0.0457662\ttotal: 4.29s\tremaining: 2.74s\n",
            "610:\tlearn: 0.0456969\ttotal: 4.3s\tremaining: 2.73s\n",
            "611:\tlearn: 0.0456760\ttotal: 4.3s\tremaining: 2.73s\n",
            "612:\tlearn: 0.0455845\ttotal: 4.3s\tremaining: 2.72s\n",
            "613:\tlearn: 0.0455206\ttotal: 4.31s\tremaining: 2.71s\n",
            "614:\tlearn: 0.0454336\ttotal: 4.31s\tremaining: 2.7s\n",
            "615:\tlearn: 0.0453971\ttotal: 4.32s\tremaining: 2.69s\n",
            "616:\tlearn: 0.0453528\ttotal: 4.33s\tremaining: 2.68s\n",
            "617:\tlearn: 0.0453029\ttotal: 4.33s\tremaining: 2.68s\n",
            "618:\tlearn: 0.0452962\ttotal: 4.33s\tremaining: 2.67s\n",
            "619:\tlearn: 0.0452136\ttotal: 4.34s\tremaining: 2.66s\n",
            "620:\tlearn: 0.0451613\ttotal: 4.35s\tremaining: 2.65s\n",
            "621:\tlearn: 0.0451275\ttotal: 4.35s\tremaining: 2.64s\n",
            "622:\tlearn: 0.0450653\ttotal: 4.36s\tremaining: 2.64s\n",
            "623:\tlearn: 0.0449852\ttotal: 4.37s\tremaining: 2.63s\n",
            "624:\tlearn: 0.0449604\ttotal: 4.37s\tremaining: 2.62s\n",
            "625:\tlearn: 0.0449163\ttotal: 4.37s\tremaining: 2.61s\n",
            "626:\tlearn: 0.0448842\ttotal: 4.38s\tremaining: 2.6s\n",
            "627:\tlearn: 0.0448766\ttotal: 4.38s\tremaining: 2.6s\n",
            "628:\tlearn: 0.0448014\ttotal: 4.39s\tremaining: 2.59s\n",
            "629:\tlearn: 0.0447532\ttotal: 4.39s\tremaining: 2.58s\n",
            "630:\tlearn: 0.0447226\ttotal: 4.4s\tremaining: 2.57s\n",
            "631:\tlearn: 0.0446689\ttotal: 4.4s\tremaining: 2.56s\n",
            "632:\tlearn: 0.0446615\ttotal: 4.4s\tremaining: 2.55s\n",
            "633:\tlearn: 0.0446381\ttotal: 4.41s\tremaining: 2.54s\n",
            "634:\tlearn: 0.0445841\ttotal: 4.41s\tremaining: 2.54s\n",
            "635:\tlearn: 0.0445370\ttotal: 4.42s\tremaining: 2.53s\n",
            "636:\tlearn: 0.0444665\ttotal: 4.42s\tremaining: 2.52s\n",
            "637:\tlearn: 0.0444254\ttotal: 4.42s\tremaining: 2.51s\n",
            "638:\tlearn: 0.0444181\ttotal: 4.43s\tremaining: 2.5s\n",
            "639:\tlearn: 0.0443512\ttotal: 4.43s\tremaining: 2.49s\n",
            "640:\tlearn: 0.0443298\ttotal: 4.44s\tremaining: 2.48s\n",
            "641:\tlearn: 0.0442791\ttotal: 4.44s\tremaining: 2.48s\n",
            "642:\tlearn: 0.0442156\ttotal: 4.45s\tremaining: 2.47s\n",
            "643:\tlearn: 0.0441637\ttotal: 4.46s\tremaining: 2.46s\n",
            "644:\tlearn: 0.0441565\ttotal: 4.46s\tremaining: 2.46s\n",
            "645:\tlearn: 0.0441052\ttotal: 4.47s\tremaining: 2.45s\n",
            "646:\tlearn: 0.0440634\ttotal: 4.47s\tremaining: 2.44s\n",
            "647:\tlearn: 0.0440272\ttotal: 4.47s\tremaining: 2.43s\n",
            "648:\tlearn: 0.0439841\ttotal: 4.48s\tremaining: 2.42s\n",
            "649:\tlearn: 0.0439146\ttotal: 4.48s\tremaining: 2.41s\n",
            "650:\tlearn: 0.0438487\ttotal: 4.49s\tremaining: 2.41s\n",
            "651:\tlearn: 0.0438287\ttotal: 4.5s\tremaining: 2.4s\n",
            "652:\tlearn: 0.0437846\ttotal: 4.5s\tremaining: 2.39s\n",
            "653:\tlearn: 0.0437368\ttotal: 4.5s\tremaining: 2.38s\n",
            "654:\tlearn: 0.0437277\ttotal: 4.51s\tremaining: 2.37s\n",
            "655:\tlearn: 0.0436711\ttotal: 4.51s\tremaining: 2.37s\n",
            "656:\tlearn: 0.0436322\ttotal: 4.51s\tremaining: 2.36s\n",
            "657:\tlearn: 0.0436234\ttotal: 4.52s\tremaining: 2.35s\n",
            "658:\tlearn: 0.0435940\ttotal: 4.52s\tremaining: 2.34s\n",
            "659:\tlearn: 0.0435599\ttotal: 4.53s\tremaining: 2.33s\n",
            "660:\tlearn: 0.0435218\ttotal: 4.53s\tremaining: 2.33s\n",
            "661:\tlearn: 0.0434727\ttotal: 4.54s\tremaining: 2.32s\n",
            "662:\tlearn: 0.0434643\ttotal: 4.54s\tremaining: 2.31s\n",
            "663:\tlearn: 0.0434220\ttotal: 4.55s\tremaining: 2.3s\n",
            "664:\tlearn: 0.0433645\ttotal: 4.55s\tremaining: 2.29s\n",
            "665:\tlearn: 0.0433113\ttotal: 4.56s\tremaining: 2.29s\n",
            "666:\tlearn: 0.0432645\ttotal: 4.57s\tremaining: 2.28s\n",
            "667:\tlearn: 0.0432464\ttotal: 4.57s\tremaining: 2.27s\n",
            "668:\tlearn: 0.0432011\ttotal: 4.57s\tremaining: 2.26s\n",
            "669:\tlearn: 0.0431466\ttotal: 4.58s\tremaining: 2.25s\n",
            "670:\tlearn: 0.0430994\ttotal: 4.58s\tremaining: 2.25s\n",
            "671:\tlearn: 0.0430912\ttotal: 4.59s\tremaining: 2.24s\n",
            "672:\tlearn: 0.0430846\ttotal: 4.59s\tremaining: 2.23s\n",
            "673:\tlearn: 0.0430448\ttotal: 4.59s\tremaining: 2.22s\n",
            "674:\tlearn: 0.0429982\ttotal: 4.6s\tremaining: 2.22s\n",
            "675:\tlearn: 0.0429659\ttotal: 4.61s\tremaining: 2.21s\n",
            "676:\tlearn: 0.0429164\ttotal: 4.62s\tremaining: 2.2s\n",
            "677:\tlearn: 0.0428490\ttotal: 4.63s\tremaining: 2.2s\n",
            "678:\tlearn: 0.0428164\ttotal: 4.63s\tremaining: 2.19s\n",
            "679:\tlearn: 0.0428084\ttotal: 4.64s\tremaining: 2.18s\n",
            "680:\tlearn: 0.0427743\ttotal: 4.64s\tremaining: 2.17s\n",
            "681:\tlearn: 0.0427666\ttotal: 4.64s\tremaining: 2.17s\n",
            "682:\tlearn: 0.0427590\ttotal: 4.65s\tremaining: 2.16s\n",
            "683:\tlearn: 0.0427161\ttotal: 4.65s\tremaining: 2.15s\n",
            "684:\tlearn: 0.0426642\ttotal: 4.66s\tremaining: 2.14s\n",
            "685:\tlearn: 0.0425929\ttotal: 4.66s\tremaining: 2.13s\n",
            "686:\tlearn: 0.0425431\ttotal: 4.67s\tremaining: 2.13s\n",
            "687:\tlearn: 0.0425142\ttotal: 4.67s\tremaining: 2.12s\n",
            "688:\tlearn: 0.0425119\ttotal: 4.67s\tremaining: 2.11s\n",
            "689:\tlearn: 0.0425097\ttotal: 4.68s\tremaining: 2.1s\n",
            "690:\tlearn: 0.0425075\ttotal: 4.68s\tremaining: 2.09s\n",
            "691:\tlearn: 0.0425054\ttotal: 4.69s\tremaining: 2.08s\n",
            "692:\tlearn: 0.0425033\ttotal: 4.69s\tremaining: 2.08s\n",
            "693:\tlearn: 0.0425013\ttotal: 4.69s\tremaining: 2.07s\n",
            "694:\tlearn: 0.0424403\ttotal: 4.7s\tremaining: 2.06s\n",
            "695:\tlearn: 0.0424160\ttotal: 4.7s\tremaining: 2.05s\n",
            "696:\tlearn: 0.0423985\ttotal: 4.71s\tremaining: 2.05s\n",
            "697:\tlearn: 0.0423491\ttotal: 4.71s\tremaining: 2.04s\n",
            "698:\tlearn: 0.0423094\ttotal: 4.72s\tremaining: 2.03s\n",
            "699:\tlearn: 0.0422786\ttotal: 4.72s\tremaining: 2.02s\n",
            "700:\tlearn: 0.0422766\ttotal: 4.73s\tremaining: 2.02s\n",
            "701:\tlearn: 0.0422747\ttotal: 4.73s\tremaining: 2.01s\n",
            "702:\tlearn: 0.0422726\ttotal: 4.73s\tremaining: 2s\n",
            "703:\tlearn: 0.0422299\ttotal: 4.74s\tremaining: 1.99s\n",
            "704:\tlearn: 0.0421915\ttotal: 4.74s\tremaining: 1.98s\n",
            "705:\tlearn: 0.0421430\ttotal: 4.75s\tremaining: 1.98s\n",
            "706:\tlearn: 0.0421345\ttotal: 4.75s\tremaining: 1.97s\n",
            "707:\tlearn: 0.0420981\ttotal: 4.76s\tremaining: 1.96s\n",
            "708:\tlearn: 0.0420722\ttotal: 4.77s\tremaining: 1.96s\n",
            "709:\tlearn: 0.0420551\ttotal: 4.77s\tremaining: 1.95s\n",
            "710:\tlearn: 0.0420533\ttotal: 4.78s\tremaining: 1.94s\n",
            "711:\tlearn: 0.0420515\ttotal: 4.78s\tremaining: 1.93s\n",
            "712:\tlearn: 0.0420329\ttotal: 4.78s\tremaining: 1.93s\n",
            "713:\tlearn: 0.0420302\ttotal: 4.79s\tremaining: 1.92s\n",
            "714:\tlearn: 0.0420022\ttotal: 4.79s\tremaining: 1.91s\n",
            "715:\tlearn: 0.0419847\ttotal: 4.8s\tremaining: 1.9s\n",
            "716:\tlearn: 0.0419827\ttotal: 4.8s\tremaining: 1.89s\n",
            "717:\tlearn: 0.0419811\ttotal: 4.8s\tremaining: 1.89s\n",
            "718:\tlearn: 0.0419795\ttotal: 4.81s\tremaining: 1.88s\n",
            "719:\tlearn: 0.0419328\ttotal: 4.82s\tremaining: 1.87s\n",
            "720:\tlearn: 0.0418660\ttotal: 4.82s\tremaining: 1.87s\n",
            "721:\tlearn: 0.0418254\ttotal: 4.83s\tremaining: 1.86s\n",
            "722:\tlearn: 0.0417953\ttotal: 4.83s\tremaining: 1.85s\n",
            "723:\tlearn: 0.0417516\ttotal: 4.84s\tremaining: 1.84s\n",
            "724:\tlearn: 0.0417132\ttotal: 4.84s\tremaining: 1.84s\n",
            "725:\tlearn: 0.0416810\ttotal: 4.85s\tremaining: 1.83s\n",
            "726:\tlearn: 0.0416758\ttotal: 4.85s\tremaining: 1.82s\n",
            "727:\tlearn: 0.0416199\ttotal: 4.86s\tremaining: 1.81s\n",
            "728:\tlearn: 0.0415753\ttotal: 4.86s\tremaining: 1.81s\n",
            "729:\tlearn: 0.0415704\ttotal: 4.86s\tremaining: 1.8s\n",
            "730:\tlearn: 0.0415209\ttotal: 4.87s\tremaining: 1.79s\n",
            "731:\tlearn: 0.0414860\ttotal: 4.87s\tremaining: 1.78s\n",
            "732:\tlearn: 0.0414786\ttotal: 4.88s\tremaining: 1.78s\n",
            "733:\tlearn: 0.0414345\ttotal: 4.88s\tremaining: 1.77s\n",
            "734:\tlearn: 0.0413984\ttotal: 4.88s\tremaining: 1.76s\n",
            "735:\tlearn: 0.0413419\ttotal: 4.89s\tremaining: 1.75s\n",
            "736:\tlearn: 0.0413118\ttotal: 4.89s\tremaining: 1.75s\n",
            "737:\tlearn: 0.0412954\ttotal: 4.9s\tremaining: 1.74s\n",
            "738:\tlearn: 0.0412668\ttotal: 4.9s\tremaining: 1.73s\n",
            "739:\tlearn: 0.0412202\ttotal: 4.91s\tremaining: 1.72s\n",
            "740:\tlearn: 0.0411988\ttotal: 4.91s\tremaining: 1.72s\n",
            "741:\tlearn: 0.0411792\ttotal: 4.92s\tremaining: 1.71s\n",
            "742:\tlearn: 0.0411588\ttotal: 4.92s\tremaining: 1.7s\n",
            "743:\tlearn: 0.0410960\ttotal: 4.92s\tremaining: 1.69s\n",
            "744:\tlearn: 0.0410510\ttotal: 4.93s\tremaining: 1.69s\n",
            "745:\tlearn: 0.0410128\ttotal: 4.93s\tremaining: 1.68s\n",
            "746:\tlearn: 0.0409776\ttotal: 4.94s\tremaining: 1.67s\n",
            "747:\tlearn: 0.0409191\ttotal: 4.94s\tremaining: 1.66s\n",
            "748:\tlearn: 0.0408652\ttotal: 4.95s\tremaining: 1.66s\n",
            "749:\tlearn: 0.0408582\ttotal: 4.95s\tremaining: 1.65s\n",
            "750:\tlearn: 0.0408425\ttotal: 4.96s\tremaining: 1.64s\n",
            "751:\tlearn: 0.0408153\ttotal: 4.97s\tremaining: 1.64s\n",
            "752:\tlearn: 0.0407467\ttotal: 4.97s\tremaining: 1.63s\n",
            "753:\tlearn: 0.0407393\ttotal: 4.97s\tremaining: 1.62s\n",
            "754:\tlearn: 0.0406879\ttotal: 4.98s\tremaining: 1.62s\n",
            "755:\tlearn: 0.0406623\ttotal: 4.98s\tremaining: 1.61s\n",
            "756:\tlearn: 0.0406214\ttotal: 4.99s\tremaining: 1.6s\n",
            "757:\tlearn: 0.0406024\ttotal: 4.99s\tremaining: 1.59s\n",
            "758:\tlearn: 0.0405988\ttotal: 5s\tremaining: 1.59s\n",
            "759:\tlearn: 0.0405522\ttotal: 5s\tremaining: 1.58s\n",
            "760:\tlearn: 0.0405191\ttotal: 5s\tremaining: 1.57s\n",
            "761:\tlearn: 0.0405155\ttotal: 5.01s\tremaining: 1.56s\n",
            "762:\tlearn: 0.0404595\ttotal: 5.01s\tremaining: 1.56s\n",
            "763:\tlearn: 0.0403992\ttotal: 5.02s\tremaining: 1.55s\n",
            "764:\tlearn: 0.0403590\ttotal: 5.02s\tremaining: 1.54s\n",
            "765:\tlearn: 0.0403057\ttotal: 5.03s\tremaining: 1.53s\n",
            "766:\tlearn: 0.0402822\ttotal: 5.03s\tremaining: 1.53s\n",
            "767:\tlearn: 0.0402510\ttotal: 5.04s\tremaining: 1.52s\n",
            "768:\tlearn: 0.0402152\ttotal: 5.04s\tremaining: 1.51s\n",
            "769:\tlearn: 0.0401683\ttotal: 5.04s\tremaining: 1.51s\n",
            "770:\tlearn: 0.0401445\ttotal: 5.05s\tremaining: 1.5s\n",
            "771:\tlearn: 0.0401199\ttotal: 5.05s\tremaining: 1.49s\n",
            "772:\tlearn: 0.0400502\ttotal: 5.06s\tremaining: 1.49s\n",
            "773:\tlearn: 0.0399929\ttotal: 5.06s\tremaining: 1.48s\n",
            "774:\tlearn: 0.0399503\ttotal: 5.07s\tremaining: 1.47s\n",
            "775:\tlearn: 0.0399448\ttotal: 5.07s\tremaining: 1.46s\n",
            "776:\tlearn: 0.0399395\ttotal: 5.08s\tremaining: 1.46s\n",
            "777:\tlearn: 0.0399317\ttotal: 5.08s\tremaining: 1.45s\n",
            "778:\tlearn: 0.0398882\ttotal: 5.08s\tremaining: 1.44s\n",
            "779:\tlearn: 0.0398526\ttotal: 5.09s\tremaining: 1.44s\n",
            "780:\tlearn: 0.0397887\ttotal: 5.09s\tremaining: 1.43s\n",
            "781:\tlearn: 0.0397372\ttotal: 5.1s\tremaining: 1.42s\n",
            "782:\tlearn: 0.0397289\ttotal: 5.1s\tremaining: 1.41s\n",
            "783:\tlearn: 0.0397207\ttotal: 5.11s\tremaining: 1.41s\n",
            "784:\tlearn: 0.0397175\ttotal: 5.11s\tremaining: 1.4s\n",
            "785:\tlearn: 0.0396943\ttotal: 5.12s\tremaining: 1.39s\n",
            "786:\tlearn: 0.0396863\ttotal: 5.12s\tremaining: 1.39s\n",
            "787:\tlearn: 0.0396342\ttotal: 5.13s\tremaining: 1.38s\n",
            "788:\tlearn: 0.0396194\ttotal: 5.13s\tremaining: 1.37s\n",
            "789:\tlearn: 0.0396115\ttotal: 5.13s\tremaining: 1.36s\n",
            "790:\tlearn: 0.0395595\ttotal: 5.14s\tremaining: 1.36s\n",
            "791:\tlearn: 0.0395516\ttotal: 5.14s\tremaining: 1.35s\n",
            "792:\tlearn: 0.0395484\ttotal: 5.15s\tremaining: 1.34s\n",
            "793:\tlearn: 0.0395469\ttotal: 5.15s\tremaining: 1.34s\n",
            "794:\tlearn: 0.0395149\ttotal: 5.16s\tremaining: 1.33s\n",
            "795:\tlearn: 0.0395072\ttotal: 5.17s\tremaining: 1.32s\n",
            "796:\tlearn: 0.0394829\ttotal: 5.17s\tremaining: 1.32s\n",
            "797:\tlearn: 0.0394753\ttotal: 5.17s\tremaining: 1.31s\n",
            "798:\tlearn: 0.0394678\ttotal: 5.18s\tremaining: 1.3s\n",
            "799:\tlearn: 0.0394664\ttotal: 5.18s\tremaining: 1.29s\n",
            "800:\tlearn: 0.0394591\ttotal: 5.19s\tremaining: 1.29s\n",
            "801:\tlearn: 0.0394186\ttotal: 5.19s\tremaining: 1.28s\n",
            "802:\tlearn: 0.0394114\ttotal: 5.2s\tremaining: 1.27s\n",
            "803:\tlearn: 0.0393517\ttotal: 5.2s\tremaining: 1.27s\n",
            "804:\tlearn: 0.0393192\ttotal: 5.2s\tremaining: 1.26s\n",
            "805:\tlearn: 0.0393122\ttotal: 5.21s\tremaining: 1.25s\n",
            "806:\tlearn: 0.0392630\ttotal: 5.21s\tremaining: 1.25s\n",
            "807:\tlearn: 0.0392162\ttotal: 5.22s\tremaining: 1.24s\n",
            "808:\tlearn: 0.0391750\ttotal: 5.22s\tremaining: 1.23s\n",
            "809:\tlearn: 0.0391186\ttotal: 5.22s\tremaining: 1.23s\n",
            "810:\tlearn: 0.0390942\ttotal: 5.23s\tremaining: 1.22s\n",
            "811:\tlearn: 0.0390807\ttotal: 5.23s\tremaining: 1.21s\n",
            "812:\tlearn: 0.0390362\ttotal: 5.24s\tremaining: 1.2s\n",
            "813:\tlearn: 0.0390110\ttotal: 5.24s\tremaining: 1.2s\n",
            "814:\tlearn: 0.0390099\ttotal: 5.25s\tremaining: 1.19s\n",
            "815:\tlearn: 0.0389679\ttotal: 5.25s\tremaining: 1.18s\n",
            "816:\tlearn: 0.0389286\ttotal: 5.25s\tremaining: 1.18s\n",
            "817:\tlearn: 0.0389163\ttotal: 5.26s\tremaining: 1.17s\n",
            "818:\tlearn: 0.0388940\ttotal: 5.26s\tremaining: 1.16s\n",
            "819:\tlearn: 0.0388925\ttotal: 5.27s\tremaining: 1.16s\n",
            "820:\tlearn: 0.0388597\ttotal: 5.27s\tremaining: 1.15s\n",
            "821:\tlearn: 0.0388316\ttotal: 5.27s\tremaining: 1.14s\n",
            "822:\tlearn: 0.0388035\ttotal: 5.28s\tremaining: 1.14s\n",
            "823:\tlearn: 0.0387668\ttotal: 5.29s\tremaining: 1.13s\n",
            "824:\tlearn: 0.0387310\ttotal: 5.3s\tremaining: 1.12s\n",
            "825:\tlearn: 0.0386856\ttotal: 5.3s\tremaining: 1.12s\n",
            "826:\tlearn: 0.0386497\ttotal: 5.31s\tremaining: 1.11s\n",
            "827:\tlearn: 0.0386371\ttotal: 5.31s\tremaining: 1.1s\n",
            "828:\tlearn: 0.0385721\ttotal: 5.32s\tremaining: 1.1s\n",
            "829:\tlearn: 0.0385381\ttotal: 5.32s\tremaining: 1.09s\n",
            "830:\tlearn: 0.0385141\ttotal: 5.33s\tremaining: 1.08s\n",
            "831:\tlearn: 0.0384545\ttotal: 5.33s\tremaining: 1.08s\n",
            "832:\tlearn: 0.0384062\ttotal: 5.33s\tremaining: 1.07s\n",
            "833:\tlearn: 0.0383993\ttotal: 5.34s\tremaining: 1.06s\n",
            "834:\tlearn: 0.0383775\ttotal: 5.34s\tremaining: 1.05s\n",
            "835:\tlearn: 0.0383555\ttotal: 5.35s\tremaining: 1.05s\n",
            "836:\tlearn: 0.0383502\ttotal: 5.36s\tremaining: 1.04s\n",
            "837:\tlearn: 0.0383434\ttotal: 5.36s\tremaining: 1.04s\n",
            "838:\tlearn: 0.0383225\ttotal: 5.37s\tremaining: 1.03s\n",
            "839:\tlearn: 0.0383159\ttotal: 5.37s\tremaining: 1.02s\n",
            "840:\tlearn: 0.0382532\ttotal: 5.37s\tremaining: 1.01s\n",
            "841:\tlearn: 0.0382100\ttotal: 5.38s\tremaining: 1.01s\n",
            "842:\tlearn: 0.0381376\ttotal: 5.38s\tremaining: 1s\n",
            "843:\tlearn: 0.0381083\ttotal: 5.38s\tremaining: 995ms\n",
            "844:\tlearn: 0.0380951\ttotal: 5.39s\tremaining: 989ms\n",
            "845:\tlearn: 0.0380350\ttotal: 5.39s\tremaining: 982ms\n",
            "846:\tlearn: 0.0380287\ttotal: 5.4s\tremaining: 975ms\n",
            "847:\tlearn: 0.0380187\ttotal: 5.4s\tremaining: 968ms\n",
            "848:\tlearn: 0.0380031\ttotal: 5.41s\tremaining: 961ms\n",
            "849:\tlearn: 0.0379922\ttotal: 5.41s\tremaining: 955ms\n",
            "850:\tlearn: 0.0379773\ttotal: 5.41s\tremaining: 948ms\n",
            "851:\tlearn: 0.0379091\ttotal: 5.42s\tremaining: 941ms\n",
            "852:\tlearn: 0.0378799\ttotal: 5.42s\tremaining: 934ms\n",
            "853:\tlearn: 0.0378503\ttotal: 5.43s\tremaining: 928ms\n",
            "854:\tlearn: 0.0378042\ttotal: 5.43s\tremaining: 921ms\n",
            "855:\tlearn: 0.0377977\ttotal: 5.43s\tremaining: 914ms\n",
            "856:\tlearn: 0.0377775\ttotal: 5.44s\tremaining: 907ms\n",
            "857:\tlearn: 0.0377714\ttotal: 5.44s\tremaining: 901ms\n",
            "858:\tlearn: 0.0377418\ttotal: 5.45s\tremaining: 894ms\n",
            "859:\tlearn: 0.0377358\ttotal: 5.45s\tremaining: 887ms\n",
            "860:\tlearn: 0.0377131\ttotal: 5.46s\tremaining: 881ms\n",
            "861:\tlearn: 0.0376672\ttotal: 5.46s\tremaining: 874ms\n",
            "862:\tlearn: 0.0376458\ttotal: 5.46s\tremaining: 867ms\n",
            "863:\tlearn: 0.0376446\ttotal: 5.47s\tremaining: 861ms\n",
            "864:\tlearn: 0.0376387\ttotal: 5.47s\tremaining: 854ms\n",
            "865:\tlearn: 0.0376004\ttotal: 5.47s\tremaining: 847ms\n",
            "866:\tlearn: 0.0375629\ttotal: 5.48s\tremaining: 841ms\n",
            "867:\tlearn: 0.0375572\ttotal: 5.48s\tremaining: 834ms\n",
            "868:\tlearn: 0.0375159\ttotal: 5.49s\tremaining: 827ms\n",
            "869:\tlearn: 0.0375125\ttotal: 5.49s\tremaining: 821ms\n",
            "870:\tlearn: 0.0374985\ttotal: 5.5s\tremaining: 814ms\n",
            "871:\tlearn: 0.0374974\ttotal: 5.5s\tremaining: 807ms\n",
            "872:\tlearn: 0.0374917\ttotal: 5.5s\tremaining: 801ms\n",
            "873:\tlearn: 0.0374862\ttotal: 5.51s\tremaining: 794ms\n",
            "874:\tlearn: 0.0374758\ttotal: 5.51s\tremaining: 788ms\n",
            "875:\tlearn: 0.0374377\ttotal: 5.52s\tremaining: 781ms\n",
            "876:\tlearn: 0.0374032\ttotal: 5.52s\tremaining: 774ms\n",
            "877:\tlearn: 0.0373655\ttotal: 5.53s\tremaining: 768ms\n",
            "878:\tlearn: 0.0373211\ttotal: 5.53s\tremaining: 761ms\n",
            "879:\tlearn: 0.0373197\ttotal: 5.53s\tremaining: 755ms\n",
            "880:\tlearn: 0.0372606\ttotal: 5.54s\tremaining: 748ms\n",
            "881:\tlearn: 0.0372084\ttotal: 5.54s\tremaining: 742ms\n",
            "882:\tlearn: 0.0371984\ttotal: 5.55s\tremaining: 736ms\n",
            "883:\tlearn: 0.0371931\ttotal: 5.56s\tremaining: 730ms\n",
            "884:\tlearn: 0.0371917\ttotal: 5.57s\tremaining: 723ms\n",
            "885:\tlearn: 0.0371860\ttotal: 5.57s\tremaining: 717ms\n",
            "886:\tlearn: 0.0371659\ttotal: 5.58s\tremaining: 711ms\n",
            "887:\tlearn: 0.0371553\ttotal: 5.59s\tremaining: 705ms\n",
            "888:\tlearn: 0.0371273\ttotal: 5.6s\tremaining: 699ms\n",
            "889:\tlearn: 0.0371226\ttotal: 5.6s\tremaining: 693ms\n",
            "890:\tlearn: 0.0370952\ttotal: 5.61s\tremaining: 686ms\n",
            "891:\tlearn: 0.0370912\ttotal: 5.61s\tremaining: 680ms\n",
            "892:\tlearn: 0.0370505\ttotal: 5.62s\tremaining: 673ms\n",
            "893:\tlearn: 0.0369965\ttotal: 5.62s\tremaining: 666ms\n",
            "894:\tlearn: 0.0369938\ttotal: 5.63s\tremaining: 660ms\n",
            "895:\tlearn: 0.0369928\ttotal: 5.63s\tremaining: 653ms\n",
            "896:\tlearn: 0.0369875\ttotal: 5.63s\tremaining: 647ms\n",
            "897:\tlearn: 0.0369571\ttotal: 5.64s\tremaining: 640ms\n",
            "898:\tlearn: 0.0369519\ttotal: 5.64s\tremaining: 634ms\n",
            "899:\tlearn: 0.0369468\ttotal: 5.65s\tremaining: 627ms\n",
            "900:\tlearn: 0.0369212\ttotal: 5.65s\tremaining: 621ms\n",
            "901:\tlearn: 0.0368857\ttotal: 5.66s\tremaining: 614ms\n",
            "902:\tlearn: 0.0368384\ttotal: 5.66s\tremaining: 608ms\n",
            "903:\tlearn: 0.0368235\ttotal: 5.66s\tremaining: 601ms\n",
            "904:\tlearn: 0.0368128\ttotal: 5.67s\tremaining: 595ms\n",
            "905:\tlearn: 0.0367882\ttotal: 5.68s\tremaining: 589ms\n",
            "906:\tlearn: 0.0367831\ttotal: 5.68s\tremaining: 583ms\n",
            "907:\tlearn: 0.0367782\ttotal: 5.69s\tremaining: 576ms\n",
            "908:\tlearn: 0.0367638\ttotal: 5.69s\tremaining: 570ms\n",
            "909:\tlearn: 0.0367629\ttotal: 5.7s\tremaining: 564ms\n",
            "910:\tlearn: 0.0367369\ttotal: 5.7s\tremaining: 557ms\n",
            "911:\tlearn: 0.0367178\ttotal: 5.71s\tremaining: 551ms\n",
            "912:\tlearn: 0.0366912\ttotal: 5.71s\tremaining: 544ms\n",
            "913:\tlearn: 0.0366861\ttotal: 5.71s\tremaining: 538ms\n",
            "914:\tlearn: 0.0366852\ttotal: 5.72s\tremaining: 531ms\n",
            "915:\tlearn: 0.0366804\ttotal: 5.72s\tremaining: 525ms\n",
            "916:\tlearn: 0.0366606\ttotal: 5.73s\tremaining: 518ms\n",
            "917:\tlearn: 0.0366369\ttotal: 5.73s\tremaining: 512ms\n",
            "918:\tlearn: 0.0366114\ttotal: 5.74s\tremaining: 506ms\n",
            "919:\tlearn: 0.0365666\ttotal: 5.74s\tremaining: 499ms\n",
            "920:\tlearn: 0.0365282\ttotal: 5.74s\tremaining: 493ms\n",
            "921:\tlearn: 0.0364833\ttotal: 5.75s\tremaining: 487ms\n",
            "922:\tlearn: 0.0364370\ttotal: 5.76s\tremaining: 480ms\n",
            "923:\tlearn: 0.0364212\ttotal: 5.76s\tremaining: 474ms\n",
            "924:\tlearn: 0.0363860\ttotal: 5.77s\tremaining: 468ms\n",
            "925:\tlearn: 0.0363751\ttotal: 5.77s\tremaining: 461ms\n",
            "926:\tlearn: 0.0363477\ttotal: 5.78s\tremaining: 455ms\n",
            "927:\tlearn: 0.0363429\ttotal: 5.78s\tremaining: 448ms\n",
            "928:\tlearn: 0.0363147\ttotal: 5.78s\tremaining: 442ms\n",
            "929:\tlearn: 0.0363098\ttotal: 5.79s\tremaining: 436ms\n",
            "930:\tlearn: 0.0363000\ttotal: 5.79s\tremaining: 429ms\n",
            "931:\tlearn: 0.0362947\ttotal: 5.8s\tremaining: 423ms\n",
            "932:\tlearn: 0.0362842\ttotal: 5.8s\tremaining: 417ms\n",
            "933:\tlearn: 0.0362583\ttotal: 5.8s\tremaining: 410ms\n",
            "934:\tlearn: 0.0362266\ttotal: 5.81s\tremaining: 404ms\n",
            "935:\tlearn: 0.0362135\ttotal: 5.81s\tremaining: 397ms\n",
            "936:\tlearn: 0.0361939\ttotal: 5.82s\tremaining: 391ms\n",
            "937:\tlearn: 0.0361866\ttotal: 5.82s\tremaining: 385ms\n",
            "938:\tlearn: 0.0361796\ttotal: 5.83s\tremaining: 378ms\n",
            "939:\tlearn: 0.0361643\ttotal: 5.83s\tremaining: 372ms\n",
            "940:\tlearn: 0.0361204\ttotal: 5.83s\tremaining: 366ms\n",
            "941:\tlearn: 0.0360924\ttotal: 5.84s\tremaining: 359ms\n",
            "942:\tlearn: 0.0360635\ttotal: 5.84s\tremaining: 353ms\n",
            "943:\tlearn: 0.0360588\ttotal: 5.85s\tremaining: 347ms\n",
            "944:\tlearn: 0.0360542\ttotal: 5.85s\tremaining: 341ms\n",
            "945:\tlearn: 0.0360497\ttotal: 5.86s\tremaining: 334ms\n",
            "946:\tlearn: 0.0360455\ttotal: 5.86s\tremaining: 328ms\n",
            "947:\tlearn: 0.0360166\ttotal: 5.86s\tremaining: 322ms\n",
            "948:\tlearn: 0.0359924\ttotal: 5.87s\tremaining: 315ms\n",
            "949:\tlearn: 0.0359690\ttotal: 5.87s\tremaining: 309ms\n",
            "950:\tlearn: 0.0359442\ttotal: 5.88s\tremaining: 303ms\n",
            "951:\tlearn: 0.0359183\ttotal: 5.88s\tremaining: 297ms\n",
            "952:\tlearn: 0.0358916\ttotal: 5.88s\tremaining: 290ms\n",
            "953:\tlearn: 0.0358809\ttotal: 5.89s\tremaining: 284ms\n",
            "954:\tlearn: 0.0358427\ttotal: 5.89s\tremaining: 278ms\n",
            "955:\tlearn: 0.0357754\ttotal: 5.9s\tremaining: 271ms\n",
            "956:\tlearn: 0.0357393\ttotal: 5.9s\tremaining: 265ms\n",
            "957:\tlearn: 0.0356757\ttotal: 5.91s\tremaining: 259ms\n",
            "958:\tlearn: 0.0356445\ttotal: 5.91s\tremaining: 253ms\n",
            "959:\tlearn: 0.0356220\ttotal: 5.92s\tremaining: 246ms\n",
            "960:\tlearn: 0.0355845\ttotal: 5.92s\tremaining: 240ms\n",
            "961:\tlearn: 0.0355582\ttotal: 5.92s\tremaining: 234ms\n",
            "962:\tlearn: 0.0355112\ttotal: 5.93s\tremaining: 228ms\n",
            "963:\tlearn: 0.0354721\ttotal: 5.93s\tremaining: 222ms\n",
            "964:\tlearn: 0.0354628\ttotal: 5.94s\tremaining: 215ms\n",
            "965:\tlearn: 0.0353994\ttotal: 5.94s\tremaining: 209ms\n",
            "966:\tlearn: 0.0353587\ttotal: 5.95s\tremaining: 203ms\n",
            "967:\tlearn: 0.0353170\ttotal: 5.96s\tremaining: 197ms\n",
            "968:\tlearn: 0.0352919\ttotal: 5.96s\tremaining: 191ms\n",
            "969:\tlearn: 0.0352427\ttotal: 5.96s\tremaining: 184ms\n",
            "970:\tlearn: 0.0352396\ttotal: 5.97s\tremaining: 178ms\n",
            "971:\tlearn: 0.0351846\ttotal: 5.97s\tremaining: 172ms\n",
            "972:\tlearn: 0.0351818\ttotal: 5.98s\tremaining: 166ms\n",
            "973:\tlearn: 0.0351770\ttotal: 5.98s\tremaining: 160ms\n",
            "974:\tlearn: 0.0351444\ttotal: 5.99s\tremaining: 154ms\n",
            "975:\tlearn: 0.0351237\ttotal: 5.99s\tremaining: 147ms\n",
            "976:\tlearn: 0.0351215\ttotal: 6s\tremaining: 141ms\n",
            "977:\tlearn: 0.0351193\ttotal: 6s\tremaining: 135ms\n",
            "978:\tlearn: 0.0350994\ttotal: 6.01s\tremaining: 129ms\n",
            "979:\tlearn: 0.0350291\ttotal: 6.01s\tremaining: 123ms\n",
            "980:\tlearn: 0.0349766\ttotal: 6.02s\tremaining: 117ms\n",
            "981:\tlearn: 0.0349172\ttotal: 6.02s\tremaining: 110ms\n",
            "982:\tlearn: 0.0348705\ttotal: 6.03s\tremaining: 104ms\n",
            "983:\tlearn: 0.0348666\ttotal: 6.03s\tremaining: 98ms\n",
            "984:\tlearn: 0.0348572\ttotal: 6.03s\tremaining: 91.9ms\n",
            "985:\tlearn: 0.0348233\ttotal: 6.04s\tremaining: 85.7ms\n",
            "986:\tlearn: 0.0347901\ttotal: 6.04s\tremaining: 79.6ms\n",
            "987:\tlearn: 0.0347380\ttotal: 6.04s\tremaining: 73.4ms\n",
            "988:\tlearn: 0.0347212\ttotal: 6.05s\tremaining: 67.3ms\n",
            "989:\tlearn: 0.0347002\ttotal: 6.05s\tremaining: 61.2ms\n",
            "990:\tlearn: 0.0346693\ttotal: 6.06s\tremaining: 55ms\n",
            "991:\tlearn: 0.0346526\ttotal: 6.06s\tremaining: 48.9ms\n",
            "992:\tlearn: 0.0346187\ttotal: 6.07s\tremaining: 42.8ms\n",
            "993:\tlearn: 0.0345780\ttotal: 6.07s\tremaining: 36.6ms\n",
            "994:\tlearn: 0.0345557\ttotal: 6.08s\tremaining: 30.5ms\n",
            "995:\tlearn: 0.0345284\ttotal: 6.08s\tremaining: 24.4ms\n",
            "996:\tlearn: 0.0345120\ttotal: 6.08s\tremaining: 18.3ms\n",
            "997:\tlearn: 0.0345095\ttotal: 6.09s\tremaining: 12.2ms\n",
            "998:\tlearn: 0.0344943\ttotal: 6.09s\tremaining: 6.1ms\n",
            "999:\tlearn: 0.0344634\ttotal: 6.1s\tremaining: 0us\n"
          ]
        },
        {
          "output_type": "execute_result",
          "data": {
            "text/plain": [
              "<catboost.core.CatBoostClassifier at 0x7f8b8a8b7dc0>"
            ]
          },
          "metadata": {},
          "execution_count": 78
        }
      ]
    },
    {
      "cell_type": "code",
      "metadata": {
        "colab": {
          "base_uri": "https://localhost:8080/",
          "height": 129
        },
        "id": "T3hhR6S41xtT",
        "outputId": "09630044-b25e-4366-c336-8c0e2870b04f"
      },
      "source": [
        "model4.fit(X_train, y_train)"
      ],
      "execution_count": null,
      "outputs": [
        {
          "output_type": "stream",
          "name": "stderr",
          "text": [
            "<ipython-input-66-e1373b20bd5a>:1: DataConversionWarning: A column-vector y was passed when a 1d array was expected. Please change the shape of y to (n_samples,), for example using ravel().\n",
            "  model4.fit(X_train, y_train)\n"
          ]
        },
        {
          "output_type": "execute_result",
          "data": {
            "text/plain": [
              "RandomForestClassifier()"
            ],
            "text/html": [
              "<style>#sk-container-id-8 {color: black;background-color: white;}#sk-container-id-8 pre{padding: 0;}#sk-container-id-8 div.sk-toggleable {background-color: white;}#sk-container-id-8 label.sk-toggleable__label {cursor: pointer;display: block;width: 100%;margin-bottom: 0;padding: 0.3em;box-sizing: border-box;text-align: center;}#sk-container-id-8 label.sk-toggleable__label-arrow:before {content: \"▸\";float: left;margin-right: 0.25em;color: #696969;}#sk-container-id-8 label.sk-toggleable__label-arrow:hover:before {color: black;}#sk-container-id-8 div.sk-estimator:hover label.sk-toggleable__label-arrow:before {color: black;}#sk-container-id-8 div.sk-toggleable__content {max-height: 0;max-width: 0;overflow: hidden;text-align: left;background-color: #f0f8ff;}#sk-container-id-8 div.sk-toggleable__content pre {margin: 0.2em;color: black;border-radius: 0.25em;background-color: #f0f8ff;}#sk-container-id-8 input.sk-toggleable__control:checked~div.sk-toggleable__content {max-height: 200px;max-width: 100%;overflow: auto;}#sk-container-id-8 input.sk-toggleable__control:checked~label.sk-toggleable__label-arrow:before {content: \"▾\";}#sk-container-id-8 div.sk-estimator input.sk-toggleable__control:checked~label.sk-toggleable__label {background-color: #d4ebff;}#sk-container-id-8 div.sk-label input.sk-toggleable__control:checked~label.sk-toggleable__label {background-color: #d4ebff;}#sk-container-id-8 input.sk-hidden--visually {border: 0;clip: rect(1px 1px 1px 1px);clip: rect(1px, 1px, 1px, 1px);height: 1px;margin: -1px;overflow: hidden;padding: 0;position: absolute;width: 1px;}#sk-container-id-8 div.sk-estimator {font-family: monospace;background-color: #f0f8ff;border: 1px dotted black;border-radius: 0.25em;box-sizing: border-box;margin-bottom: 0.5em;}#sk-container-id-8 div.sk-estimator:hover {background-color: #d4ebff;}#sk-container-id-8 div.sk-parallel-item::after {content: \"\";width: 100%;border-bottom: 1px solid gray;flex-grow: 1;}#sk-container-id-8 div.sk-label:hover label.sk-toggleable__label {background-color: #d4ebff;}#sk-container-id-8 div.sk-serial::before {content: \"\";position: absolute;border-left: 1px solid gray;box-sizing: border-box;top: 0;bottom: 0;left: 50%;z-index: 0;}#sk-container-id-8 div.sk-serial {display: flex;flex-direction: column;align-items: center;background-color: white;padding-right: 0.2em;padding-left: 0.2em;position: relative;}#sk-container-id-8 div.sk-item {position: relative;z-index: 1;}#sk-container-id-8 div.sk-parallel {display: flex;align-items: stretch;justify-content: center;background-color: white;position: relative;}#sk-container-id-8 div.sk-item::before, #sk-container-id-8 div.sk-parallel-item::before {content: \"\";position: absolute;border-left: 1px solid gray;box-sizing: border-box;top: 0;bottom: 0;left: 50%;z-index: -1;}#sk-container-id-8 div.sk-parallel-item {display: flex;flex-direction: column;z-index: 1;position: relative;background-color: white;}#sk-container-id-8 div.sk-parallel-item:first-child::after {align-self: flex-end;width: 50%;}#sk-container-id-8 div.sk-parallel-item:last-child::after {align-self: flex-start;width: 50%;}#sk-container-id-8 div.sk-parallel-item:only-child::after {width: 0;}#sk-container-id-8 div.sk-dashed-wrapped {border: 1px dashed gray;margin: 0 0.4em 0.5em 0.4em;box-sizing: border-box;padding-bottom: 0.4em;background-color: white;}#sk-container-id-8 div.sk-label label {font-family: monospace;font-weight: bold;display: inline-block;line-height: 1.2em;}#sk-container-id-8 div.sk-label-container {text-align: center;}#sk-container-id-8 div.sk-container {/* jupyter's `normalize.less` sets `[hidden] { display: none; }` but bootstrap.min.css set `[hidden] { display: none !important; }` so we also need the `!important` here to be able to override the default hidden behavior on the sphinx rendered scikit-learn.org. See: https://github.com/scikit-learn/scikit-learn/issues/21755 */display: inline-block !important;position: relative;}#sk-container-id-8 div.sk-text-repr-fallback {display: none;}</style><div id=\"sk-container-id-8\" class=\"sk-top-container\"><div class=\"sk-text-repr-fallback\"><pre>RandomForestClassifier()</pre><b>In a Jupyter environment, please rerun this cell to show the HTML representation or trust the notebook. <br />On GitHub, the HTML representation is unable to render, please try loading this page with nbviewer.org.</b></div><div class=\"sk-container\" hidden><div class=\"sk-item\"><div class=\"sk-estimator sk-toggleable\"><input class=\"sk-toggleable__control sk-hidden--visually\" id=\"sk-estimator-id-8\" type=\"checkbox\" checked><label for=\"sk-estimator-id-8\" class=\"sk-toggleable__label sk-toggleable__label-arrow\">RandomForestClassifier</label><div class=\"sk-toggleable__content\"><pre>RandomForestClassifier()</pre></div></div></div></div></div>"
            ]
          },
          "metadata": {},
          "execution_count": 66
        }
      ]
    },
    {
      "cell_type": "code",
      "metadata": {
        "colab": {
          "base_uri": "https://localhost:8080/",
          "height": 129
        },
        "id": "0TotlJ601xtU",
        "outputId": "70bd1f18-aaff-406b-a19e-79b105bc973e"
      },
      "source": [
        "model5.fit(X_train, y_train)"
      ],
      "execution_count": null,
      "outputs": [
        {
          "output_type": "stream",
          "name": "stderr",
          "text": [
            "<ipython-input-67-22bcca698d6e>:1: DataConversionWarning: A column-vector y was passed when a 1d array was expected. Please change the shape of y to (n_samples,), for example using ravel().\n",
            "  model5.fit(X_train, y_train)\n"
          ]
        },
        {
          "output_type": "execute_result",
          "data": {
            "text/plain": [
              "RandomForestClassifier(max_depth=8, n_estimators=20)"
            ],
            "text/html": [
              "<style>#sk-container-id-9 {color: black;background-color: white;}#sk-container-id-9 pre{padding: 0;}#sk-container-id-9 div.sk-toggleable {background-color: white;}#sk-container-id-9 label.sk-toggleable__label {cursor: pointer;display: block;width: 100%;margin-bottom: 0;padding: 0.3em;box-sizing: border-box;text-align: center;}#sk-container-id-9 label.sk-toggleable__label-arrow:before {content: \"▸\";float: left;margin-right: 0.25em;color: #696969;}#sk-container-id-9 label.sk-toggleable__label-arrow:hover:before {color: black;}#sk-container-id-9 div.sk-estimator:hover label.sk-toggleable__label-arrow:before {color: black;}#sk-container-id-9 div.sk-toggleable__content {max-height: 0;max-width: 0;overflow: hidden;text-align: left;background-color: #f0f8ff;}#sk-container-id-9 div.sk-toggleable__content pre {margin: 0.2em;color: black;border-radius: 0.25em;background-color: #f0f8ff;}#sk-container-id-9 input.sk-toggleable__control:checked~div.sk-toggleable__content {max-height: 200px;max-width: 100%;overflow: auto;}#sk-container-id-9 input.sk-toggleable__control:checked~label.sk-toggleable__label-arrow:before {content: \"▾\";}#sk-container-id-9 div.sk-estimator input.sk-toggleable__control:checked~label.sk-toggleable__label {background-color: #d4ebff;}#sk-container-id-9 div.sk-label input.sk-toggleable__control:checked~label.sk-toggleable__label {background-color: #d4ebff;}#sk-container-id-9 input.sk-hidden--visually {border: 0;clip: rect(1px 1px 1px 1px);clip: rect(1px, 1px, 1px, 1px);height: 1px;margin: -1px;overflow: hidden;padding: 0;position: absolute;width: 1px;}#sk-container-id-9 div.sk-estimator {font-family: monospace;background-color: #f0f8ff;border: 1px dotted black;border-radius: 0.25em;box-sizing: border-box;margin-bottom: 0.5em;}#sk-container-id-9 div.sk-estimator:hover {background-color: #d4ebff;}#sk-container-id-9 div.sk-parallel-item::after {content: \"\";width: 100%;border-bottom: 1px solid gray;flex-grow: 1;}#sk-container-id-9 div.sk-label:hover label.sk-toggleable__label {background-color: #d4ebff;}#sk-container-id-9 div.sk-serial::before {content: \"\";position: absolute;border-left: 1px solid gray;box-sizing: border-box;top: 0;bottom: 0;left: 50%;z-index: 0;}#sk-container-id-9 div.sk-serial {display: flex;flex-direction: column;align-items: center;background-color: white;padding-right: 0.2em;padding-left: 0.2em;position: relative;}#sk-container-id-9 div.sk-item {position: relative;z-index: 1;}#sk-container-id-9 div.sk-parallel {display: flex;align-items: stretch;justify-content: center;background-color: white;position: relative;}#sk-container-id-9 div.sk-item::before, #sk-container-id-9 div.sk-parallel-item::before {content: \"\";position: absolute;border-left: 1px solid gray;box-sizing: border-box;top: 0;bottom: 0;left: 50%;z-index: -1;}#sk-container-id-9 div.sk-parallel-item {display: flex;flex-direction: column;z-index: 1;position: relative;background-color: white;}#sk-container-id-9 div.sk-parallel-item:first-child::after {align-self: flex-end;width: 50%;}#sk-container-id-9 div.sk-parallel-item:last-child::after {align-self: flex-start;width: 50%;}#sk-container-id-9 div.sk-parallel-item:only-child::after {width: 0;}#sk-container-id-9 div.sk-dashed-wrapped {border: 1px dashed gray;margin: 0 0.4em 0.5em 0.4em;box-sizing: border-box;padding-bottom: 0.4em;background-color: white;}#sk-container-id-9 div.sk-label label {font-family: monospace;font-weight: bold;display: inline-block;line-height: 1.2em;}#sk-container-id-9 div.sk-label-container {text-align: center;}#sk-container-id-9 div.sk-container {/* jupyter's `normalize.less` sets `[hidden] { display: none; }` but bootstrap.min.css set `[hidden] { display: none !important; }` so we also need the `!important` here to be able to override the default hidden behavior on the sphinx rendered scikit-learn.org. See: https://github.com/scikit-learn/scikit-learn/issues/21755 */display: inline-block !important;position: relative;}#sk-container-id-9 div.sk-text-repr-fallback {display: none;}</style><div id=\"sk-container-id-9\" class=\"sk-top-container\"><div class=\"sk-text-repr-fallback\"><pre>RandomForestClassifier(max_depth=8, n_estimators=20)</pre><b>In a Jupyter environment, please rerun this cell to show the HTML representation or trust the notebook. <br />On GitHub, the HTML representation is unable to render, please try loading this page with nbviewer.org.</b></div><div class=\"sk-container\" hidden><div class=\"sk-item\"><div class=\"sk-estimator sk-toggleable\"><input class=\"sk-toggleable__control sk-hidden--visually\" id=\"sk-estimator-id-9\" type=\"checkbox\" checked><label for=\"sk-estimator-id-9\" class=\"sk-toggleable__label sk-toggleable__label-arrow\">RandomForestClassifier</label><div class=\"sk-toggleable__content\"><pre>RandomForestClassifier(max_depth=8, n_estimators=20)</pre></div></div></div></div></div>"
            ]
          },
          "metadata": {},
          "execution_count": 67
        }
      ]
    },
    {
      "cell_type": "code",
      "metadata": {
        "id": "_UFpx06Mp7Wy",
        "colab": {
          "base_uri": "https://localhost:8080/",
          "height": 75
        },
        "outputId": "3c980788-ab26-4f60-e431-1ca674264cfe"
      },
      "source": [
        "# Agregamos un sexto modelo que es un clasificador de arbol simple\n",
        "# Para tomarlo como punto de comparación\n",
        "from sklearn.tree import DecisionTreeClassifier\n",
        "\n",
        "# Defino el modelo\n",
        "model6 = DecisionTreeClassifier()\n",
        "# Entreno el modelo\n",
        "model6.fit(X_train, y_train)"
      ],
      "execution_count": null,
      "outputs": [
        {
          "output_type": "execute_result",
          "data": {
            "text/plain": [
              "DecisionTreeClassifier()"
            ],
            "text/html": [
              "<style>#sk-container-id-11 {color: black;background-color: white;}#sk-container-id-11 pre{padding: 0;}#sk-container-id-11 div.sk-toggleable {background-color: white;}#sk-container-id-11 label.sk-toggleable__label {cursor: pointer;display: block;width: 100%;margin-bottom: 0;padding: 0.3em;box-sizing: border-box;text-align: center;}#sk-container-id-11 label.sk-toggleable__label-arrow:before {content: \"▸\";float: left;margin-right: 0.25em;color: #696969;}#sk-container-id-11 label.sk-toggleable__label-arrow:hover:before {color: black;}#sk-container-id-11 div.sk-estimator:hover label.sk-toggleable__label-arrow:before {color: black;}#sk-container-id-11 div.sk-toggleable__content {max-height: 0;max-width: 0;overflow: hidden;text-align: left;background-color: #f0f8ff;}#sk-container-id-11 div.sk-toggleable__content pre {margin: 0.2em;color: black;border-radius: 0.25em;background-color: #f0f8ff;}#sk-container-id-11 input.sk-toggleable__control:checked~div.sk-toggleable__content {max-height: 200px;max-width: 100%;overflow: auto;}#sk-container-id-11 input.sk-toggleable__control:checked~label.sk-toggleable__label-arrow:before {content: \"▾\";}#sk-container-id-11 div.sk-estimator input.sk-toggleable__control:checked~label.sk-toggleable__label {background-color: #d4ebff;}#sk-container-id-11 div.sk-label input.sk-toggleable__control:checked~label.sk-toggleable__label {background-color: #d4ebff;}#sk-container-id-11 input.sk-hidden--visually {border: 0;clip: rect(1px 1px 1px 1px);clip: rect(1px, 1px, 1px, 1px);height: 1px;margin: -1px;overflow: hidden;padding: 0;position: absolute;width: 1px;}#sk-container-id-11 div.sk-estimator {font-family: monospace;background-color: #f0f8ff;border: 1px dotted black;border-radius: 0.25em;box-sizing: border-box;margin-bottom: 0.5em;}#sk-container-id-11 div.sk-estimator:hover {background-color: #d4ebff;}#sk-container-id-11 div.sk-parallel-item::after {content: \"\";width: 100%;border-bottom: 1px solid gray;flex-grow: 1;}#sk-container-id-11 div.sk-label:hover label.sk-toggleable__label {background-color: #d4ebff;}#sk-container-id-11 div.sk-serial::before {content: \"\";position: absolute;border-left: 1px solid gray;box-sizing: border-box;top: 0;bottom: 0;left: 50%;z-index: 0;}#sk-container-id-11 div.sk-serial {display: flex;flex-direction: column;align-items: center;background-color: white;padding-right: 0.2em;padding-left: 0.2em;position: relative;}#sk-container-id-11 div.sk-item {position: relative;z-index: 1;}#sk-container-id-11 div.sk-parallel {display: flex;align-items: stretch;justify-content: center;background-color: white;position: relative;}#sk-container-id-11 div.sk-item::before, #sk-container-id-11 div.sk-parallel-item::before {content: \"\";position: absolute;border-left: 1px solid gray;box-sizing: border-box;top: 0;bottom: 0;left: 50%;z-index: -1;}#sk-container-id-11 div.sk-parallel-item {display: flex;flex-direction: column;z-index: 1;position: relative;background-color: white;}#sk-container-id-11 div.sk-parallel-item:first-child::after {align-self: flex-end;width: 50%;}#sk-container-id-11 div.sk-parallel-item:last-child::after {align-self: flex-start;width: 50%;}#sk-container-id-11 div.sk-parallel-item:only-child::after {width: 0;}#sk-container-id-11 div.sk-dashed-wrapped {border: 1px dashed gray;margin: 0 0.4em 0.5em 0.4em;box-sizing: border-box;padding-bottom: 0.4em;background-color: white;}#sk-container-id-11 div.sk-label label {font-family: monospace;font-weight: bold;display: inline-block;line-height: 1.2em;}#sk-container-id-11 div.sk-label-container {text-align: center;}#sk-container-id-11 div.sk-container {/* jupyter's `normalize.less` sets `[hidden] { display: none; }` but bootstrap.min.css set `[hidden] { display: none !important; }` so we also need the `!important` here to be able to override the default hidden behavior on the sphinx rendered scikit-learn.org. See: https://github.com/scikit-learn/scikit-learn/issues/21755 */display: inline-block !important;position: relative;}#sk-container-id-11 div.sk-text-repr-fallback {display: none;}</style><div id=\"sk-container-id-11\" class=\"sk-top-container\"><div class=\"sk-text-repr-fallback\"><pre>DecisionTreeClassifier()</pre><b>In a Jupyter environment, please rerun this cell to show the HTML representation or trust the notebook. <br />On GitHub, the HTML representation is unable to render, please try loading this page with nbviewer.org.</b></div><div class=\"sk-container\" hidden><div class=\"sk-item\"><div class=\"sk-estimator sk-toggleable\"><input class=\"sk-toggleable__control sk-hidden--visually\" id=\"sk-estimator-id-11\" type=\"checkbox\" checked><label for=\"sk-estimator-id-11\" class=\"sk-toggleable__label sk-toggleable__label-arrow\">DecisionTreeClassifier</label><div class=\"sk-toggleable__content\"><pre>DecisionTreeClassifier()</pre></div></div></div></div></div>"
            ]
          },
          "metadata": {},
          "execution_count": 69
        }
      ]
    },
    {
      "cell_type": "code",
      "metadata": {
        "colab": {
          "base_uri": "https://localhost:8080/",
          "height": 35
        },
        "id": "9DDPJroB1xtV",
        "outputId": "783d29de-4965-49fd-9a21-82ac1755ba89"
      },
      "source": [
        "# importamos la libreria final\n",
        "import sklearn\n",
        "sklearn.__version__"
      ],
      "execution_count": null,
      "outputs": [
        {
          "output_type": "execute_result",
          "data": {
            "text/plain": [
              "'1.2.2'"
            ],
            "application/vnd.google.colaboratory.intrinsic+json": {
              "type": "string"
            }
          },
          "metadata": {},
          "execution_count": 72
        }
      ]
    },
    {
      "cell_type": "code",
      "metadata": {
        "id": "SWLcxXcmoOFr"
      },
      "source": [
        "# Vamos a predecir un resultado para cada modelo\n",
        "from sklearn.metrics import classification_report\n",
        "\n",
        "pred1 = model1.predict(X_test)\n",
        "pred2 = model2.predict(X_test)\n",
        "pred3 = model3.predict(X_test)\n",
        "pred4 = model4.predict(X_test)\n",
        "pred5 = model5.predict(X_test)\n",
        "pred6 = model6.predict(X_test)"
      ],
      "execution_count": null,
      "outputs": []
    },
    {
      "cell_type": "code",
      "source": [
        "pred4"
      ],
      "metadata": {
        "colab": {
          "base_uri": "https://localhost:8080/"
        },
        "id": "faN5DPhefv9k",
        "outputId": "3c82f7f4-8c39-4a77-ff0b-6eb1d73dd3a8"
      },
      "execution_count": null,
      "outputs": [
        {
          "output_type": "execute_result",
          "data": {
            "text/plain": [
              "array([1., 0., 0., ..., 0., 0., 0.])"
            ]
          },
          "metadata": {},
          "execution_count": 81
        }
      ]
    },
    {
      "cell_type": "code",
      "metadata": {
        "colab": {
          "base_uri": "https://localhost:8080/"
        },
        "id": "T19p49Jr1xtW",
        "outputId": "d68bfae3-35e5-4451-e0a9-2f52d9ba320b"
      },
      "source": [
        "print(pred4)"
      ],
      "execution_count": null,
      "outputs": [
        {
          "output_type": "stream",
          "name": "stdout",
          "text": [
            "[1. 0. 0. ... 0. 0. 0.]\n"
          ]
        }
      ]
    },
    {
      "cell_type": "markdown",
      "source": [
        "Procedemos a hacer la matriz de confusión para cada modelo generado y lo comparamos con el test.\n",
        "Comparamos lo real frente a lo predicho\n"
      ],
      "metadata": {
        "id": "7ww1_QPtgex_"
      }
    },
    {
      "cell_type": "code",
      "metadata": {
        "colab": {
          "base_uri": "https://localhost:8080/"
        },
        "id": "ogFfH99v1xtX",
        "outputId": "cad7d76a-e6f2-4df1-93a4-bd024c4c08d6"
      },
      "source": [
        "from sklearn.metrics import confusion_matrix\n",
        "confusion_matrix(y_test, pred1)"
      ],
      "execution_count": null,
      "outputs": [
        {
          "output_type": "execute_result",
          "data": {
            "text/plain": [
              "array([[4476,   44],\n",
              "       [ 101,  411]])"
            ]
          },
          "metadata": {},
          "execution_count": 38
        }
      ]
    },
    {
      "cell_type": "code",
      "metadata": {
        "colab": {
          "base_uri": "https://localhost:8080/"
        },
        "id": "w6rxfhFRtMLZ",
        "outputId": "a9bd17bf-0ef8-42fe-f318-6f04fa2cd08b"
      },
      "source": [
        "from sklearn.metrics import confusion_matrix\n",
        "confusion_matrix(y_test, pred2)"
      ],
      "execution_count": null,
      "outputs": [
        {
          "output_type": "execute_result",
          "data": {
            "text/plain": [
              "array([[4483,   37],\n",
              "       [ 145,  367]])"
            ]
          },
          "metadata": {},
          "execution_count": 39
        }
      ]
    },
    {
      "cell_type": "code",
      "metadata": {
        "colab": {
          "base_uri": "https://localhost:8080/"
        },
        "id": "gdNNsnRjtMQf",
        "outputId": "cefc8470-7a2c-40bc-8d48-43539fc86089"
      },
      "source": [
        "from sklearn.metrics import confusion_matrix\n",
        "confusion_matrix(y_test, pred3)"
      ],
      "execution_count": null,
      "outputs": [
        {
          "output_type": "execute_result",
          "data": {
            "text/plain": [
              "array([[4486,   34],\n",
              "       [ 114,  398]])"
            ]
          },
          "metadata": {},
          "execution_count": 40
        }
      ]
    },
    {
      "cell_type": "code",
      "metadata": {
        "colab": {
          "base_uri": "https://localhost:8080/"
        },
        "id": "b6VpZQjftMWL",
        "outputId": "7a9c8295-6995-4194-aa1e-090fc935f292"
      },
      "source": [
        "from sklearn.metrics import confusion_matrix\n",
        "confusion_matrix(y_test, pred4)"
      ],
      "execution_count": null,
      "outputs": [
        {
          "output_type": "execute_result",
          "data": {
            "text/plain": [
              "array([[4489,   31],\n",
              "       [ 108,  404]])"
            ]
          },
          "metadata": {},
          "execution_count": 41
        }
      ]
    },
    {
      "cell_type": "code",
      "metadata": {
        "colab": {
          "base_uri": "https://localhost:8080/"
        },
        "id": "0XqqrQLHtMb5",
        "outputId": "fb454770-fa6e-4748-a093-4c3cee41c6d0"
      },
      "source": [
        "from sklearn.metrics import confusion_matrix\n",
        "confusion_matrix(y_test, pred5)"
      ],
      "execution_count": null,
      "outputs": [
        {
          "output_type": "execute_result",
          "data": {
            "text/plain": [
              "array([[4501,   19],\n",
              "       [ 146,  366]])"
            ]
          },
          "metadata": {},
          "execution_count": 42
        }
      ]
    },
    {
      "cell_type": "code",
      "metadata": {
        "colab": {
          "base_uri": "https://localhost:8080/"
        },
        "id": "9VTAYnGyu27d",
        "outputId": "e0be729b-9d69-4639-ff58-b766ae21f902"
      },
      "source": [
        "from sklearn.metrics import confusion_matrix\n",
        "confusion_matrix(y_test, pred6)"
      ],
      "execution_count": null,
      "outputs": [
        {
          "output_type": "execute_result",
          "data": {
            "text/plain": [
              "array([[4432,   88],\n",
              "       [ 108,  404]])"
            ]
          },
          "metadata": {},
          "execution_count": 43
        }
      ]
    },
    {
      "cell_type": "code",
      "metadata": {
        "colab": {
          "base_uri": "https://localhost:8080/"
        },
        "id": "5TIws4eou3JJ",
        "outputId": "28bdce94-2a4d-4076-b4e6-5b6c4150635a"
      },
      "source": [
        "from sklearn.metrics import confusion_matrix\n",
        "confusion_matrix(y_test, pred1)"
      ],
      "execution_count": null,
      "outputs": [
        {
          "output_type": "execute_result",
          "data": {
            "text/plain": [
              "array([[4476,   44],\n",
              "       [ 101,  411]])"
            ]
          },
          "metadata": {},
          "execution_count": 44
        }
      ]
    },
    {
      "cell_type": "code",
      "metadata": {
        "colab": {
          "base_uri": "https://localhost:8080/"
        },
        "id": "ngqjWa_H1xtX",
        "outputId": "f8a02a84-3b33-45fa-d972-c0a00a754194"
      },
      "source": [
        "print(classification_report(y_test,pred1))"
      ],
      "execution_count": null,
      "outputs": [
        {
          "output_type": "stream",
          "name": "stdout",
          "text": [
            "              precision    recall  f1-score   support\n",
            "\n",
            "         0.0       0.98      0.99      0.98      4520\n",
            "         1.0       0.90      0.80      0.85       512\n",
            "\n",
            "    accuracy                           0.97      5032\n",
            "   macro avg       0.94      0.90      0.92      5032\n",
            "weighted avg       0.97      0.97      0.97      5032\n",
            "\n"
          ]
        }
      ]
    },
    {
      "cell_type": "code",
      "metadata": {
        "colab": {
          "base_uri": "https://localhost:8080/"
        },
        "id": "TygrFuw41xtY",
        "outputId": "b032eafa-429e-4585-ab57-1c58548c5cce"
      },
      "source": [
        "print(classification_report(y_test,pred2))"
      ],
      "execution_count": null,
      "outputs": [
        {
          "output_type": "stream",
          "name": "stdout",
          "text": [
            "              precision    recall  f1-score   support\n",
            "\n",
            "         0.0       0.97      0.99      0.98      4520\n",
            "         1.0       0.91      0.72      0.80       512\n",
            "\n",
            "    accuracy                           0.96      5032\n",
            "   macro avg       0.94      0.85      0.89      5032\n",
            "weighted avg       0.96      0.96      0.96      5032\n",
            "\n"
          ]
        }
      ]
    },
    {
      "cell_type": "code",
      "metadata": {
        "colab": {
          "base_uri": "https://localhost:8080/"
        },
        "id": "OM51TvKh1xtY",
        "outputId": "449a72b4-95c1-4b05-e014-b2e577040e7e"
      },
      "source": [
        "print(classification_report(y_test,pred3))"
      ],
      "execution_count": null,
      "outputs": [
        {
          "output_type": "stream",
          "name": "stdout",
          "text": [
            "              precision    recall  f1-score   support\n",
            "\n",
            "         0.0       0.98      0.99      0.98      4520\n",
            "         1.0       0.92      0.78      0.84       512\n",
            "\n",
            "    accuracy                           0.97      5032\n",
            "   macro avg       0.95      0.88      0.91      5032\n",
            "weighted avg       0.97      0.97      0.97      5032\n",
            "\n"
          ]
        }
      ]
    },
    {
      "cell_type": "code",
      "metadata": {
        "colab": {
          "base_uri": "https://localhost:8080/"
        },
        "id": "anEYdzWA1xtZ",
        "outputId": "90a627ac-0556-4caa-f05a-5edf852d01e6"
      },
      "source": [
        "print(classification_report(y_test,pred4))"
      ],
      "execution_count": null,
      "outputs": [
        {
          "output_type": "stream",
          "name": "stdout",
          "text": [
            "              precision    recall  f1-score   support\n",
            "\n",
            "         0.0       0.98      0.99      0.98      4520\n",
            "         1.0       0.93      0.79      0.85       512\n",
            "\n",
            "    accuracy                           0.97      5032\n",
            "   macro avg       0.95      0.89      0.92      5032\n",
            "weighted avg       0.97      0.97      0.97      5032\n",
            "\n"
          ]
        }
      ]
    },
    {
      "cell_type": "code",
      "metadata": {
        "colab": {
          "base_uri": "https://localhost:8080/"
        },
        "id": "gs8aFD8x1xta",
        "outputId": "ad6fd6de-6d58-4e8c-c650-33114aa9ccd5"
      },
      "source": [
        "print(classification_report(y_test,pred5))"
      ],
      "execution_count": null,
      "outputs": [
        {
          "output_type": "stream",
          "name": "stdout",
          "text": [
            "              precision    recall  f1-score   support\n",
            "\n",
            "         0.0       0.97      1.00      0.98      4520\n",
            "         1.0       0.95      0.71      0.82       512\n",
            "\n",
            "    accuracy                           0.97      5032\n",
            "   macro avg       0.96      0.86      0.90      5032\n",
            "weighted avg       0.97      0.97      0.97      5032\n",
            "\n"
          ]
        }
      ]
    },
    {
      "cell_type": "code",
      "metadata": {
        "colab": {
          "base_uri": "https://localhost:8080/"
        },
        "id": "x-qPcXbq1xta",
        "outputId": "a12aa0aa-654d-449a-f353-57237a13691b"
      },
      "source": [
        "print(classification_report(y_test,pred6))"
      ],
      "execution_count": null,
      "outputs": [
        {
          "output_type": "stream",
          "name": "stdout",
          "text": [
            "              precision    recall  f1-score   support\n",
            "\n",
            "         0.0       0.98      0.98      0.98      4520\n",
            "         1.0       0.82      0.79      0.80       512\n",
            "\n",
            "    accuracy                           0.96      5032\n",
            "   macro avg       0.90      0.88      0.89      5032\n",
            "weighted avg       0.96      0.96      0.96      5032\n",
            "\n"
          ]
        }
      ]
    },
    {
      "cell_type": "code",
      "metadata": {
        "id": "Fnl4lJsA1xtb"
      },
      "source": [
        "df = pd.DataFrame({'algorithm' : ['XGBoost','XGBoost Tuneado','Catboost','RF','RF Tuneado','Arbol de Decision'],\n",
        "                   'precision' : [0.90, 0.91, 0.92,0.92,0.96,0.81],\n",
        "                   'recall' : [0.80, 0.72, 0.78,0.79,0.69,0.79]})"
      ],
      "execution_count": null,
      "outputs": []
    },
    {
      "cell_type": "code",
      "metadata": {
        "colab": {
          "base_uri": "https://localhost:8080/",
          "height": 238
        },
        "id": "gTq4lioV1xtc",
        "outputId": "e4d16511-0048-4cc1-bc01-3cbba01fa69e"
      },
      "source": [
        "df"
      ],
      "execution_count": null,
      "outputs": [
        {
          "output_type": "execute_result",
          "data": {
            "text/plain": [
              "           algorithm  precision  recall\n",
              "0            XGBoost       0.90    0.80\n",
              "1    XGBoost Tuneado       0.91    0.72\n",
              "2           Catboost       0.92    0.78\n",
              "3                 RF       0.92    0.79\n",
              "4         RF Tuneado       0.96    0.69\n",
              "5  Arbol de Decision       0.81    0.79"
            ],
            "text/html": [
              "\n",
              "  <div id=\"df-ede01bb8-7517-4255-92b2-3cd12a093759\" class=\"colab-df-container\">\n",
              "    <div>\n",
              "<style scoped>\n",
              "    .dataframe tbody tr th:only-of-type {\n",
              "        vertical-align: middle;\n",
              "    }\n",
              "\n",
              "    .dataframe tbody tr th {\n",
              "        vertical-align: top;\n",
              "    }\n",
              "\n",
              "    .dataframe thead th {\n",
              "        text-align: right;\n",
              "    }\n",
              "</style>\n",
              "<table border=\"1\" class=\"dataframe\">\n",
              "  <thead>\n",
              "    <tr style=\"text-align: right;\">\n",
              "      <th></th>\n",
              "      <th>algorithm</th>\n",
              "      <th>precision</th>\n",
              "      <th>recall</th>\n",
              "    </tr>\n",
              "  </thead>\n",
              "  <tbody>\n",
              "    <tr>\n",
              "      <th>0</th>\n",
              "      <td>XGBoost</td>\n",
              "      <td>0.90</td>\n",
              "      <td>0.80</td>\n",
              "    </tr>\n",
              "    <tr>\n",
              "      <th>1</th>\n",
              "      <td>XGBoost Tuneado</td>\n",
              "      <td>0.91</td>\n",
              "      <td>0.72</td>\n",
              "    </tr>\n",
              "    <tr>\n",
              "      <th>2</th>\n",
              "      <td>Catboost</td>\n",
              "      <td>0.92</td>\n",
              "      <td>0.78</td>\n",
              "    </tr>\n",
              "    <tr>\n",
              "      <th>3</th>\n",
              "      <td>RF</td>\n",
              "      <td>0.92</td>\n",
              "      <td>0.79</td>\n",
              "    </tr>\n",
              "    <tr>\n",
              "      <th>4</th>\n",
              "      <td>RF Tuneado</td>\n",
              "      <td>0.96</td>\n",
              "      <td>0.69</td>\n",
              "    </tr>\n",
              "    <tr>\n",
              "      <th>5</th>\n",
              "      <td>Arbol de Decision</td>\n",
              "      <td>0.81</td>\n",
              "      <td>0.79</td>\n",
              "    </tr>\n",
              "  </tbody>\n",
              "</table>\n",
              "</div>\n",
              "    <div class=\"colab-df-buttons\">\n",
              "\n",
              "  <div class=\"colab-df-container\">\n",
              "    <button class=\"colab-df-convert\" onclick=\"convertToInteractive('df-ede01bb8-7517-4255-92b2-3cd12a093759')\"\n",
              "            title=\"Convert this dataframe to an interactive table.\"\n",
              "            style=\"display:none;\">\n",
              "\n",
              "  <svg xmlns=\"http://www.w3.org/2000/svg\" height=\"24px\" viewBox=\"0 -960 960 960\">\n",
              "    <path d=\"M120-120v-720h720v720H120Zm60-500h600v-160H180v160Zm220 220h160v-160H400v160Zm0 220h160v-160H400v160ZM180-400h160v-160H180v160Zm440 0h160v-160H620v160ZM180-180h160v-160H180v160Zm440 0h160v-160H620v160Z\"/>\n",
              "  </svg>\n",
              "    </button>\n",
              "\n",
              "  <style>\n",
              "    .colab-df-container {\n",
              "      display:flex;\n",
              "      gap: 12px;\n",
              "    }\n",
              "\n",
              "    .colab-df-convert {\n",
              "      background-color: #E8F0FE;\n",
              "      border: none;\n",
              "      border-radius: 50%;\n",
              "      cursor: pointer;\n",
              "      display: none;\n",
              "      fill: #1967D2;\n",
              "      height: 32px;\n",
              "      padding: 0 0 0 0;\n",
              "      width: 32px;\n",
              "    }\n",
              "\n",
              "    .colab-df-convert:hover {\n",
              "      background-color: #E2EBFA;\n",
              "      box-shadow: 0px 1px 2px rgba(60, 64, 67, 0.3), 0px 1px 3px 1px rgba(60, 64, 67, 0.15);\n",
              "      fill: #174EA6;\n",
              "    }\n",
              "\n",
              "    .colab-df-buttons div {\n",
              "      margin-bottom: 4px;\n",
              "    }\n",
              "\n",
              "    [theme=dark] .colab-df-convert {\n",
              "      background-color: #3B4455;\n",
              "      fill: #D2E3FC;\n",
              "    }\n",
              "\n",
              "    [theme=dark] .colab-df-convert:hover {\n",
              "      background-color: #434B5C;\n",
              "      box-shadow: 0px 1px 3px 1px rgba(0, 0, 0, 0.15);\n",
              "      filter: drop-shadow(0px 1px 2px rgba(0, 0, 0, 0.3));\n",
              "      fill: #FFFFFF;\n",
              "    }\n",
              "  </style>\n",
              "\n",
              "    <script>\n",
              "      const buttonEl =\n",
              "        document.querySelector('#df-ede01bb8-7517-4255-92b2-3cd12a093759 button.colab-df-convert');\n",
              "      buttonEl.style.display =\n",
              "        google.colab.kernel.accessAllowed ? 'block' : 'none';\n",
              "\n",
              "      async function convertToInteractive(key) {\n",
              "        const element = document.querySelector('#df-ede01bb8-7517-4255-92b2-3cd12a093759');\n",
              "        const dataTable =\n",
              "          await google.colab.kernel.invokeFunction('convertToInteractive',\n",
              "                                                    [key], {});\n",
              "        if (!dataTable) return;\n",
              "\n",
              "        const docLinkHtml = 'Like what you see? Visit the ' +\n",
              "          '<a target=\"_blank\" href=https://colab.research.google.com/notebooks/data_table.ipynb>data table notebook</a>'\n",
              "          + ' to learn more about interactive tables.';\n",
              "        element.innerHTML = '';\n",
              "        dataTable['output_type'] = 'display_data';\n",
              "        await google.colab.output.renderOutput(dataTable, element);\n",
              "        const docLink = document.createElement('div');\n",
              "        docLink.innerHTML = docLinkHtml;\n",
              "        element.appendChild(docLink);\n",
              "      }\n",
              "    </script>\n",
              "  </div>\n",
              "\n",
              "\n",
              "<div id=\"df-2b91a251-b315-4846-a9ea-5bf0182e39ff\">\n",
              "  <button class=\"colab-df-quickchart\" onclick=\"quickchart('df-2b91a251-b315-4846-a9ea-5bf0182e39ff')\"\n",
              "            title=\"Suggest charts.\"\n",
              "            style=\"display:none;\">\n",
              "\n",
              "<svg xmlns=\"http://www.w3.org/2000/svg\" height=\"24px\"viewBox=\"0 0 24 24\"\n",
              "     width=\"24px\">\n",
              "    <g>\n",
              "        <path d=\"M19 3H5c-1.1 0-2 .9-2 2v14c0 1.1.9 2 2 2h14c1.1 0 2-.9 2-2V5c0-1.1-.9-2-2-2zM9 17H7v-7h2v7zm4 0h-2V7h2v10zm4 0h-2v-4h2v4z\"/>\n",
              "    </g>\n",
              "</svg>\n",
              "  </button>\n",
              "\n",
              "<style>\n",
              "  .colab-df-quickchart {\n",
              "      --bg-color: #E8F0FE;\n",
              "      --fill-color: #1967D2;\n",
              "      --hover-bg-color: #E2EBFA;\n",
              "      --hover-fill-color: #174EA6;\n",
              "      --disabled-fill-color: #AAA;\n",
              "      --disabled-bg-color: #DDD;\n",
              "  }\n",
              "\n",
              "  [theme=dark] .colab-df-quickchart {\n",
              "      --bg-color: #3B4455;\n",
              "      --fill-color: #D2E3FC;\n",
              "      --hover-bg-color: #434B5C;\n",
              "      --hover-fill-color: #FFFFFF;\n",
              "      --disabled-bg-color: #3B4455;\n",
              "      --disabled-fill-color: #666;\n",
              "  }\n",
              "\n",
              "  .colab-df-quickchart {\n",
              "    background-color: var(--bg-color);\n",
              "    border: none;\n",
              "    border-radius: 50%;\n",
              "    cursor: pointer;\n",
              "    display: none;\n",
              "    fill: var(--fill-color);\n",
              "    height: 32px;\n",
              "    padding: 0;\n",
              "    width: 32px;\n",
              "  }\n",
              "\n",
              "  .colab-df-quickchart:hover {\n",
              "    background-color: var(--hover-bg-color);\n",
              "    box-shadow: 0 1px 2px rgba(60, 64, 67, 0.3), 0 1px 3px 1px rgba(60, 64, 67, 0.15);\n",
              "    fill: var(--button-hover-fill-color);\n",
              "  }\n",
              "\n",
              "  .colab-df-quickchart-complete:disabled,\n",
              "  .colab-df-quickchart-complete:disabled:hover {\n",
              "    background-color: var(--disabled-bg-color);\n",
              "    fill: var(--disabled-fill-color);\n",
              "    box-shadow: none;\n",
              "  }\n",
              "\n",
              "  .colab-df-spinner {\n",
              "    border: 2px solid var(--fill-color);\n",
              "    border-color: transparent;\n",
              "    border-bottom-color: var(--fill-color);\n",
              "    animation:\n",
              "      spin 1s steps(1) infinite;\n",
              "  }\n",
              "\n",
              "  @keyframes spin {\n",
              "    0% {\n",
              "      border-color: transparent;\n",
              "      border-bottom-color: var(--fill-color);\n",
              "      border-left-color: var(--fill-color);\n",
              "    }\n",
              "    20% {\n",
              "      border-color: transparent;\n",
              "      border-left-color: var(--fill-color);\n",
              "      border-top-color: var(--fill-color);\n",
              "    }\n",
              "    30% {\n",
              "      border-color: transparent;\n",
              "      border-left-color: var(--fill-color);\n",
              "      border-top-color: var(--fill-color);\n",
              "      border-right-color: var(--fill-color);\n",
              "    }\n",
              "    40% {\n",
              "      border-color: transparent;\n",
              "      border-right-color: var(--fill-color);\n",
              "      border-top-color: var(--fill-color);\n",
              "    }\n",
              "    60% {\n",
              "      border-color: transparent;\n",
              "      border-right-color: var(--fill-color);\n",
              "    }\n",
              "    80% {\n",
              "      border-color: transparent;\n",
              "      border-right-color: var(--fill-color);\n",
              "      border-bottom-color: var(--fill-color);\n",
              "    }\n",
              "    90% {\n",
              "      border-color: transparent;\n",
              "      border-bottom-color: var(--fill-color);\n",
              "    }\n",
              "  }\n",
              "</style>\n",
              "\n",
              "  <script>\n",
              "    async function quickchart(key) {\n",
              "      const quickchartButtonEl =\n",
              "        document.querySelector('#' + key + ' button');\n",
              "      quickchartButtonEl.disabled = true;  // To prevent multiple clicks.\n",
              "      quickchartButtonEl.classList.add('colab-df-spinner');\n",
              "      try {\n",
              "        const charts = await google.colab.kernel.invokeFunction(\n",
              "            'suggestCharts', [key], {});\n",
              "      } catch (error) {\n",
              "        console.error('Error during call to suggestCharts:', error);\n",
              "      }\n",
              "      quickchartButtonEl.classList.remove('colab-df-spinner');\n",
              "      quickchartButtonEl.classList.add('colab-df-quickchart-complete');\n",
              "    }\n",
              "    (() => {\n",
              "      let quickchartButtonEl =\n",
              "        document.querySelector('#df-2b91a251-b315-4846-a9ea-5bf0182e39ff button');\n",
              "      quickchartButtonEl.style.display =\n",
              "        google.colab.kernel.accessAllowed ? 'block' : 'none';\n",
              "    })();\n",
              "  </script>\n",
              "</div>\n",
              "    </div>\n",
              "  </div>\n"
            ]
          },
          "metadata": {},
          "execution_count": 52
        }
      ]
    },
    {
      "cell_type": "code",
      "metadata": {
        "colab": {
          "base_uri": "https://localhost:8080/"
        },
        "id": "morZL1L6o_Ic",
        "outputId": "b4f13556-f979-4841-a079-d3d861c5f12d"
      },
      "source": [
        "#Let's use accuracy score\n",
        "from sklearn.metrics import accuracy_score\n",
        "\n",
        "print(\"Accuracy for model 1: %.2f\" % (accuracy_score(y_test, pred1) * 100))\n",
        "print(\"Accuracy for model 2: %.2f\" % (accuracy_score(y_test, pred2) * 100))\n",
        "print(\"Accuracy for model 3: %.2f\" % (accuracy_score(y_test, pred3) * 100))\n",
        "print(\"Accuracy for model 4: %.2f\" % (accuracy_score(y_test, pred4) * 100))\n",
        "print(\"Accuracy for model 5: %.2f\" % (accuracy_score(y_test, pred5) * 100))\n",
        "print(\"Accuracy for model 6: %.2f\" % (accuracy_score(y_test, pred6) * 100))"
      ],
      "execution_count": null,
      "outputs": [
        {
          "output_type": "stream",
          "name": "stdout",
          "text": [
            "Accuracy for model 1: 97.12\n",
            "Accuracy for model 2: 96.38\n",
            "Accuracy for model 3: 97.06\n",
            "Accuracy for model 4: 97.24\n",
            "Accuracy for model 5: 96.72\n",
            "Accuracy for model 6: 96.10\n"
          ]
        }
      ]
    },
    {
      "cell_type": "code",
      "metadata": {
        "colab": {
          "base_uri": "https://localhost:8080/",
          "height": 846
        },
        "id": "q5Xm1yFYoRpp",
        "outputId": "0c40db36-bad5-4afd-f6a0-2f5b2249a92c"
      },
      "source": [
        "from sklearn.metrics import confusion_matrix\n",
        "from matplotlib import pyplot as plt\n",
        "\n",
        "# EVLUANDO LA MATRIZ DE CONFUSION\n",
        "#--------------------------------------------------------------------\n",
        "conf_mat = confusion_matrix(y_true=y_test, y_pred=pred4) ##Modificar al modelo\n",
        "#--------------------------------------------------------------------\n",
        "\n",
        "print('Matriz de Confusión MODELO GANADOR:\\n', conf_mat)\n",
        "\n",
        "print('Métricas de Matriz de Confusión - MODELO GANADOR:\\n',classification_report(y_test,pred4))\n",
        "\n",
        "labels = ['Class 0', 'Class 1']\n",
        "fig = plt.figure()\n",
        "ax = fig.add_subplot(111)\n",
        "cax = ax.matshow(conf_mat, cmap=plt.cm.Blues)\n",
        "fig.colorbar(cax)\n",
        "ax.set_xticklabels([''] + labels)\n",
        "ax.set_yticklabels([''] + labels)\n",
        "plt.xlabel('Predicted')\n",
        "plt.ylabel('Expected')\n",
        "plt.show()"
      ],
      "execution_count": null,
      "outputs": [
        {
          "output_type": "stream",
          "name": "stdout",
          "text": [
            "Matriz de Confusión MODELO GANADOR:\n",
            " [[4484   36]\n",
            " [ 115  397]]\n",
            "Métricas de Matriz de Confusión - MODELO GANADOR:\n",
            "               precision    recall  f1-score   support\n",
            "\n",
            "         0.0       0.97      0.99      0.98      4520\n",
            "         1.0       0.92      0.78      0.84       512\n",
            "\n",
            "    accuracy                           0.97      5032\n",
            "   macro avg       0.95      0.88      0.91      5032\n",
            "weighted avg       0.97      0.97      0.97      5032\n",
            "\n"
          ]
        },
        {
          "output_type": "stream",
          "name": "stderr",
          "text": [
            "<ipython-input-83-e5330b5590e1>:18: UserWarning: FixedFormatter should only be used together with FixedLocator\n",
            "  ax.set_xticklabels([''] + labels)\n",
            "<ipython-input-83-e5330b5590e1>:19: UserWarning: FixedFormatter should only be used together with FixedLocator\n",
            "  ax.set_yticklabels([''] + labels)\n"
          ]
        },
        {
          "output_type": "display_data",
          "data": {
            "text/plain": [
              "<Figure size 1600x900 with 2 Axes>"
            ],
            "image/png": "[encoded data removed]"
          },
          "metadata": {}
        }
      ]
    },
    {
      "cell_type": "code",
      "metadata": {
        "colab": {
          "base_uri": "https://localhost:8080/",
          "height": 820
        },
        "id": "0SK8kppH1xtg",
        "outputId": "8d95e485-e187-42dd-b900-22c7022d3a25"
      },
      "source": [
        "# Para los modelos con XGBoost se puede sacar un grafico de importancia\n",
        "# LA PARTICIPACIÓN DE CADA VARIABLE\n",
        "from xgboost import plot_importance\n",
        "from matplotlib import pyplot\n",
        "\n",
        "plot_importance(model1)\n",
        "pyplot.show()"
      ],
      "execution_count": null,
      "outputs": [
        {
          "output_type": "display_data",
          "data": {
            "text/plain": [
              "<Figure size 1600x900 with 1 Axes>"
            ],
            "image/png": "[encoded data removed]"
          },
          "metadata": {}
        }
      ]
    }
  ]
}