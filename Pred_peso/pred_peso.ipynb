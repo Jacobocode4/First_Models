{
  "cells": [
    {
      "cell_type": "markdown",
      "metadata": {
        "id": "J8Ffk2-es8Pk"
      },
      "source": [
        "# Enunciado"
      ]
    },
    {
      "cell_type": "markdown",
      "metadata": {
        "id": "BU1TR1nKs_p6"
      },
      "source": [
        "Vas a crear un modelo que en base a una altura (en metros) de una persona deberá predecir la del peso (en Kg).\n",
        "\n",
        "- Crea un nuevo archivo CSV similar al de Celsius/Fahrenheit, solo que este tendrá datos de altura y peso.\n",
        "- Ingresa al menos 10 registros de altura y su peso correspondiente. Pueden ser datos de tus familiares, amigos, o de internet.\n",
        "- Realiza el entrenamiento del modelo de regresión lineal, igual que en la lección \"Tu primer modelo: regresión lineal\".\n",
        "- Una vez entrenado intenta hacer predicciones, ingresando una altura, y que regrese el peso estimado.\n",
        "- ¿Funciona bien o no? ¿Por qué crees que es así?"
      ]
    },
    {
      "cell_type": "markdown",
      "metadata": {
        "id": "xtxgjoDItKwr"
      },
      "source": [
        "# Resolución"
      ]
    },
    {
      "cell_type": "markdown",
      "metadata": {
        "id": "yopW0EIvAj7X"
      },
      "source": [
        "## Datos"
      ]
    },
    {
      "cell_type": "markdown",
      "metadata": {
        "id": "2O7l310MtM3S"
      },
      "source": [
        "### Crear el CSV"
      ]
    },
    {
      "cell_type": "markdown",
      "metadata": {
        "id": "LjD30tMvtPWI"
      },
      "source": [
        "Para no complicarme y tener que recolectar datos manualmente o utilizar programas externos (para escribir el archivo), lo haré de la siguiente manera:\n",
        "\n",
        "- Los datos serán alturas aleatorias y el peso que tendría que tener para sacar un IMC entre 18.5 y 24.9. Intentaré sacarlos de manera programática.\n",
        "- Asimismo, generaré el archivo CSV mediante código (sin usar `pandas`).\n",
        "- El resto ya se la saben, pero lo iré comentando sobre la marcha de igual manera."
      ]
    },
    {
      "cell_type": "code",
      "execution_count": 1,
      "metadata": {
        "id": "YmENurzuvt2q"
      },
      "outputs": [],
      "source": [
        "import random as rd\n",
        "\n",
        "rd.seed(95)\n",
        "\n",
        "# Multiplica la altura al cuadrado por el IMC (aleatorio entre 18.5 y 24.9), lo que da como resultado el peso que debería tener la persona para sacar dicho IMC\n",
        "calcular_peso = lambda altura : round(round(rd.uniform(18.5, 24.9), 2) * altura**2, 2)"
      ]
    },
    {
      "cell_type": "code",
      "execution_count": 2,
      "metadata": {
        "id": "TU6AjFeps7_1"
      },
      "outputs": [],
      "source": [
        "with open(\"personas.csv\", \"a\") as f:\n",
        "  f.write(\"altura,peso\\n\") # escribimos el archivo desde cero, por lo que empezamos con los encabezados\n",
        "  for _ in range(250): # Sí, 250 entradas. No importa el número que ponga, así que, ¿para qué conformarme con 10?\n",
        "    altura = round(rd.uniform(1.35, 1.95), 2) # ése será el rango de alturas\n",
        "    peso = calcular_peso(altura)\n",
        "    f.write(f\"{altura},{peso}\\n\")"
      ]
    },
    {
      "cell_type": "markdown",
      "metadata": {
        "id": "OHV7xjI09WDA"
      },
      "source": [
        "### Revisar"
      ]
    },
    {
      "cell_type": "markdown",
      "metadata": {
        "id": "A-c6bNAG9ajZ"
      },
      "source": [
        "Ahora sí, vamos a usar `pandas` para leerlos y mostrar cierta información de interés."
      ]
    },
    {
      "cell_type": "code",
      "execution_count": 3,
      "metadata": {
        "id": "D1BEOU33s27H"
      },
      "outputs": [],
      "source": [
        "import pandas as pd"
      ]
    },
    {
      "cell_type": "code",
      "execution_count": 4,
      "metadata": {
        "id": "iBVzj5R93mx6"
      },
      "outputs": [],
      "source": [
        "datos = pd.read_csv(\"personas.csv\")"
      ]
    },
    {
      "cell_type": "code",
      "execution_count": 5,
      "metadata": {
        "colab": {
          "base_uri": "https://localhost:8080/",
          "height": 206
        },
        "id": "Q7qlQdhS5XaJ",
        "outputId": "387ee4da-17cb-4b51-c09b-0d805bfe02cf"
      },
      "outputs": [
        {
          "data": {
            "text/html": [
              "<div>\n",
              "<style scoped>\n",
              "    .dataframe tbody tr th:only-of-type {\n",
              "        vertical-align: middle;\n",
              "    }\n",
              "\n",
              "    .dataframe tbody tr th {\n",
              "        vertical-align: top;\n",
              "    }\n",
              "\n",
              "    .dataframe thead th {\n",
              "        text-align: right;\n",
              "    }\n",
              "</style>\n",
              "<table border=\"1\" class=\"dataframe\">\n",
              "  <thead>\n",
              "    <tr style=\"text-align: right;\">\n",
              "      <th></th>\n",
              "      <th>altura</th>\n",
              "      <th>peso</th>\n",
              "    </tr>\n",
              "  </thead>\n",
              "  <tbody>\n",
              "    <tr>\n",
              "      <th>0</th>\n",
              "      <td>1.81</td>\n",
              "      <td>71.39</td>\n",
              "    </tr>\n",
              "    <tr>\n",
              "      <th>1</th>\n",
              "      <td>1.95</td>\n",
              "      <td>83.46</td>\n",
              "    </tr>\n",
              "    <tr>\n",
              "      <th>2</th>\n",
              "      <td>1.91</td>\n",
              "      <td>70.48</td>\n",
              "    </tr>\n",
              "    <tr>\n",
              "      <th>3</th>\n",
              "      <td>1.65</td>\n",
              "      <td>52.79</td>\n",
              "    </tr>\n",
              "    <tr>\n",
              "      <th>4</th>\n",
              "      <td>1.36</td>\n",
              "      <td>35.22</td>\n",
              "    </tr>\n",
              "  </tbody>\n",
              "</table>\n",
              "</div>"
            ],
            "text/plain": [
              "   altura   peso\n",
              "0    1.81  71.39\n",
              "1    1.95  83.46\n",
              "2    1.91  70.48\n",
              "3    1.65  52.79\n",
              "4    1.36  35.22"
            ]
          },
          "execution_count": 5,
          "metadata": {},
          "output_type": "execute_result"
        }
      ],
      "source": [
        "datos.head()"
      ]
    },
    {
      "cell_type": "code",
      "execution_count": 6,
      "metadata": {
        "colab": {
          "base_uri": "https://localhost:8080/"
        },
        "id": "uiOrVOjN4p5j",
        "outputId": "f7580844-8b2d-42b3-f71d-0ff75f8f348e"
      },
      "outputs": [
        {
          "name": "stdout",
          "output_type": "stream",
          "text": [
            "<class 'pandas.core.frame.DataFrame'>\n",
            "RangeIndex: 250 entries, 0 to 249\n",
            "Data columns (total 2 columns):\n",
            " #   Column  Non-Null Count  Dtype  \n",
            "---  ------  --------------  -----  \n",
            " 0   altura  250 non-null    float64\n",
            " 1   peso    250 non-null    float64\n",
            "dtypes: float64(2)\n",
            "memory usage: 4.0 KB\n"
          ]
        }
      ],
      "source": [
        "datos.info()"
      ]
    },
    {
      "cell_type": "markdown",
      "metadata": {
        "id": "fi87pVEi4tbl"
      },
      "source": [
        "Perfecto. Sé que no se pide, pero antes de continuar, voy a graficar los datos"
      ]
    },
    {
      "cell_type": "code",
      "execution_count": 7,
      "metadata": {
        "id": "WnuFT66EWIt4"
      },
      "outputs": [],
      "source": [
        "import seaborn as sb"
      ]
    },
    {
      "cell_type": "code",
      "execution_count": 8,
      "metadata": {
        "colab": {
          "base_uri": "https://localhost:8080/",
          "height": 466
        },
        "id": "oPbsPR2GWLzw",
        "outputId": "0b0638ad-ad1e-4a54-a498-818d17830dc4"
      },
      "outputs": [
        {
          "data": {
            "text/plain": [
              "<Axes: xlabel='altura', ylabel='peso'>"
            ]
          },
          "execution_count": 8,
          "metadata": {},
          "output_type": "execute_result"
        },
        {
          "data": {
            "image/png": "[encoded data removed]",
            "text/plain": [
              "<Figure size 640x480 with 1 Axes>"
            ]
          },
          "metadata": {},
          "output_type": "display_data"
        }
      ],
      "source": [
        "sb.scatterplot(x=\"altura\", y=\"peso\", data=datos)"
      ]
    },
    {
      "cell_type": "markdown",
      "metadata": {
        "id": "0a0rcFgnAeXT"
      },
      "source": [
        "### Procesar"
      ]
    },
    {
      "cell_type": "markdown",
      "metadata": {
        "id": "BN4iqGQn9Be9"
      },
      "source": [
        "Ahora toca pasar los datos a arreglos de arreglos. Pero primero, ya que antes generamos 250 entradas y hay más que de sobra, voy a reservar 215 para entrenamiento y 35 para validación, de manera que más adelante puedo evaluar la precisión del modelo con datos que no ha visto antes."
      ]
    },
    {
      "cell_type": "code",
      "execution_count": 9,
      "metadata": {
        "id": "Ih6zAYtp9AxA"
      },
      "outputs": [],
      "source": [
        "x_entrenamiento = datos[\"altura\"][:215]\n",
        "y_entrenamiento = datos[\"peso\"][:215]\n",
        "\n",
        "x_validacion = datos[\"altura\"][215:]\n",
        "y_validacion = datos[\"peso\"][215:]"
      ]
    },
    {
      "cell_type": "code",
      "execution_count": 10,
      "metadata": {
        "colab": {
          "base_uri": "https://localhost:8080/"
        },
        "id": "CUXczU64-RSk",
        "outputId": "7c8475ed-2bd9-4e60-c9cc-819559e76898"
      },
      "outputs": [
        {
          "data": {
            "text/plain": [
              "0      1.81\n",
              "1      1.95\n",
              "2      1.91\n",
              "3      1.65\n",
              "4      1.36\n",
              "       ... \n",
              "210    1.79\n",
              "211    1.76\n",
              "212    1.70\n",
              "213    1.59\n",
              "214    1.54\n",
              "Name: altura, Length: 215, dtype: float64"
            ]
          },
          "execution_count": 10,
          "metadata": {},
          "output_type": "execute_result"
        }
      ],
      "source": [
        "x_entrenamiento"
      ]
    },
    {
      "cell_type": "markdown",
      "metadata": {
        "id": "5o-e_5snARuP"
      },
      "source": [
        "La división de los datos ha salido bien. Ahora usamos `.reshape()` para convertir los 4 arreglos en arreglos de arreglos, y ya estarían listos"
      ]
    },
    {
      "cell_type": "code",
      "execution_count": 11,
      "metadata": {
        "id": "vG1bvwYf-l7l"
      },
      "outputs": [],
      "source": [
        "x_entrenamiento = x_entrenamiento.values.reshape(-1, 1)\n",
        "y_entrenamiento = y_entrenamiento.values.reshape(-1, 1)\n",
        "\n",
        "x_validacion = x_validacion.values.reshape(-1, 1)\n",
        "y_validacion = y_validacion.values.reshape(-1, 1)"
      ]
    },
    {
      "cell_type": "code",
      "execution_count": 12,
      "metadata": {
        "colab": {
          "base_uri": "https://localhost:8080/"
        },
        "id": "QZmtYTkI_w5a",
        "outputId": "e9f4d66c-0aae-4b71-cace-a16ba64bdb01"
      },
      "outputs": [
        {
          "name": "stdout",
          "output_type": "stream",
          "text": [
            "[[1.81]\n",
            " [1.95]\n",
            " [1.91]\n",
            " [1.65]\n",
            " [1.36]]\n"
          ]
        }
      ],
      "source": [
        "print(x_entrenamiento[:5])"
      ]
    },
    {
      "cell_type": "markdown",
      "metadata": {
        "id": "n0w2CXLTAqFU"
      },
      "source": [
        "## Modelo"
      ]
    },
    {
      "cell_type": "markdown",
      "metadata": {
        "id": "3ecCTKNgBT1i"
      },
      "source": [
        "### Crear y entrenar"
      ]
    },
    {
      "cell_type": "markdown",
      "metadata": {
        "id": "U_8wASTcA2e7"
      },
      "source": [
        "Como bien he mencionado anteriormente, un modelo de regresión lineal está perfecto para éste caso. Lo creamos y entrenamos con los arreglos que reservé para el entrenamiento."
      ]
    },
    {
      "cell_type": "code",
      "execution_count": 13,
      "metadata": {
        "id": "spt8wAAbftZ7"
      },
      "outputs": [],
      "source": [
        "from sklearn.linear_model import LinearRegression"
      ]
    },
    {
      "cell_type": "code",
      "execution_count": 14,
      "metadata": {
        "id": "f7JsatACfxNO"
      },
      "outputs": [],
      "source": [
        "modelo = LinearRegression()"
      ]
    },
    {
      "cell_type": "code",
      "execution_count": 15,
      "metadata": {
        "colab": {
          "base_uri": "https://localhost:8080/",
          "height": 75
        },
        "id": "YsaoR6itf3fp",
        "outputId": "de6b7f77-7e02-438b-b4ba-b3604587132c"
      },
      "outputs": [
        {
          "data": {
            "text/html": [
              "<style>#sk-container-id-1 {color: black;}#sk-container-id-1 pre{padding: 0;}#sk-container-id-1 div.sk-toggleable {background-color: white;}#sk-container-id-1 label.sk-toggleable__label {cursor: pointer;display: block;width: 100%;margin-bottom: 0;padding: 0.3em;box-sizing: border-box;text-align: center;}#sk-container-id-1 label.sk-toggleable__label-arrow:before {content: \"▸\";float: left;margin-right: 0.25em;color: #696969;}#sk-container-id-1 label.sk-toggleable__label-arrow:hover:before {color: black;}#sk-container-id-1 div.sk-estimator:hover label.sk-toggleable__label-arrow:before {color: black;}#sk-container-id-1 div.sk-toggleable__content {max-height: 0;max-width: 0;overflow: hidden;text-align: left;background-color: #f0f8ff;}#sk-container-id-1 div.sk-toggleable__content pre {margin: 0.2em;color: black;border-radius: 0.25em;background-color: #f0f8ff;}#sk-container-id-1 input.sk-toggleable__control:checked~div.sk-toggleable__content {max-height: 200px;max-width: 100%;overflow: auto;}#sk-container-id-1 input.sk-toggleable__control:checked~label.sk-toggleable__label-arrow:before {content: \"▾\";}#sk-container-id-1 div.sk-estimator input.sk-toggleable__control:checked~label.sk-toggleable__label {background-color: #d4ebff;}#sk-container-id-1 div.sk-label input.sk-toggleable__control:checked~label.sk-toggleable__label {background-color: #d4ebff;}#sk-container-id-1 input.sk-hidden--visually {border: 0;clip: rect(1px 1px 1px 1px);clip: rect(1px, 1px, 1px, 1px);height: 1px;margin: -1px;overflow: hidden;padding: 0;position: absolute;width: 1px;}#sk-container-id-1 div.sk-estimator {font-family: monospace;background-color: #f0f8ff;border: 1px dotted black;border-radius: 0.25em;box-sizing: border-box;margin-bottom: 0.5em;}#sk-container-id-1 div.sk-estimator:hover {background-color: #d4ebff;}#sk-container-id-1 div.sk-parallel-item::after {content: \"\";width: 100%;border-bottom: 1px solid gray;flex-grow: 1;}#sk-container-id-1 div.sk-label:hover label.sk-toggleable__label {background-color: #d4ebff;}#sk-container-id-1 div.sk-serial::before {content: \"\";position: absolute;border-left: 1px solid gray;box-sizing: border-box;top: 0;bottom: 0;left: 50%;z-index: 0;}#sk-container-id-1 div.sk-serial {display: flex;flex-direction: column;align-items: center;background-color: white;padding-right: 0.2em;padding-left: 0.2em;position: relative;}#sk-container-id-1 div.sk-item {position: relative;z-index: 1;}#sk-container-id-1 div.sk-parallel {display: flex;align-items: stretch;justify-content: center;background-color: white;position: relative;}#sk-container-id-1 div.sk-item::before, #sk-container-id-1 div.sk-parallel-item::before {content: \"\";position: absolute;border-left: 1px solid gray;box-sizing: border-box;top: 0;bottom: 0;left: 50%;z-index: -1;}#sk-container-id-1 div.sk-parallel-item {display: flex;flex-direction: column;z-index: 1;position: relative;background-color: white;}#sk-container-id-1 div.sk-parallel-item:first-child::after {align-self: flex-end;width: 50%;}#sk-container-id-1 div.sk-parallel-item:last-child::after {align-self: flex-start;width: 50%;}#sk-container-id-1 div.sk-parallel-item:only-child::after {width: 0;}#sk-container-id-1 div.sk-dashed-wrapped {border: 1px dashed gray;margin: 0 0.4em 0.5em 0.4em;box-sizing: border-box;padding-bottom: 0.4em;background-color: white;}#sk-container-id-1 div.sk-label label {font-family: monospace;font-weight: bold;display: inline-block;line-height: 1.2em;}#sk-container-id-1 div.sk-label-container {text-align: center;}#sk-container-id-1 div.sk-container {/* jupyter's `normalize.less` sets `[hidden] { display: none; }` but bootstrap.min.css set `[hidden] { display: none !important; }` so we also need the `!important` here to be able to override the default hidden behavior on the sphinx rendered scikit-learn.org. See: https://github.com/scikit-learn/scikit-learn/issues/21755 */display: inline-block !important;position: relative;}#sk-container-id-1 div.sk-text-repr-fallback {display: none;}</style><div id=\"sk-container-id-1\" class=\"sk-top-container\"><div class=\"sk-text-repr-fallback\"><pre>LinearRegression()</pre><b>In a Jupyter environment, please rerun this cell to show the HTML representation or trust the notebook. <br />On GitHub, the HTML representation is unable to render, please try loading this page with nbviewer.org.</b></div><div class=\"sk-container\" hidden><div class=\"sk-item\"><div class=\"sk-estimator sk-toggleable\"><input class=\"sk-toggleable__control sk-hidden--visually\" id=\"sk-estimator-id-1\" type=\"checkbox\" checked><label for=\"sk-estimator-id-1\" class=\"sk-toggleable__label sk-toggleable__label-arrow\">LinearRegression</label><div class=\"sk-toggleable__content\"><pre>LinearRegression()</pre></div></div></div></div></div>"
            ],
            "text/plain": [
              "LinearRegression()"
            ]
          },
          "execution_count": 15,
          "metadata": {},
          "output_type": "execute_result"
        }
      ],
      "source": [
        "modelo.fit(x_entrenamiento, y_entrenamiento)"
      ]
    },
    {
      "cell_type": "markdown",
      "metadata": {
        "id": "eIC4AU13BbCx"
      },
      "source": [
        "### Evaluar"
      ]
    },
    {
      "cell_type": "code",
      "execution_count": 16,
      "metadata": {
        "colab": {
          "base_uri": "https://localhost:8080/"
        },
        "id": "hk2W0dIoBccN",
        "outputId": "978be060-1c1b-4376-cd3c-9eb4b0fac89b"
      },
      "outputs": [
        {
          "data": {
            "text/plain": [
              "0.796599188241405"
            ]
          },
          "execution_count": 16,
          "metadata": {},
          "output_type": "execute_result"
        }
      ],
      "source": [
        "modelo.score(x_validacion, y_validacion)"
      ]
    },
    {
      "cell_type": "markdown",
      "metadata": {
        "id": "SSYfk4DUBm2s"
      },
      "source": [
        "Ya que `.score()` devuelve un valor entre 0 y 1, eso es un 79.67% de precisión aprox. Entiendo que no está realmente mal y se podría considerar aumentar los datos (o modificar la manera en la que se han generado) para experimentar."
      ]
    },
    {
      "cell_type": "markdown",
      "metadata": {
        "id": "U1slgPVOB49n"
      },
      "source": [
        "### Guardar"
      ]
    },
    {
      "cell_type": "markdown",
      "metadata": {
        "id": "kWnpAvbOB6yu"
      },
      "source": [
        "Igualmente, es una precisión valorable como para guardar el modelo. Con una búsqueda en Google he encontrado [una página de la documentación de scikit-learn](https://scikit-learn.org/stable/model_persistence.html) que recomienda un método para conservar el modelo usando `joblib`"
      ]
    },
    {
      "cell_type": "code",
      "execution_count": 17,
      "metadata": {
        "id": "ORe1wZVFhUVk"
      },
      "outputs": [
        {
          "ename": "ModuleNotFoundError",
          "evalue": "No module named 'google'",
          "output_type": "error",
          "traceback": [
            "\u001b[1;31m---------------------------------------------------------------------------\u001b[0m",
            "\u001b[1;31mModuleNotFoundError\u001b[0m                       Traceback (most recent call last)",
            "\u001b[1;32mc:\\Users\\jacob\\OneDrive\\Documentos\\Programación\\Intro I.A\\pred_peso.ipynb Cell 39\u001b[0m line \u001b[0;36m2\n\u001b[0;32m      <a href='vscode-notebook-cell:/c%3A/Users/jacob/OneDrive/Documentos/Programaci%C3%B3n/Intro%20I.A/pred_peso.ipynb#X54sZmlsZQ%3D%3D?line=0'>1</a>\u001b[0m \u001b[39mfrom\u001b[39;00m \u001b[39mjoblib\u001b[39;00m \u001b[39mimport\u001b[39;00m dump, load\n\u001b[1;32m----> <a href='vscode-notebook-cell:/c%3A/Users/jacob/OneDrive/Documentos/Programaci%C3%B3n/Intro%20I.A/pred_peso.ipynb#X54sZmlsZQ%3D%3D?line=1'>2</a>\u001b[0m \u001b[39mfrom\u001b[39;00m \u001b[39mgoogle\u001b[39;00m\u001b[39m.\u001b[39;00m\u001b[39mcolab\u001b[39;00m \u001b[39mimport\u001b[39;00m files\n",
            "\u001b[1;31mModuleNotFoundError\u001b[0m: No module named 'google'"
          ]
        }
      ],
      "source": [
        "from joblib import dump, load"
      ]
    },
    {
      "cell_type": "code",
      "execution_count": null,
      "metadata": {
        "colab": {
          "base_uri": "https://localhost:8080/",
          "height": 17
        },
        "id": "8eHPMuZSogQQ",
        "outputId": "6116a30b-05bf-466e-8927-333b73aadb4b"
      },
      "outputs": [
        {
          "data": {
            "application/javascript": "\n    async function download(id, filename, size) {\n      if (!google.colab.kernel.accessAllowed) {\n        return;\n      }\n      const div = document.createElement('div');\n      const label = document.createElement('label');\n      label.textContent = `Downloading \"${filename}\": `;\n      div.appendChild(label);\n      const progress = document.createElement('progress');\n      progress.max = size;\n      div.appendChild(progress);\n      document.body.appendChild(div);\n\n      const buffers = [];\n      let downloaded = 0;\n\n      const channel = await google.colab.kernel.comms.open(id);\n      // Send a message to notify the kernel that we're ready.\n      channel.send({})\n\n      for await (const message of channel.messages) {\n        // Send a message to notify the kernel that we're ready.\n        channel.send({})\n        if (message.buffers) {\n          for (const buffer of message.buffers) {\n            buffers.push(buffer);\n            downloaded += buffer.byteLength;\n            progress.value = downloaded;\n          }\n        }\n      }\n      const blob = new Blob(buffers, {type: 'application/binary'});\n      const a = document.createElement('a');\n      a.href = window.URL.createObjectURL(blob);\n      a.download = filename;\n      div.appendChild(a);\n      a.click();\n      div.remove();\n    }\n  ",
            "text/plain": [
              "<IPython.core.display.Javascript object>"
            ]
          },
          "metadata": {},
          "output_type": "display_data"
        },
        {
          "data": {
            "application/javascript": "download(\"download_facf171f-4ad6-449d-a911-428601849717\", \"modelo.joblib\", 559)",
            "text/plain": [
              "<IPython.core.display.Javascript object>"
            ]
          },
          "metadata": {},
          "output_type": "display_data"
        }
      ],
      "source": [
        "dump(modelo, 'modelo.joblib')\n",
        "files.download(\"modelo.joblib\")"
      ]
    },
    {
      "cell_type": "markdown",
      "metadata": {
        "id": "oNrXAL1bCZIy"
      },
      "source": [
        "### Cargar"
      ]
    },
    {
      "cell_type": "code",
      "execution_count": null,
      "metadata": {
        "id": "-LtWveySpf_7"
      },
      "outputs": [],
      "source": [
        "modeloCargado = load(\"modelo.joblib\")"
      ]
    },
    {
      "cell_type": "code",
      "execution_count": null,
      "metadata": {
        "colab": {
          "base_uri": "https://localhost:8080/"
        },
        "id": "N_Gi8RUxpuy2",
        "outputId": "98d6bbbe-57bd-4c68-de57-5059f5a5335f"
      },
      "outputs": [
        {
          "data": {
            "text/plain": [
              "0.796599188241405"
            ]
          },
          "execution_count": 20,
          "metadata": {},
          "output_type": "execute_result"
        }
      ],
      "source": [
        "modeloCargado.score(x_validacion, y_validacion)"
      ]
    },
    {
      "cell_type": "markdown",
      "metadata": {
        "id": "3Rnlb5rTDJqF"
      },
      "source": [
        "La precisión de `modelo` y `modeloCargado` son idénticas, lo que confirma que son el mismo y se puede guardar o cargar sin ningún problema."
      ]
    }
  ],
  "metadata": {
    "colab": {
      "provenance": []
    },
    "kernelspec": {
      "display_name": "Python 3",
      "name": "python3"
    },
    "language_info": {
      "codemirror_mode": {
        "name": "ipython",
        "version": 3
      },
      "file_extension": ".py",
      "mimetype": "text/x-python",
      "name": "python",
      "nbconvert_exporter": "python",
      "pygments_lexer": "ipython3",
      "version": "3.11.5"
    }
  },
  "nbformat": 4,
  "nbformat_minor": 0
}
